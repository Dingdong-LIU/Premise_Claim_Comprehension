{
 "cells": [
  {
   "cell_type": "markdown",
   "metadata": {},
   "source": [
    "# Process Web Json and Find Center claims\n",
    "\n",
    "* Load Web Json file\n",
    "* Extract claims and premises (data parsing)\n",
    "* Find center claims"
   ]
  },
  {
   "cell_type": "code",
   "execution_count": 1,
   "metadata": {},
   "outputs": [],
   "source": [
    "import json\n",
    "import os"
   ]
  },
  {
   "cell_type": "markdown",
   "metadata": {},
   "source": [
    "## Load web data and extract claims"
   ]
  },
  {
   "cell_type": "code",
   "execution_count": 2,
   "metadata": {},
   "outputs": [],
   "source": [
    "from helper_function import count_valid_posts, get_claims\n",
    "import numpy as np"
   ]
  },
  {
   "cell_type": "code",
   "execution_count": 3,
   "metadata": {},
   "outputs": [
    {
     "data": {
      "text/plain": [
       "(67, 78)"
      ]
     },
     "execution_count": 3,
     "metadata": {},
     "output_type": "execute_result"
    }
   ],
   "source": [
    "# data_file_path = '../data/v3_70/Should-I-invest-in-Bitcoin_with_labels_v2_70.json'\n",
    "data_file_path = '../data/v3_70/Would-you-get-into-a-self-driving-car.json'\n",
    "with open(data_file_path, 'r') as f:\n",
    "    json_content = json.load(f)\n",
    "count_valid_posts(json_content)\n"
   ]
  },
  {
   "cell_type": "code",
   "execution_count": 4,
   "metadata": {},
   "outputs": [
    {
     "name": "stdout",
     "output_type": "stream",
     "text": [
      "get 74 claims\n"
     ]
    },
    {
     "data": {
      "text/plain": [
       "['Yes, you would.',\n",
       " 'Its a no brainer',\n",
       " 'Initially the investment might be big, but the ROI is pretty awesome and worth it.',\n",
       " 'You already do. It is called \"taxi\".',\n",
       " 'I already have.',\n",
       " \"I would. However, I admit that, since I don't offer a proper explanation, some here would classify me as a zealot. They would not be wrong.\",\n",
       " 'Absolutely.',\n",
       " 'Absolutely. It will be a while before they are legal for regular people though.',\n",
       " 'I don’t trust them.',\n",
       " 'This is not something I want to be an early adopter with.',\n",
       " 'A properly working one that can drive well? Yeah, I would.',\n",
       " 'I would absolutely buy a car that drives itself.',\n",
       " 'I plan to buy one as soon as the price gets in the range of the regular models.',\n",
       " \"yes. maybe a slow drive at first just to be sure, but I'm confident about this technological future.\",\n",
       " \"I'd consider it, definitely not straight away though - will wait a few years until everything is 100% safe and secure.\",\n",
       " 'I would love to have a robotic driver!!',\n",
       " 'A self-driving car is no fun.',\n",
       " 'All in all, I’ll let the car drive 95% of the time, and maybe take the wheel the other 5%.',\n",
       " 'No, because I have no desire to go into taxi business, and a personal self-driving car is a huge waste of money',\n",
       " 'We would all LOVE to have a fantastic, safe, luxurious living room on wheels that will take us to our destination in style, or let us nap, or watch movies, or whatever.',\n",
       " 'What I mean is, autonomous cars would be great, IF THEY WERE THE ONLY CARS OUT THERE.',\n",
       " \"I love to drive on a nice day with little or no traffic. At all other times, I'll have my car drive for me.\",\n",
       " \"Yes, but not if it's built by Google.\",\n",
       " \"Yes, I will. I'd love to have a chauffer, even if it is a robot.\",\n",
       " 'my definite answer is yes, I will.',\n",
       " 'I most definitely would.',\n",
       " \"In the case I've described two paragraphs above, I'm really lost as to what fact based evidence could be used to chose the human.\",\n",
       " 'I don’t know if I would be as brave on a car someone else programmed - not because I’m smarter, more like the devil you know versus the devil you don’t know kind of thing.',\n",
       " 'I hate the idea of a self driving car.',\n",
       " 'I’ll keep driving my own cars.',\n",
       " 'Yes.',\n",
       " 'Absolutely!',\n",
       " 'Self-driving cars will be as convenient as having your own chauffeur at the price of public transportation.',\n",
       " 'No, there is NO reason to.',\n",
       " 'Yes, as soon as they work and are available at a reasonable price.',\n",
       " 'Yes, definitely.',\n",
       " 'Yes!',\n",
       " \"Maybe. It could be nice on long trips, but I enjoy driving and don't know if I would like giving up the control.\",\n",
       " 'I think eventually I will get to that point. But I think that point’s still a long way off.',\n",
       " 'Yes - in a few years it might be safer than me driving.',\n",
       " 'when I’m driving on the highway no matter how long the trip is, I won’t use the cruse control.',\n",
       " 'My answer is NO!',\n",
       " 'One day it will be everywhere but we arent ready to 100% trust a selfless driving car..',\n",
       " \"I won't drive anything self driving.\",\n",
       " 'Auto, you are welcome to take over.',\n",
       " 'Self-driving vehicles that don’t need a steering wheel or human intervention will not exist in the lifetime of anyone reading this. ',\n",
       " 'Certainly. I did.',\n",
       " 'No. It is too early in the technology to be able to trust the self-driving car.',\n",
       " 'Yes',\n",
       " 'Yes, I would.',\n",
       " 'I would.',\n",
       " 'Absolutely not!',\n",
       " 'Autonomous cars may prove themselves in general to be safe and reliable but there needs to be a way to prove specific vehicles share those qualities.',\n",
       " 'All in all, well, i would still prefer to drive to drive me car on short distance because to me, driving is a pleasure.',\n",
       " \"It's safer than me driving, *even* at this point.\",\n",
       " 'Nope. Absolutely not!',\n",
       " 'Oh, yes, please!',\n",
       " 'Definitely not.',\n",
       " 'I don’t. I value people’s lives more than the effort I lose having to drive myself.',\n",
       " 'Yes, but not always.',\n",
       " 'Not at the time of answering.',\n",
       " 'Yes.',\n",
       " 'Personally, I would never own a self driving car.',\n",
       " 'I may own a Tesla some day, but I would likely not use the autonomous / semi-autonomous functions.',\n",
       " 'Not yet.',\n",
       " 'Not at this point. They need work.',\n",
       " 'Just happens that I enjoy driving, and I’m not giving it to a machine!!',\n",
       " 'Well, I wouldn’t now, but statistically, 90% of accidents are caused by human error.',\n",
       " 'Yes. I have one already that handles most driving tasks.',\n",
       " 'I don’t think I ever would.',\n",
       " 'I guess that depends',\n",
       " 'So no, I wouldn’t pay a dime for it in the current state.',\n",
       " 'Yes, I really would like to have a self-driving car.',\n",
       " 'I don’t think so.']"
      ]
     },
     "execution_count": 4,
     "metadata": {},
     "output_type": "execute_result"
    }
   ],
   "source": [
    "claims = get_claims(json_content)\n",
    "print(f\"get {len(claims)} claims\")\n",
    "claims"
   ]
  },
  {
   "cell_type": "markdown",
   "metadata": {},
   "source": [
    "## Sentiment Analysis"
   ]
  },
  {
   "cell_type": "code",
   "execution_count": 5,
   "metadata": {},
   "outputs": [],
   "source": [
    "from transformers import AutoTokenizer, AutoModel, AutoConfig, AutoModelForSequenceClassification\n",
    "import torch\n",
    "import torch.nn.functional as F\n",
    "\n",
    "def preprocess(text):\n",
    "    new_text = []\n",
    "    for t in text.split(\" \"):\n",
    "        t = '@user' if t.startswith('@') and len(t) > 1 else t\n",
    "        t = 'http' if t.startswith('http') else t\n",
    "        new_text.append(t)\n",
    "    return \" \".join(new_text)\n",
    "\n",
    "sentiment_model_path = '../pretrained_models/twitter-xlm-roberta-base-sentiment'\n",
    "sentiment_tokenizer = AutoTokenizer.from_pretrained(sentiment_model_path)\n",
    "sentiment_config = AutoConfig.from_pretrained(sentiment_model_path)\n",
    "sentiment_model = AutoModelForSequenceClassification.from_pretrained(sentiment_model_path)\n"
   ]
  },
  {
   "cell_type": "code",
   "execution_count": 6,
   "metadata": {},
   "outputs": [
    {
     "name": "stdout",
     "output_type": "stream",
     "text": [
      "{0: 'Negative', 1: 'Neutral', 2: 'Positive'}\n"
     ]
    }
   ],
   "source": [
    "## get sentiment score for each sentence\n",
    "\n",
    "preprocessed_claims = [preprocess(x) for x in claims]\n",
    "sentiment_encodings = sentiment_tokenizer(preprocessed_claims, return_tensors='pt', padding=True, truncation=True, max_length=20)\n",
    "with torch.no_grad():\n",
    "    sentiment_output = sentiment_model(**sentiment_encodings)\n",
    "sentiment_scores = sentiment_output.logits\n",
    "sentiment_probability = F.softmax(sentiment_scores, dim=1).numpy()\n",
    "\n",
    "## positive, neutral, negative\n",
    "print(sentiment_config.id2label)"
   ]
  },
  {
   "cell_type": "code",
   "execution_count": 7,
   "metadata": {},
   "outputs": [
    {
     "data": {
      "text/plain": [
       "array([[0.15413749, 0.43996978, 0.40589276],\n",
       "       [0.954586  , 0.02734914, 0.01806478],\n",
       "       [0.02884259, 0.09021665, 0.8809408 ],\n",
       "       [0.035575  , 0.856702  , 0.10772295],\n",
       "       [0.15311886, 0.606979  , 0.23990217]], dtype=float32)"
      ]
     },
     "execution_count": 7,
     "metadata": {},
     "output_type": "execute_result"
    }
   ],
   "source": [
    "## positive, neutral, negative\n",
    "sentiment_probability[:5]"
   ]
  },
  {
   "cell_type": "markdown",
   "metadata": {},
   "source": [
    "## Get center claims"
   ]
  },
  {
   "cell_type": "code",
   "execution_count": 8,
   "metadata": {},
   "outputs": [],
   "source": [
    "from transformers import AutoTokenizer, AutoModel\n",
    "import torch\n",
    "import torch.nn.functional as F\n",
    "\n",
    "#Mean Pooling - Take attention mask into account for correct averaging\n",
    "def mean_pooling(model_output, attention_mask):\n",
    "    token_embeddings = model_output[0] #First element of model_output contains all token embeddings\n",
    "    input_mask_expanded = attention_mask.unsqueeze(-1).expand(token_embeddings.size()).float()\n",
    "    return torch.sum(token_embeddings * input_mask_expanded, 1) / torch.clamp(input_mask_expanded.sum(1), min=1e-9)"
   ]
  },
  {
   "cell_type": "code",
   "execution_count": 9,
   "metadata": {},
   "outputs": [],
   "source": [
    "# Load model from HuggingFace Hub\n",
    "tokenizer = AutoTokenizer.from_pretrained('../pretrained_models/all-MiniLM-L6-v2')\n",
    "model = AutoModel.from_pretrained('../pretrained_models/all-MiniLM-L6-v2')\n"
   ]
  },
  {
   "cell_type": "code",
   "execution_count": 10,
   "metadata": {},
   "outputs": [],
   "source": [
    "encoded_input = tokenizer(claims, padding=True, truncation=True, return_tensors='pt')\n",
    "with torch.no_grad():\n",
    "    model_output = model(**encoded_input)\n",
    "sentence_embeddings = mean_pooling(model_output, encoded_input['attention_mask'])\n",
    "# Normalization\n",
    "sentence_embeddings = F.normalize(sentence_embeddings, p=2, dim=1).numpy()"
   ]
  },
  {
   "cell_type": "code",
   "execution_count": 11,
   "metadata": {},
   "outputs": [
    {
     "data": {
      "text/plain": [
       "(74, 384)"
      ]
     },
     "execution_count": 11,
     "metadata": {},
     "output_type": "execute_result"
    }
   ],
   "source": [
    "sentence_embeddings = np.array(sentence_embeddings)\n",
    "sentence_embeddings.shape"
   ]
  },
  {
   "cell_type": "code",
   "execution_count": 12,
   "metadata": {},
   "outputs": [],
   "source": [
    "### using PCA method to reduce demension and do visualization\n",
    "from sklearn.decomposition import PCA\n",
    "import matplotlib.pyplot as plt"
   ]
  },
  {
   "cell_type": "code",
   "execution_count": 13,
   "metadata": {},
   "outputs": [
    {
     "name": "stdout",
     "output_type": "stream",
     "text": [
      "Explained variance =  0.21229145675897598\n"
     ]
    },
    {
     "data": {
      "image/png": "[encoded data removed]",
      "text/plain": [
       "<Figure size 432x288 with 1 Axes>"
      ]
     },
     "metadata": {
      "needs_background": "light"
     },
     "output_type": "display_data"
    }
   ],
   "source": [
    "pca = PCA(n_components=2)\n",
    "x_pca = pca.fit_transform(sentence_embeddings)\n",
    "explained_variance = pca.explained_variance_ratio_\n",
    "print(\"Explained variance = \",sum(explained_variance))\n",
    "plt.scatter(x = x_pca.T[0], y=x_pca.T[1])\n",
    "plt.show()"
   ]
  },
  {
   "cell_type": "markdown",
   "metadata": {},
   "source": [
    "## Clustering"
   ]
  },
  {
   "cell_type": "code",
   "execution_count": 14,
   "metadata": {},
   "outputs": [],
   "source": [
    "# clustering\n",
    "from sklearn.cluster import SpectralClustering, AffinityPropagation"
   ]
  },
  {
   "cell_type": "code",
   "execution_count": 15,
   "metadata": {},
   "outputs": [],
   "source": [
    "# use algorithms to reduce demension\n",
    "\n",
    "pca = PCA()\n",
    "sentence_embeddings_distilled = pca.fit_transform(sentence_embeddings)"
   ]
  },
  {
   "cell_type": "code",
   "execution_count": 16,
   "metadata": {},
   "outputs": [
    {
     "data": {
      "text/plain": [
       "(74, 74)"
      ]
     },
     "execution_count": 16,
     "metadata": {},
     "output_type": "execute_result"
    }
   ],
   "source": [
    "# concate with sentiment scores\n",
    "# decided not to use it\n",
    "# sentence_embeddings_distilled = np.concatenate((sentence_embeddings_distilled, sentiment_probability), axis=1)\n",
    "sentence_embeddings_distilled.shape"
   ]
  },
  {
   "cell_type": "code",
   "execution_count": 17,
   "metadata": {},
   "outputs": [
    {
     "name": "stdout",
     "output_type": "stream",
     "text": [
      "Clustered into (10,) clusters with labels [0 1 2 3 4 5 6 7 8 9]\n"
     ]
    }
   ],
   "source": [
    "cluster_algo = AffinityPropagation(random_state=43)\n",
    "# cluster_algo = SpectralClustering(random_state=43, n_clusters=18)\n",
    "# cluster = cluster_algo.fit(sentence_embeddings)\n",
    "cluster = cluster_algo.fit(sentence_embeddings_distilled)\n",
    "print(\"Clustered into {} clusters with labels {}\".format(\n",
    "    np.unique(cluster.labels_).shape, np.unique(cluster.labels_)))\n"
   ]
  },
  {
   "cell_type": "code",
   "execution_count": 18,
   "metadata": {},
   "outputs": [
    {
     "name": "stdout",
     "output_type": "stream",
     "text": [
      "{0: 6, 1: 1, 2: 7, 3: 4, 4: 7, 5: 6, 6: 11, 7: 7, 8: 5, 9: 20}\n"
     ]
    }
   ],
   "source": [
    "unique, count = np.unique(cluster.labels_, return_counts=True)\n",
    "print(dict(zip(*np.unique(cluster.labels_, return_counts=True))))\n"
   ]
  },
  {
   "cell_type": "code",
   "execution_count": 19,
   "metadata": {},
   "outputs": [
    {
     "data": {
      "text/plain": [
       "{0: ['All in all, I’ll let the car drive 95% of the time, and maybe take the wheel the other 5%.',\n",
       "  \"I love to drive on a nice day with little or no traffic. At all other times, I'll have my car drive for me.\",\n",
       "  'when I’m driving on the highway no matter how long the trip is, I won’t use the cruse control.',\n",
       "  'All in all, well, i would still prefer to drive to drive me car on short distance because to me, driving is a pleasure.',\n",
       "  'I don’t. I value people’s lives more than the effort I lose having to drive myself.',\n",
       "  'Just happens that I enjoy driving, and I’m not giving it to a machine!!'],\n",
       " 1: [\"In the case I've described two paragraphs above, I'm really lost as to what fact based evidence could be used to chose the human.\"],\n",
       " 2: ['Absolutely.',\n",
       "  'Yes.',\n",
       "  'Yes, definitely.',\n",
       "  'Yes!',\n",
       "  'Yes',\n",
       "  'Yes.',\n",
       "  'Not yet.'],\n",
       " 3: ['Absolutely. It will be a while before they are legal for regular people though.',\n",
       "  'I plan to buy one as soon as the price gets in the range of the regular models.',\n",
       "  'Yes, as soon as they work and are available at a reasonable price.',\n",
       "  'Not at this point. They need work.'],\n",
       " 4: ['Initially the investment might be big, but the ROI is pretty awesome and worth it.',\n",
       "  \"I'd consider it, definitely not straight away though - will wait a few years until everything is 100% safe and secure.\",\n",
       "  \"Maybe. It could be nice on long trips, but I enjoy driving and don't know if I would like giving up the control.\",\n",
       "  'Yes - in a few years it might be safer than me driving.',\n",
       "  \"It's safer than me driving, *even* at this point.\",\n",
       "  'Well, I wouldn’t now, but statistically, 90% of accidents are caused by human error.',\n",
       "  'Yes. I have one already that handles most driving tasks.'],\n",
       " 5: ['I don’t trust them.',\n",
       "  \"yes. maybe a slow drive at first just to be sure, but I'm confident about this technological future.\",\n",
       "  \"Yes, but not if it's built by Google.\",\n",
       "  'One day it will be everywhere but we arent ready to 100% trust a selfless driving car..',\n",
       "  'No. It is too early in the technology to be able to trust the self-driving car.',\n",
       "  'Autonomous cars may prove themselves in general to be safe and reliable but there needs to be a way to prove specific vehicles share those qualities.'],\n",
       " 6: ['Yes, you would.',\n",
       "  'I already have.',\n",
       "  \"I would. However, I admit that, since I don't offer a proper explanation, some here would classify me as a zealot. They would not be wrong.\",\n",
       "  'my definite answer is yes, I will.',\n",
       "  'I most definitely would.',\n",
       "  'Certainly. I did.',\n",
       "  'Yes, I would.',\n",
       "  'I would.',\n",
       "  'Oh, yes, please!',\n",
       "  'I don’t think I ever would.',\n",
       "  'So no, I wouldn’t pay a dime for it in the current state.'],\n",
       " 7: ['Absolutely!',\n",
       "  'No, there is NO reason to.',\n",
       "  'My answer is NO!',\n",
       "  'Absolutely not!',\n",
       "  'Nope. Absolutely not!',\n",
       "  'Definitely not.',\n",
       "  'I don’t think so.'],\n",
       " 8: ['Its a no brainer',\n",
       "  'I think eventually I will get to that point. But I think that point’s still a long way off.',\n",
       "  'Yes, but not always.',\n",
       "  'Not at the time of answering.',\n",
       "  'I guess that depends'],\n",
       " 9: ['You already do. It is called \"taxi\".',\n",
       "  'This is not something I want to be an early adopter with.',\n",
       "  'A properly working one that can drive well? Yeah, I would.',\n",
       "  'I would absolutely buy a car that drives itself.',\n",
       "  'I would love to have a robotic driver!!',\n",
       "  'A self-driving car is no fun.',\n",
       "  'No, because I have no desire to go into taxi business, and a personal self-driving car is a huge waste of money',\n",
       "  'We would all LOVE to have a fantastic, safe, luxurious living room on wheels that will take us to our destination in style, or let us nap, or watch movies, or whatever.',\n",
       "  'What I mean is, autonomous cars would be great, IF THEY WERE THE ONLY CARS OUT THERE.',\n",
       "  \"Yes, I will. I'd love to have a chauffer, even if it is a robot.\",\n",
       "  'I don’t know if I would be as brave on a car someone else programmed - not because I’m smarter, more like the devil you know versus the devil you don’t know kind of thing.',\n",
       "  'I hate the idea of a self driving car.',\n",
       "  'I’ll keep driving my own cars.',\n",
       "  'Self-driving cars will be as convenient as having your own chauffeur at the price of public transportation.',\n",
       "  \"I won't drive anything self driving.\",\n",
       "  'Auto, you are welcome to take over.',\n",
       "  'Self-driving vehicles that don’t need a steering wheel or human intervention will not exist in the lifetime of anyone reading this. ',\n",
       "  'Personally, I would never own a self driving car.',\n",
       "  'I may own a Tesla some day, but I would likely not use the autonomous / semi-autonomous functions.',\n",
       "  'Yes, I really would like to have a self-driving car.']}"
      ]
     },
     "execution_count": 19,
     "metadata": {},
     "output_type": "execute_result"
    }
   ],
   "source": [
    "claim_clusters = {i: [] for i in range(len(np.unique(cluster.labels_)))}\n",
    "for i,label in enumerate(cluster.labels_):\n",
    "    claim_clusters[label].append(claims[i])\n",
    "claim_clusters"
   ]
  },
  {
   "cell_type": "code",
   "execution_count": 26,
   "metadata": {},
   "outputs": [
    {
     "name": "stdout",
     "output_type": "stream",
     "text": [
      "{0: 'Negative', 1: 'Neutral', 2: 'Positive'}\n",
      "0:\tI love to drive on a nice day with little or no traffic. At all other times, I'll have my car drive for me.\tPositive [0.03459552 0.1378941  0.82751036]\n",
      "1:\tIn the case I've described two paragraphs above, I'm really lost as to what fact based evidence could be used to chose the human.\tNegative [0.9041855  0.08176195 0.01405254]\n",
      "2:\tYes.\tNeutral [0.24485303 0.48246276 0.27268422]\n",
      "3:\tYes, as soon as they work and are available at a reasonable price.\tNeutral [0.02830513 0.6264308  0.345264  ]\n",
      "4:\tYes - in a few years it might be safer than me driving.\tPositive [0.06587382 0.31457594 0.6195503 ]\n",
      "5:\tNo. It is too early in the technology to be able to trust the self-driving car.\tNegative [0.62078047 0.3340705  0.04514893]\n",
      "6:\tYes, I would.\tPositive [0.09568746 0.35731435 0.5469982 ]\n",
      "7:\tNope. Absolutely not!\tNegative [0.63178897 0.29335687 0.07485413]\n",
      "8:\tNot at the time of answering.\tNeutral [0.20982097 0.74186265 0.04831635]\n",
      "9:\tYes, I really would like to have a self-driving car.\tNeutral [0.19765116 0.46659654 0.3357523 ]\n"
     ]
    }
   ],
   "source": [
    "claimCenter_polarty = {}\n",
    "center_claims_relation = {}\n",
    "print(sentiment_config.id2label)\n",
    "for i,term in enumerate(cluster.cluster_centers_indices_):\n",
    "    center_claims_relation[i] = claims[term]\n",
    "    print(f\"{i}:\\t{claims[term]}\", end='\\t')\n",
    "    polarity_index = np.argmax(sentiment_probability[term])\n",
    "    print(sentiment_config.id2label[polarity_index], sentiment_probability[term])\n",
    "    claimCenter_polarty[claims[term]] = sentiment_config.id2label[polarity_index]\n"
   ]
  },
  {
   "cell_type": "markdown",
   "metadata": {},
   "source": [
    "## Assign center claims"
   ]
  },
  {
   "cell_type": "code",
   "execution_count": 21,
   "metadata": {},
   "outputs": [],
   "source": [
    "count = 0\n",
    "for i in json_content['answers']:\n",
    "    if i:\n",
    "        for j in i['claim']:\n",
    "            claim_center = claims[cluster.cluster_centers_indices_[\n",
    "                cluster.labels_[count]]]\n",
    "            j['claimCenter'] = claim_center\n",
    "            j['claimSentiment'] = claimCenter_polarty[claim_center]\n",
    "            count += 1\n"
   ]
  },
  {
   "cell_type": "code",
   "execution_count": 22,
   "metadata": {},
   "outputs": [
    {
     "data": {
      "text/plain": [
       "'Nope. Absolutely not!'"
      ]
     },
     "execution_count": 22,
     "metadata": {},
     "output_type": "execute_result"
    }
   ],
   "source": [
    "claim_center"
   ]
  },
  {
   "cell_type": "code",
   "execution_count": 23,
   "metadata": {},
   "outputs": [],
   "source": [
    "# output_file_path = '../data/v3_70_filled/Should-I-invest-in-Bitcoin_with_labels_v3_70_filled.json'\n",
    "output_file_path = '../data/v3_70_filled/Would-you-get-into-a-self-driving-car_v3_70_filled.json'\n",
    "with open(output_file_path, 'w') as f:\n",
    "    json.dump(json_content, fp=f)\n"
   ]
  },
  {
   "cell_type": "code",
   "execution_count": 32,
   "metadata": {},
   "outputs": [],
   "source": [
    "with open(\"../data/newest_data(rolling update)/claim center and statistics/automos driving/claim_clusters.json\", 'w') as f:\n",
    "    json.dump(claim_clusters, f, indent=4)\n",
    "with open('../data/newest_data(rolling update)/claim center and statistics/automos driving/stance_count.json', 'w') as f:\n",
    "    inv_map = {}\n",
    "    for k, v in claimCenter_polarty.items():\n",
    "        v = v.lower()\n",
    "        inv_map[v] = inv_map.get(v, []) + [k]\n",
    "    json.dump(inv_map,fp=f, indent=4)\n",
    "with open('../data/newest_data(rolling update)/claim center and statistics/automos driving/center_claims_relation.json', 'w') as f:\n",
    "    json.dump(center_claims_relation, f, indent=4)\n"
   ]
  },
  {
   "cell_type": "code",
   "execution_count": 27,
   "metadata": {},
   "outputs": [
    {
     "data": {
      "text/plain": [
       "{0: \"I love to drive on a nice day with little or no traffic. At all other times, I'll have my car drive for me.\",\n",
       " 1: \"In the case I've described two paragraphs above, I'm really lost as to what fact based evidence could be used to chose the human.\",\n",
       " 2: 'Yes.',\n",
       " 3: 'Yes, as soon as they work and are available at a reasonable price.',\n",
       " 4: 'Yes - in a few years it might be safer than me driving.',\n",
       " 5: 'No. It is too early in the technology to be able to trust the self-driving car.',\n",
       " 6: 'Yes, I would.',\n",
       " 7: 'Nope. Absolutely not!',\n",
       " 8: 'Not at the time of answering.',\n",
       " 9: 'Yes, I really would like to have a self-driving car.'}"
      ]
     },
     "execution_count": 27,
     "metadata": {},
     "output_type": "execute_result"
    }
   ],
   "source": []
  },
  {
   "cell_type": "code",
   "execution_count": null,
   "metadata": {},
   "outputs": [],
   "source": []
  }
 ],
 "metadata": {
  "kernelspec": {
   "display_name": "Python 3.9.5 ('venv')",
   "language": "python",
   "name": "python3"
  },
  "language_info": {
   "codemirror_mode": {
    "name": "ipython",
    "version": 3
   },
   "file_extension": ".py",
   "mimetype": "text/x-python",
   "name": "python",
   "nbconvert_exporter": "python",
   "pygments_lexer": "ipython3",
   "version": "3.9.5"
  },
  "orig_nbformat": 4,
  "vscode": {
   "interpreter": {
    "hash": "640cace4827df8bb8e1edb3566e4e979a7918609c95fe3eaf671877de41a29fe"
   }
  }
 },
 "nbformat": 4,
 "nbformat_minor": 2
}
