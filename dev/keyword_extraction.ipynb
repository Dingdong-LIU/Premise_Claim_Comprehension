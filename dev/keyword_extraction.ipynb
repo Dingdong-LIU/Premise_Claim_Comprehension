{
 "cells": [
  {
   "cell_type": "markdown",
   "metadata": {},
   "source": [
    "# Key word extraction algorithm for claims"
   ]
  },
  {
   "cell_type": "code",
   "execution_count": 2,
   "metadata": {},
   "outputs": [],
   "source": [
    "%load_ext autoreload\n",
    "%autoreload 2\n"
   ]
  },
  {
   "cell_type": "code",
   "execution_count": 3,
   "metadata": {},
   "outputs": [],
   "source": [
    "import os, json\n",
    "from helper_function import count_valid_posts, get_claims, get_premises\n",
    "import pandas as pd\n",
    "import numpy as np\n",
    "from nltk.corpus import stopwords"
   ]
  },
  {
   "cell_type": "code",
   "execution_count": 4,
   "metadata": {},
   "outputs": [
    {
     "name": "stdout",
     "output_type": "stream",
     "text": [
      "Get valid posts:  (41, 70)\n"
     ]
    }
   ],
   "source": [
    "with open('../data/v4/Should-I-invest-in-Bitcoin_with_labels_v4_70_filled.json', 'r') as f:\n",
    "    file_content = json.load(f)\n",
    "print('Get valid posts: ', count_valid_posts(file_content))\n",
    "claims = get_claims(file_content)\n",
    "premises = get_premises(file_content)\n"
   ]
  },
  {
   "cell_type": "markdown",
   "metadata": {},
   "source": [
    "## Keyword extraction algorithms"
   ]
  },
  {
   "cell_type": "code",
   "execution_count": 5,
   "metadata": {},
   "outputs": [],
   "source": [
    "# from keyword_extractor import TfIdfExtractor\n",
    "\n",
    "# if_idf = TfIdfExtractor()"
   ]
  },
  {
   "cell_type": "code",
   "execution_count": 6,
   "metadata": {},
   "outputs": [],
   "source": [
    "# if_idf.extract_keywords(premises)"
   ]
  },
  {
   "cell_type": "markdown",
   "metadata": {},
   "source": [
    "## KeyBERT Extractor"
   ]
  },
  {
   "cell_type": "code",
   "execution_count": 7,
   "metadata": {},
   "outputs": [],
   "source": [
    "from keyword_extractor import KeyBERTExtractor"
   ]
  },
  {
   "cell_type": "code",
   "execution_count": 8,
   "metadata": {},
   "outputs": [],
   "source": [
    "keybert_extractor = KeyBERTExtractor()"
   ]
  },
  {
   "cell_type": "code",
   "execution_count": 9,
   "metadata": {},
   "outputs": [],
   "source": [
    "# keybert_extractor.extract_keywords(premises)"
   ]
  },
  {
   "cell_type": "markdown",
   "metadata": {},
   "source": [
    "## Extract Keywords under a certain center claim"
   ]
  },
  {
   "cell_type": "code",
   "execution_count": 10,
   "metadata": {},
   "outputs": [],
   "source": [
    "# first build a list of supporting premises\n",
    "claims_with_support = {}\n",
    "for l in get_premises(file_content, return_list_of_strings=False):\n",
    "    # l is a list of dict objects\n",
    "    for o in l:\n",
    "        clm, prm = o['supportClaim'], o['content']\n",
    "        if not clm in claims_with_support:\n",
    "            claims_with_support[clm] = []\n",
    "        claims_with_support[clm].append(prm)\n",
    "\n",
    "claim_center_relation = {}\n",
    "for l in get_claims(file_content, return_list_of_strings=False):\n",
    "    # l is a list of dict objects\n",
    "    for o in l:\n",
    "        clm, sc = o['content'], o['claimCenter']\n",
    "        if not sc in claim_center_relation:\n",
    "            claim_center_relation[sc] = []\n",
    "        claim_center_relation[sc].append(clm)\n",
    "\n",
    "claimCenter_premise = {}\n",
    "for cs, c_list in claim_center_relation.items():\n",
    "    if not cs in claimCenter_premise:\n",
    "        claimCenter_premise[cs] = []\n",
    "    for c in c_list:\n",
    "        if c in claims_with_support:\n",
    "            claimCenter_premise[cs].extend(claims_with_support[c])\n"
   ]
  },
  {
   "cell_type": "code",
   "execution_count": 11,
   "metadata": {},
   "outputs": [],
   "source": [
    "output_data = []\n",
    "for k,v in claimCenter_premise.items():\n",
    "    term = {\n",
    "        'content' : k,\n",
    "        'keywords' : []\n",
    "    }\n",
    "    kws = keybert_extractor.extract_keywords(' '.join(v), keep_term=10)\n",
    "    kws.sort(key=lambda a: a[1], reverse=True)\n",
    "    term['keywords'] = kws\n",
    "    output_data.append(term)\n",
    "    # break"
   ]
  },
  {
   "cell_type": "code",
   "execution_count": 12,
   "metadata": {},
   "outputs": [
    {
     "data": {
      "text/plain": [
       "['One of the proof cryptocurrencies are not ready yet, is the extremely fluctuating value that solely driven by “demand” and “potential”, instead of real-world implementation.']"
      ]
     },
     "execution_count": 12,
     "metadata": {},
     "output_type": "execute_result"
    }
   ],
   "source": [
    "claimCenter_premise['It is almost certainly in a bubble.']\n"
   ]
  },
  {
   "cell_type": "code",
   "execution_count": 13,
   "metadata": {},
   "outputs": [],
   "source": [
    "# x = keybert_extractor.extract_keywords(' '.join(v), keep_term=15)\n",
    "# x.sort(key=lambda a : a[1])\n",
    "# x\n"
   ]
  },
  {
   "cell_type": "code",
   "execution_count": 14,
   "metadata": {},
   "outputs": [],
   "source": [
    "with open('../data/newest_data(rolling update)/claim center and statistics/keywords.json', 'w') as f:\n",
    "    json.dump(output_data, fp=f, indent=4)\n"
   ]
  },
  {
   "cell_type": "code",
   "execution_count": 15,
   "metadata": {},
   "outputs": [
    {
     "data": {
      "text/plain": [
       "[('cryptocurrencies', 0.5732),\n",
       " ('diversified', 0.3917),\n",
       " ('minority', 0.2698),\n",
       " ('portfolio', 0.4366),\n",
       " ('risky', 0.2879),\n",
       " ('position', 0.1183),\n",
       " ('generally', 0.169),\n",
       " ('bitcoin', 0.4283),\n",
       " ('assets', 0.3653),\n",
       " ('well', 0.0483)]"
      ]
     },
     "execution_count": 15,
     "metadata": {},
     "output_type": "execute_result"
    }
   ],
   "source": [
    "keybert_extractor.extract_keywords(\" \".join(claimCenter_premise['That’s up to you.']), keep_term=10)\n"
   ]
  },
  {
   "cell_type": "markdown",
   "metadata": {},
   "source": [
    "## Reformat"
   ]
  },
  {
   "cell_type": "code",
   "execution_count": 21,
   "metadata": {},
   "outputs": [],
   "source": [
    "sentence_sentiment = {\n",
    "    'neutral' : [\n",
    "        \"It’s not too late to invest.\",\n",
    "        \"That’s up to you.\",\n",
    "        \"It depends what your level of disposable income is, how great your assets are, and what other assets you have invested in.\",\n",
    "        \"The significant thing is to do your own research and comprehend the dangers.\",\n",
    "        \"Invest in Bitcoin, only if you are okay to loss all.\",\n",
    "        \"Investing in Bitcoin is viable option especially in a view of current decline of the power of Fiat currencies.\",\n",
    "        \"If you are willing to take the risk, first make sure you understand what you are investing in and have a crypto investment strategy\",\n",
    "    ],\n",
    "    \"positive\" : [\n",
    "        \"I would say YES!\",\n",
    "        \"Of course you should\",\n",
    "    ],\n",
    "    \"negative\" : [\n",
    "        \"Bitcoin is pretty useless. But so is gold.\",\n",
    "        \"Cryto currency is an extremely high-hazard venture, and CFDs bought on margin are significantly more hazardous.\",\n",
    "        \"It is almost certainly in a bubble.\",\n",
    "    ]\n",
    "}\n",
    "\n",
    "for i in output_data:\n",
    "    key = i['content']\n",
    "    if not key in sentence_sentiment['neutral'] and not key in sentence_sentiment['positive'] and not key in sentence_sentiment['negative']:\n",
    "        print(key)\n"
   ]
  },
  {
   "cell_type": "code",
   "execution_count": 29,
   "metadata": {},
   "outputs": [],
   "source": [
    "formated_output = {\n",
    "    'neutral' : {},\n",
    "    'positive' : {},\n",
    "    'negative' : {}\n",
    "}\n",
    "\n",
    "for key, value in sentence_sentiment.items():\n",
    "    for index, cs in enumerate(value):\n",
    "        o_index = next((i for i, s in enumerate(output_data) if s['content'] == cs), -1)\n",
    "        formated_output[key][f'claim_{index}'] = output_data[o_index]['keywords']"
   ]
  },
  {
   "cell_type": "code",
   "execution_count": 30,
   "metadata": {},
   "outputs": [
    {
     "data": {
      "text/plain": [
       "{'neutral': {'claim_0': [('bitcoin', 0.5662),\n",
       "   ('investing', 0.4897),\n",
       "   ('liquidity', 0.341),\n",
       "   ('inflation', 0.3356),\n",
       "   ('opportunity', 0.275),\n",
       "   ('date', 0.1964),\n",
       "   ('rethink', 0.1926),\n",
       "   ('open', 0.1817),\n",
       "   ('know', 0.1504),\n",
       "   ('everything', 0.1037)],\n",
       "  'claim_1': [('cryptocurrencies', 0.5732),\n",
       "   ('portfolio', 0.4366),\n",
       "   ('bitcoin', 0.4283),\n",
       "   ('diversified', 0.3917),\n",
       "   ('assets', 0.3653),\n",
       "   ('risky', 0.2879),\n",
       "   ('minority', 0.2698),\n",
       "   ('generally', 0.169),\n",
       "   ('position', 0.1183),\n",
       "   ('well', 0.0483)],\n",
       "  'claim_2': [('bitcoin', 0.5631),\n",
       "   ('subjective', 0.3805),\n",
       "   ('investment', 0.3733),\n",
       "   ('value', 0.3442),\n",
       "   ('gamble', 0.3276),\n",
       "   ('volatile', 0.2612),\n",
       "   ('risky', 0.2045),\n",
       "   ('class', 0.1881),\n",
       "   ('largely', 0.1521),\n",
       "   ('forces', 0.0714)],\n",
       "  'claim_3': [('investors', 0.488),\n",
       "   ('cash', 0.4217),\n",
       "   ('smart', 0.3561),\n",
       "   ('encourage', 0.2686),\n",
       "   ('lose', 0.2541),\n",
       "   ('chance', 0.2214),\n",
       "   ('consistently', 0.1785),\n",
       "   ('stories', 0.1726),\n",
       "   ('never', 0.1524),\n",
       "   ('stand', 0.0636)],\n",
       "  'claim_4': [('futures', 0.4698),\n",
       "   ('bitcoin', 0.3795),\n",
       "   ('invest', 0.3657),\n",
       "   ('upside', 0.3581),\n",
       "   ('bullish', 0.2991),\n",
       "   ('2020', 0.2182),\n",
       "   ('rise', 0.2159),\n",
       "   ('fluctuate', 0.2089),\n",
       "   ('thinking', 0.1978),\n",
       "   ('months', 0.1411)],\n",
       "  'claim_5': [('bitcoin', 0.5067),\n",
       "   ('investment', 0.3057),\n",
       "   ('unpredictable', 0.2332),\n",
       "   ('censorship', 0.2215),\n",
       "   ('governments', 0.196),\n",
       "   ('global', 0.1819),\n",
       "   ('storing', 0.1657),\n",
       "   ('circulation', 0.1449),\n",
       "   ('wondering', 0.0886),\n",
       "   ('december', 0.0822)],\n",
       "  'claim_6': [('investing', 0.5114),\n",
       "   ('cryptocurrencies', 0.4607),\n",
       "   ('litecoin', 0.3269),\n",
       "   ('risky', 0.2461),\n",
       "   ('decade', 0.2151),\n",
       "   ('eth', 0.1706),\n",
       "   ('become', 0.17),\n",
       "   ('layer', 0.1499),\n",
       "   ('price', 0.1391),\n",
       "   ('crashes', 0.0952)]},\n",
       " 'positive': {'claim_0': [('bitcoin', 0.5411),\n",
       "   ('investing', 0.4913),\n",
       "   ('mining', 0.4052),\n",
       "   ('beginner', 0.2962),\n",
       "   ('weekly', 0.215),\n",
       "   ('gratification', 0.1887),\n",
       "   ('smallest', 0.1849),\n",
       "   ('instant', 0.1721),\n",
       "   ('fact', 0.1207),\n",
       "   ('especially', 0.0495)],\n",
       "  'claim_1': [('cryptocurrency', 0.5907),\n",
       "   ('bitcoin', 0.5371),\n",
       "   ('investing', 0.4589),\n",
       "   ('earn', 0.2968),\n",
       "   ('decentralized', 0.2654),\n",
       "   ('digital', 0.1714),\n",
       "   ('world', 0.1603),\n",
       "   ('trade', 0.1224),\n",
       "   ('pattern', 0.0566),\n",
       "   ('seems', 0.0391)]},\n",
       " 'negative': {'claim_0': [('bitcoin', 0.5469),\n",
       "   ('inflation', 0.3919),\n",
       "   ('scarcity', 0.3134),\n",
       "   ('gold', 0.2684),\n",
       "   ('hedge', 0.2561),\n",
       "   ('argue', 0.2386),\n",
       "   ('intrinsic', 0.2171),\n",
       "   ('useful', 0.1903),\n",
       "   ('horses', 0.1762),\n",
       "   ('abruptly', 0.098)],\n",
       "  'claim_1': [('cryto', 0.4452),\n",
       "   ('currency', 0.4192),\n",
       "   ('economic', 0.3684),\n",
       "   ('esteems', 0.3417),\n",
       "   ('media', 0.2387),\n",
       "   ('incredibly', 0.1292),\n",
       "   ('cycle', 0.1008),\n",
       "   ('hypothesis', 0.0896),\n",
       "   ('inclusion', 0.0841),\n",
       "   ('move', 0.0424)],\n",
       "  'claim_2': [('cryptocurrencies', 0.5953),\n",
       "   ('demand', 0.4479),\n",
       "   ('fluctuating', 0.3745),\n",
       "   ('potential', 0.3101),\n",
       "   ('value', 0.2757),\n",
       "   ('real', 0.2335),\n",
       "   ('driven', 0.2077),\n",
       "   ('yet', 0.1854),\n",
       "   ('implementation', 0.1198),\n",
       "   ('ready', 0.0237)]}}"
      ]
     },
     "execution_count": 30,
     "metadata": {},
     "output_type": "execute_result"
    }
   ],
   "source": [
    "formated_output"
   ]
  },
  {
   "cell_type": "code",
   "execution_count": 35,
   "metadata": {},
   "outputs": [],
   "source": [
    "with open('../data/newest_data(rolling update)/claim center and statistics/keywords_formatted_0814_1.json', 'w') as f:\n",
    "    json.dump(formated_output, fp=f, indent=4)\n"
   ]
  },
  {
   "cell_type": "code",
   "execution_count": null,
   "metadata": {},
   "outputs": [],
   "source": []
  }
 ],
 "metadata": {
  "kernelspec": {
   "display_name": "Python 3.9.5 ('venv')",
   "language": "python",
   "name": "python3"
  },
  "language_info": {
   "codemirror_mode": {
    "name": "ipython",
    "version": 3
   },
   "file_extension": ".py",
   "mimetype": "text/x-python",
   "name": "python",
   "nbconvert_exporter": "python",
   "pygments_lexer": "ipython3",
   "version": "3.9.5"
  },
  "orig_nbformat": 4,
  "vscode": {
   "interpreter": {
    "hash": "640cace4827df8bb8e1edb3566e4e979a7918609c95fe3eaf671877de41a29fe"
   }
  }
 },
 "nbformat": 4,
 "nbformat_minor": 2
}
