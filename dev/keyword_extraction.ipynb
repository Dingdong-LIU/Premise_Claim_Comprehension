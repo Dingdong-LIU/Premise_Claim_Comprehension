{
 "cells": [
  {
   "cell_type": "markdown",
   "metadata": {},
   "source": [
    "# Key word extraction algorithm for claims"
   ]
  },
  {
   "cell_type": "code",
   "execution_count": 1,
   "metadata": {},
   "outputs": [],
   "source": [
    "%load_ext autoreload\n",
    "%autoreload 2\n"
   ]
  },
  {
   "cell_type": "code",
   "execution_count": 2,
   "metadata": {},
   "outputs": [],
   "source": [
    "import os, json\n",
    "from helper_function import count_valid_posts, get_claims, get_premises\n",
    "import pandas as pd\n",
    "import numpy as np\n",
    "from nltk.corpus import stopwords"
   ]
  },
  {
   "cell_type": "code",
   "execution_count": 3,
   "metadata": {},
   "outputs": [
    {
     "name": "stdout",
     "output_type": "stream",
     "text": [
      "Get valid posts:  (41, 70)\n"
     ]
    }
   ],
   "source": [
    "with open('../data/v4/Should-I-invest-in-Bitcoin_with_labels_v4_70_filled.json', 'r') as f:\n",
    "    file_content = json.load(f)\n",
    "print('Get valid posts: ', count_valid_posts(file_content))\n",
    "claims = get_claims(file_content)\n",
    "premises = get_premises(file_content)\n"
   ]
  },
  {
   "cell_type": "markdown",
   "metadata": {},
   "source": [
    "## Keyword extraction algorithms"
   ]
  },
  {
   "cell_type": "code",
   "execution_count": 4,
   "metadata": {},
   "outputs": [],
   "source": [
    "# from keyword_extractor import TfIdfExtractor\n",
    "\n",
    "# if_idf = TfIdfExtractor()"
   ]
  },
  {
   "cell_type": "code",
   "execution_count": 5,
   "metadata": {},
   "outputs": [],
   "source": [
    "# if_idf.extract_keywords(premises)"
   ]
  },
  {
   "cell_type": "markdown",
   "metadata": {},
   "source": [
    "## KeyBERT Extractor"
   ]
  },
  {
   "cell_type": "code",
   "execution_count": 6,
   "metadata": {},
   "outputs": [],
   "source": [
    "from keyword_extractor import KeyBERTExtractor"
   ]
  },
  {
   "cell_type": "code",
   "execution_count": 7,
   "metadata": {},
   "outputs": [],
   "source": [
    "keybert_extractor = KeyBERTExtractor()"
   ]
  },
  {
   "cell_type": "code",
   "execution_count": 8,
   "metadata": {},
   "outputs": [],
   "source": [
    "# keybert_extractor.extract_keywords(premises)"
   ]
  },
  {
   "cell_type": "markdown",
   "metadata": {},
   "source": [
    "## Extract Keywords under a certain center claim"
   ]
  },
  {
   "cell_type": "code",
   "execution_count": 9,
   "metadata": {},
   "outputs": [],
   "source": [
    "# first build a list of supporting premises\n",
    "claims_with_support = {}\n",
    "for l in get_premises(file_content, return_list_of_strings=False):\n",
    "    # l is a list of dict objects\n",
    "    for o in l:\n",
    "        clm, prm = o['supportClaim'], o['content']\n",
    "        if not clm in claims_with_support:\n",
    "            claims_with_support[clm] = []\n",
    "        claims_with_support[clm].append(prm)\n",
    "\n",
    "claim_center_relation = {}\n",
    "for l in get_claims(file_content, return_list_of_strings=False):\n",
    "    # l is a list of dict objects\n",
    "    for o in l:\n",
    "        clm, sc = o['content'], o['claimCenter']\n",
    "        if not sc in claim_center_relation:\n",
    "            claim_center_relation[sc] = []\n",
    "        claim_center_relation[sc].append(clm)\n",
    "\n",
    "claimCenter_premise = {}\n",
    "for cs, c_list in claim_center_relation.items():\n",
    "    if not cs in claimCenter_premise:\n",
    "        claimCenter_premise[cs] = []\n",
    "    for c in c_list:\n",
    "        if c in claims_with_support:\n",
    "            claimCenter_premise[cs].extend(claims_with_support[c])\n"
   ]
  },
  {
   "cell_type": "code",
   "execution_count": 10,
   "metadata": {},
   "outputs": [],
   "source": [
    "output_data = []\n",
    "for k,v in claimCenter_premise.items():\n",
    "    term = {\n",
    "        'content' : k,\n",
    "        'keywords' : []\n",
    "    }\n",
    "    kws = keybert_extractor.extract_keywords(' '.join(v), keep_term=15)\n",
    "    kws.sort(key=lambda a: a[1], reverse=True)\n",
    "    term['keywords'] = kws\n",
    "    output_data.append(term)\n",
    "    # break"
   ]
  },
  {
   "cell_type": "code",
   "execution_count": 11,
   "metadata": {},
   "outputs": [
    {
     "data": {
      "text/plain": [
       "[{'content': 'It’s not too late to invest.',\n",
       "  'keywords': [('bitcoin', 0.5662),\n",
       "   ('investing', 0.4897),\n",
       "   ('liquidity', 0.341),\n",
       "   ('inflation', 0.3356),\n",
       "   ('market', 0.3326),\n",
       "   ('money', 0.2826),\n",
       "   ('opportunity', 0.275),\n",
       "   ('date', 0.1964),\n",
       "   ('rethink', 0.1926),\n",
       "   ('bought', 0.1832),\n",
       "   ('open', 0.1817),\n",
       "   ('whether', 0.1792),\n",
       "   ('know', 0.1504),\n",
       "   ('everything', 0.1037),\n",
       "   ('vessel', 0.0647)]},\n",
       " {'content': 'Bitcoin is pretty useless. But so is gold.',\n",
       "  'keywords': [('bitcoin', 0.5469),\n",
       "   ('inflation', 0.3919),\n",
       "   ('scarcity', 0.3134),\n",
       "   ('scarce', 0.2717),\n",
       "   ('gold', 0.2684),\n",
       "   ('investment', 0.2657),\n",
       "   ('hedge', 0.2561),\n",
       "   ('argue', 0.2386),\n",
       "   ('intrinsic', 0.2171),\n",
       "   ('earth', 0.1934),\n",
       "   ('useful', 0.1903),\n",
       "   ('scam', 0.1798),\n",
       "   ('horses', 0.1762),\n",
       "   ('millenia', 0.1068),\n",
       "   ('abruptly', 0.098)]},\n",
       " {'content': 'Invest in Bitcoin, only if you are okay to loss all.',\n",
       "  'keywords': [('futures', 0.4698),\n",
       "   ('bitcoin', 0.3795),\n",
       "   ('invest', 0.3657),\n",
       "   ('upside', 0.3581),\n",
       "   ('forecasters', 0.3398),\n",
       "   ('bullish', 0.2991),\n",
       "   ('returns', 0.2445),\n",
       "   ('early', 0.2377),\n",
       "   ('2020', 0.2182),\n",
       "   ('rise', 0.2159),\n",
       "   ('thinking', 0.1978),\n",
       "   ('fluctuating', 0.1766),\n",
       "   ('crash', 0.1613),\n",
       "   ('months', 0.1411),\n",
       "   ('29900', 0.0652)]},\n",
       " {'content': 'If you are willing to take the risk, first make sure you understand what you are investing in and have a crypto investment strategy',\n",
       "  'keywords': [('investing', 0.5114),\n",
       "   ('cryptocurrencies', 0.4607),\n",
       "   ('litecoin', 0.3269),\n",
       "   ('risky', 0.2461),\n",
       "   ('decade', 0.2151),\n",
       "   ('eth', 0.1706),\n",
       "   ('become', 0.17),\n",
       "   ('increase', 0.161),\n",
       "   ('layer', 0.1499),\n",
       "   ('price', 0.1391),\n",
       "   ('volatile', 0.1093),\n",
       "   ('crashes', 0.0952),\n",
       "   ('sure', 0.0881),\n",
       "   ('often', 0.0808),\n",
       "   ('well', 0.0379)]},\n",
       " {'content': 'It is almost certainly in a bubble.', 'keywords': []},\n",
       " {'content': 'Of course you should',\n",
       "  'keywords': [('cryptocurrency', 0.5907),\n",
       "   ('bitcoin', 0.5371),\n",
       "   ('investing', 0.4589),\n",
       "   ('market', 0.3515),\n",
       "   ('earn', 0.2968),\n",
       "   ('decentralized', 0.2654),\n",
       "   ('securely', 0.2217),\n",
       "   ('self', 0.2061),\n",
       "   ('digital', 0.1714),\n",
       "   ('world', 0.1603),\n",
       "   ('trade', 0.1224),\n",
       "   ('often', 0.1194),\n",
       "   ('scarce', 0.0974),\n",
       "   ('pattern', 0.0566),\n",
       "   ('seems', 0.0391)]},\n",
       " {'content': 'Investing in Bitcoin is viable option especially in a view of current decline of the power of Fiat currencies.',\n",
       "  'keywords': [('bitcoin', 0.5067),\n",
       "   ('investment', 0.3057),\n",
       "   ('unpredictable', 0.2332),\n",
       "   ('internet', 0.2251),\n",
       "   ('volatility', 0.2238),\n",
       "   ('censorship', 0.2215),\n",
       "   ('governments', 0.196),\n",
       "   ('global', 0.1819),\n",
       "   ('storing', 0.1657),\n",
       "   ('theft', 0.1648),\n",
       "   ('impact', 0.1532),\n",
       "   ('circulation', 0.1449),\n",
       "   ('wondering', 0.0886),\n",
       "   ('december', 0.0822),\n",
       "   ('adoption', 0.0719)]},\n",
       " {'content': 'I would say YES!', 'keywords': []},\n",
       " {'content': 'That’s up to you.', 'keywords': []},\n",
       " {'content': 'It depends what your level of disposable income is, how great your assets are, and what other assets you have invested in.',\n",
       "  'keywords': [('bitcoin', 0.5631),\n",
       "   ('subjective', 0.3805),\n",
       "   ('investment', 0.3733),\n",
       "   ('value', 0.3442),\n",
       "   ('market', 0.3311),\n",
       "   ('gamble', 0.3276),\n",
       "   ('asset', 0.2655),\n",
       "   ('volatile', 0.2612),\n",
       "   ('risky', 0.2045),\n",
       "   ('regarded', 0.1972),\n",
       "   ('class', 0.1881),\n",
       "   ('largely', 0.1521),\n",
       "   ('history', 0.1173),\n",
       "   ('forces', 0.0714),\n",
       "   ('detached', 0.0156)]},\n",
       " {'content': 'Cryto currency is an extremely high-hazard venture, and CFDs bought on margin are significantly more hazardous.',\n",
       "  'keywords': []},\n",
       " {'content': 'The significant thing is to do your own research and comprehend the dangers.',\n",
       "  'keywords': [('investors', 0.488),\n",
       "   ('cash', 0.4217),\n",
       "   ('smart', 0.3561),\n",
       "   ('encourage', 0.2686),\n",
       "   ('lose', 0.2541),\n",
       "   ('chance', 0.2214),\n",
       "   ('consistently', 0.1785),\n",
       "   ('stories', 0.1726),\n",
       "   ('never', 0.1524),\n",
       "   ('web', 0.1191),\n",
       "   ('reveal', 0.0997),\n",
       "   ('numerous', 0.0822),\n",
       "   ('stand', 0.0636),\n",
       "   ('may', 0.0621),\n",
       "   ('celebrated', -0.0107)]}]"
      ]
     },
     "execution_count": 11,
     "metadata": {},
     "output_type": "execute_result"
    }
   ],
   "source": [
    "output_data"
   ]
  },
  {
   "cell_type": "code",
   "execution_count": 12,
   "metadata": {},
   "outputs": [],
   "source": [
    "# x = keybert_extractor.extract_keywords(' '.join(v), keep_term=15)\n",
    "# x.sort(key=lambda a : a[1])\n",
    "# x\n"
   ]
  },
  {
   "cell_type": "code",
   "execution_count": 13,
   "metadata": {},
   "outputs": [],
   "source": [
    "with open('../data/newest_data(rolling update)/claim center and statistics/keywords.json', 'w') as f:\n",
    "    json.dump(output_data, fp=f, indent=4)\n"
   ]
  },
  {
   "cell_type": "code",
   "execution_count": null,
   "metadata": {},
   "outputs": [],
   "source": []
  },
  {
   "cell_type": "code",
   "execution_count": null,
   "metadata": {},
   "outputs": [],
   "source": []
  }
 ],
 "metadata": {
  "kernelspec": {
   "display_name": "Python 3.9.5 ('venv')",
   "language": "python",
   "name": "python3"
  },
  "language_info": {
   "codemirror_mode": {
    "name": "ipython",
    "version": 3
   },
   "file_extension": ".py",
   "mimetype": "text/x-python",
   "name": "python",
   "nbconvert_exporter": "python",
   "pygments_lexer": "ipython3",
   "version": "3.9.5"
  },
  "orig_nbformat": 4,
  "vscode": {
   "interpreter": {
    "hash": "640cace4827df8bb8e1edb3566e4e979a7918609c95fe3eaf671877de41a29fe"
   }
  }
 },
 "nbformat": 4,
 "nbformat_minor": 2
}
