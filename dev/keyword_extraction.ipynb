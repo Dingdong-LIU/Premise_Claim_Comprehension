{
 "cells": [
  {
   "cell_type": "markdown",
   "metadata": {},
   "source": [
    "# Key word extraction algorithm for claims"
   ]
  },
  {
   "cell_type": "code",
   "execution_count": 94,
   "metadata": {},
   "outputs": [],
   "source": [
    "import os, json\n",
    "from helper_function import count_valid_posts, get_claims, get_premises\n",
    "import pandas as pd\n",
    "import numpy as np\n",
    "from nltk.corpus import stopwords"
   ]
  },
  {
   "cell_type": "code",
   "execution_count": 95,
   "metadata": {},
   "outputs": [
    {
     "name": "stdout",
     "output_type": "stream",
     "text": [
      "Get valid posts:  (41, 70)\n"
     ]
    }
   ],
   "source": [
    "with open('../data/v3_70_filled/Should-I-invest-in-Bitcoin_with_labels_v3_70_filled.json', 'r') as f:\n",
    "    file_content = json.load(f)\n",
    "print('Get valid posts: ', count_valid_posts(file_content))\n",
    "claims = get_claims(file_content)\n",
    "premises = get_premises(file_content)"
   ]
  },
  {
   "cell_type": "markdown",
   "metadata": {},
   "source": [
    "## Keyword extraction algorithms"
   ]
  },
  {
   "cell_type": "code",
   "execution_count": 28,
   "metadata": {},
   "outputs": [
    {
     "name": "stdout",
     "output_type": "stream",
     "text": [
      "[[0.         0.         0.         ... 0.         0.         0.        ]\n",
      " [0.         0.         0.         ... 0.         0.         0.        ]\n",
      " [0.         0.         0.         ... 0.         0.         0.        ]\n",
      " ...\n",
      " [0.         0.         0.         ... 0.         0.         0.        ]\n",
      " [0.         0.         0.         ... 0.         0.         0.        ]\n",
      " [0.         0.         0.         ... 0.         0.         0.29099649]]\n"
     ]
    }
   ],
   "source": [
    "## TD-IDF\n",
    "from sklearn.feature_extraction.text import TfidfVectorizer\n",
    "\n",
    "tf_idf_vectorizer = TfidfVectorizer(stop_words=stopwords.words('english'))\n",
    "vectors = tf_idf_vectorizer.fit_transform(claims)\n",
    "feature_names = tf_idf_vectorizer.get_feature_names()\n",
    "dense = vectors.todense()\n"
   ]
  },
  {
   "cell_type": "code",
   "execution_count": 50,
   "metadata": {},
   "outputs": [
    {
     "data": {
      "text/plain": [
       "matrix([[  0, 159, 160, ..., 150,  69,  70],\n",
       "        [  0, 158, 159, ...,  21,  80, 243],\n",
       "        [  0, 156, 157, ...,  19, 198, 234],\n",
       "        ...,\n",
       "        [  0, 160, 161, ..., 211,   3, 149],\n",
       "        [  0, 156, 157, ...,  86, 215, 214],\n",
       "        [  0, 155, 156, ..., 190,  32, 125]])"
      ]
     },
     "execution_count": 50,
     "metadata": {},
     "output_type": "execute_result"
    }
   ],
   "source": [
    "np.argsort(dense, axis=1)"
   ]
  },
  {
   "cell_type": "code",
   "execution_count": 90,
   "metadata": {},
   "outputs": [],
   "source": [
    "x = np.asarray(np.argsort(dense, axis=1)[:, :-4:-1])"
   ]
  },
  {
   "cell_type": "code",
   "execution_count": 92,
   "metadata": {},
   "outputs": [],
   "source": [
    "m = []\n",
    "for i in x:\n",
    "    feature = [feature_names[y] for y in i]\n",
    "    m.append(feature)"
   ]
  },
  {
   "cell_type": "code",
   "execution_count": 93,
   "metadata": {},
   "outputs": [
    {
     "data": {
      "text/plain": [
       "[['enough', 'enjoy', 'mindset'],\n",
       " ['weird', 'extremely', 'bitcoin'],\n",
       " ['value', 'see', 'best'],\n",
       " ['reduce', 'stress', 'thinking'],\n",
       " ['everyday', 'worst', 'person'],\n",
       " ['must', 'invest', '10'],\n",
       " ['bubble', 'driven', 'usually'],\n",
       " ['prospects', 'obvious', 'translate'],\n",
       " ['yes', 'experts', 'future'],\n",
       " ['late', 'invest', 'financially'],\n",
       " ['yes', 'experts', 'future'],\n",
       " ['scarce', 'bitcoins', 'yes'],\n",
       " ['useful', 'bitcoins', 'yes'],\n",
       " ['features', 'one', 'important'],\n",
       " ['disadvantages', 'investments', 'bitcoin'],\n",
       " ['gold', 'useless', 'pretty'],\n",
       " ['experts', 'let', 'handle'],\n",
       " ['asset', 'principle', 'low'],\n",
       " ['management', 'definitely', 'good'],\n",
       " ['say', 'would', 'yes'],\n",
       " ['yes', 'experts', 'future'],\n",
       " ['continually', 'conducting', 'growing'],\n",
       " ['assets', 'disposable', 'depends'],\n",
       " ['assets', 'disposable', 'depends'],\n",
       " ['gold', 'useless', 'pretty'],\n",
       " ['cfds', 'bought', 'hazardous'],\n",
       " ['thing', 'research', 'dangers'],\n",
       " ['simple', 'answer', 'yes'],\n",
       " ['unwise', 'invest', 'bitcoin'],\n",
       " ['certainly', 'almost', 'bubble'],\n",
       " ['double', 'freedom', 'bouyant'],\n",
       " ['wondering', 'whether', 'short'],\n",
       " ['okay', 'loss', 'invest'],\n",
       " ['real', 'never', 'money'],\n",
       " ['late', 'invest', 'financially'],\n",
       " ['course', 'experimental', 'fundamentals'],\n",
       " ['conversely', 'interested', 'believe'],\n",
       " ['carefully', 'want', 'think'],\n",
       " ['investor', 'averse', 'consider'],\n",
       " ['critical', 'afford', 'also'],\n",
       " ['risk', 'get', 'hard'],\n",
       " ['investment', 'health', 'product'],\n",
       " ['convenient', 'rewarding', 'platform'],\n",
       " ['recommend', 'com', 'bay'],\n",
       " ['currencies', 'viable', 'power'],\n",
       " ['volatile', 'sure', 'take'],\n",
       " ['anyone', 'provides', 'predictable'],\n",
       " ['proven', 'continuously', 'decade'],\n",
       " ['everyone', 'highly', 'fit'],\n",
       " ['mind', 'accept', 'strong'],\n",
       " ['sure', 'take', 'first'],\n",
       " ['knowing', 'case', 'right']]"
      ]
     },
     "execution_count": 93,
     "metadata": {},
     "output_type": "execute_result"
    }
   ],
   "source": [
    "m"
   ]
  },
  {
   "cell_type": "code",
   "execution_count": null,
   "metadata": {},
   "outputs": [],
   "source": []
  }
 ],
 "metadata": {
  "kernelspec": {
   "display_name": "Python 3.9.5 ('venv')",
   "language": "python",
   "name": "python3"
  },
  "language_info": {
   "codemirror_mode": {
    "name": "ipython",
    "version": 3
   },
   "file_extension": ".py",
   "mimetype": "text/x-python",
   "name": "python",
   "nbconvert_exporter": "python",
   "pygments_lexer": "ipython3",
   "version": "3.9.5"
  },
  "orig_nbformat": 4,
  "vscode": {
   "interpreter": {
    "hash": "640cace4827df8bb8e1edb3566e4e979a7918609c95fe3eaf671877de41a29fe"
   }
  }
 },
 "nbformat": 4,
 "nbformat_minor": 2
}
