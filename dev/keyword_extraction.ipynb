{
 "cells": [
  {
   "cell_type": "markdown",
   "metadata": {},
   "source": [
    "# Key word extraction algorithm for claims"
   ]
  },
  {
   "cell_type": "code",
   "execution_count": 1,
   "metadata": {},
   "outputs": [],
   "source": [
    "import os, json\n",
    "from helper_function import count_valid_posts, get_claims, get_premises\n",
    "import pandas as pd\n",
    "import numpy as np\n",
    "from nltk.corpus import stopwords"
   ]
  },
  {
   "cell_type": "code",
   "execution_count": 2,
   "metadata": {},
   "outputs": [
    {
     "name": "stdout",
     "output_type": "stream",
     "text": [
      "Get valid posts:  (41, 70)\n"
     ]
    }
   ],
   "source": [
    "with open('../data/v3_70_filled/Should-I-invest-in-Bitcoin_with_labels_v3_70_filled.json', 'r') as f:\n",
    "    file_content = json.load(f)\n",
    "print('Get valid posts: ', count_valid_posts(file_content))\n",
    "claims = get_claims(file_content)\n",
    "premises = get_premises(file_content)"
   ]
  },
  {
   "cell_type": "markdown",
   "metadata": {},
   "source": [
    "## Keyword extraction algorithms"
   ]
  },
  {
   "cell_type": "code",
   "execution_count": 19,
   "metadata": {},
   "outputs": [],
   "source": [
    "## TD-IDF\n",
    "from sklearn.feature_extraction.text import TfidfVectorizer\n",
    "\n",
    "tf_idf_vectorizer = TfidfVectorizer(stop_words=stopwords.words('english'))\n",
    "vectors = tf_idf_vectorizer.fit_transform(premises)\n",
    "feature_names = tf_idf_vectorizer.get_feature_names()\n",
    "dense = vectors.todense()\n"
   ]
  },
  {
   "cell_type": "code",
   "execution_count": 20,
   "metadata": {},
   "outputs": [
    {
     "data": {
      "text/plain": [
       "matrix([[0., 0., 0., ..., 0., 0., 0.],\n",
       "        [0., 0., 0., ..., 0., 0., 0.],\n",
       "        [0., 0., 0., ..., 0., 0., 0.],\n",
       "        ...,\n",
       "        [0., 0., 0., ..., 0., 0., 0.],\n",
       "        [0., 0., 0., ..., 0., 0., 0.],\n",
       "        [0., 0., 0., ..., 0., 0., 0.]])"
      ]
     },
     "execution_count": 20,
     "metadata": {},
     "output_type": "execute_result"
    }
   ],
   "source": [
    "dense"
   ]
  },
  {
   "cell_type": "code",
   "execution_count": 21,
   "metadata": {},
   "outputs": [
    {
     "data": {
      "text/plain": [
       "matrix([[  0, 501, 502, ..., 238, 369, 140],\n",
       "        [  0, 499, 500, ..., 531, 695, 702],\n",
       "        [  0, 499, 500, ..., 268, 556, 494],\n",
       "        ...,\n",
       "        [  0, 500, 501, ..., 760, 559, 603],\n",
       "        [  0, 502, 503, ..., 250, 760, 443],\n",
       "        [  0, 501, 502, ..., 105, 730, 249]])"
      ]
     },
     "execution_count": 21,
     "metadata": {},
     "output_type": "execute_result"
    }
   ],
   "source": [
    "np.argsort(dense, axis=1)"
   ]
  },
  {
   "cell_type": "code",
   "execution_count": 22,
   "metadata": {},
   "outputs": [],
   "source": [
    "x = np.asarray(np.argsort(dense, axis=1)[:, :-4:-1])\n"
   ]
  },
  {
   "cell_type": "code",
   "execution_count": 23,
   "metadata": {},
   "outputs": [
    {
     "data": {
      "text/plain": [
       "[['closed', 'issue', 'everything'],\n",
       " ['understand', 'trouble', 'quickly'],\n",
       " ['phrase', 'research', 'focused'],\n",
       " ['short', 'term', 'longer'],\n",
       " ['sense', 'invest', 'jumped'],\n",
       " ['market', 'earn', 'studying'],\n",
       " ['gold', 'digital', 'like'],\n",
       " ['gold', 'long', 'less'],\n",
       " ['verified', 'addition', 'predictable'],\n",
       " ['created', 'bitcoins', 'see'],\n",
       " ['anywhere', 'world', 'account'],\n",
       " ['created', 'bitcoins', 'features'],\n",
       " ['failed', 'escape', 'border'],\n",
       " ['global', 'information', 'access'],\n",
       " ['market', 'price', 'investment'],\n",
       " ['hacking', 'exchanges', 'threat'],\n",
       " ['little', 'operates', 'stand'],\n",
       " ['besides', 'legitimate', 'accepted'],\n",
       " ['bankrupt', 'recover', 'corrupts'],\n",
       " ['useless', 'pretty', 'gold'],\n",
       " ['brand', 'gold', 'world'],\n",
       " ['world', 'one', 'fast'],\n",
       " ['banks', 'clients', 'hnw'],\n",
       " ['gold', 'cared', 'forget'],\n",
       " ['previous', 'upside', 'believe'],\n",
       " ['futures', 'inception', 'cap'],\n",
       " ['value', 'answer', 'considering'],\n",
       " ['dollars', 'ecosystem', 'increase'],\n",
       " ['addresses', 'active', 'institutional'],\n",
       " ['secure', 'system', 'online'],\n",
       " ['young', 'predictive', 'unstable'],\n",
       " ['point', 'instrument', 'view'],\n",
       " ['decades', 'fall', 'rise'],\n",
       " ['bearish', 'occur', 'planned'],\n",
       " ['pace', 'exponential', 'growing'],\n",
       " ['technology', 'lives', 'called'],\n",
       " ['generally', 'consist', 'position'],\n",
       " ['layer', '2s', 'eth'],\n",
       " ['option', 'meaning', 'rebounded'],\n",
       " ['largely', 'gamble', 'highly'],\n",
       " ['brand', 'gold', 'world'],\n",
       " ['proof', 'driven', 'ready'],\n",
       " ['read', 'bitcoins', 'james'],\n",
       " ['2000', 'price', 'spent'],\n",
       " ['terms', 'works', 'intrinsic'],\n",
       " ['shown', 'dollar', 'commodities'],\n",
       " ['bitcoins', 'useful', 'valuable'],\n",
       " ['still', 'plenty', 'relatively'],\n",
       " ['scare', 'presents', 'quick'],\n",
       " ['freedom', 'single', 'sovereignty'],\n",
       " ['30', 'crash', 'first'],\n",
       " ['240', 'went', '80'],\n",
       " ['2013', 'months', 'dec'],\n",
       " ['level', '000', 'break'],\n",
       " ['intermittent', 'crossed', 'corrections'],\n",
       " ['immune', 'inflation', 'bitcoin'],\n",
       " ['take', 'settlement', 'transactions'],\n",
       " ['market', 'open', '24'],\n",
       " ['arguably', 'liquid', 'assets'],\n",
       " ['profit', 'liquidity', 'high'],\n",
       " ['value', 'several', 'tenfold'],\n",
       " ['investment', 'getting', 'costly'],\n",
       " ['nobody', 'succeed', 'risk'],\n",
       " ['lot', 'around', 'less'],\n",
       " ['kinds', 'issues', 'arise'],\n",
       " ['part', 'decade', 'another'],\n",
       " ['hackers', 'susceptible', 'theft'],\n",
       " ['price', 'people', 'rising'],\n",
       " ['stocks', 'risen', 'subject'],\n",
       " ['rewarding', 'convenient', 'platform'],\n",
       " ['constant', 'waited', 'day'],\n",
       " ['people', 'buy', 'bitcoins'],\n",
       " ['reach', 'told', '10k'],\n",
       " ['strategy', 'dca', 'simply'],\n",
       " ['balance', 'wallet', 'forever'],\n",
       " ['created', 'bitcoins', 'features'],\n",
       " ['anywhere', 'world', 'account'],\n",
       " ['failed', 'escape', 'border'],\n",
       " ['bought', 'usd', 'five'],\n",
       " ['potentials', 'massive', 'returns'],\n",
       " ['horizon', 'shorter', 'time'],\n",
       " ['liquidity', 'increased', 'young'],\n",
       " ['execution', 'direction', 'clear'],\n",
       " ['increased', 'volatility', 'young'],\n",
       " ['stall', 'network', 'potential'],\n",
       " ['shortage', 'resources', 'young'],\n",
       " ['mismanagement', 'young', 'eye'],\n",
       " ['extremely', 'volatile', 'bitcoin']]"
      ]
     },
     "execution_count": 23,
     "metadata": {},
     "output_type": "execute_result"
    }
   ],
   "source": [
    "m = []\n",
    "for i in x:\n",
    "    feature = [feature_names[y] for y in i]\n",
    "    m.append(feature)\n",
    "m"
   ]
  },
  {
   "cell_type": "code",
   "execution_count": null,
   "metadata": {},
   "outputs": [],
   "source": []
  }
 ],
 "metadata": {
  "kernelspec": {
   "display_name": "Python 3.9.5 ('venv')",
   "language": "python",
   "name": "python3"
  },
  "language_info": {
   "codemirror_mode": {
    "name": "ipython",
    "version": 3
   },
   "file_extension": ".py",
   "mimetype": "text/x-python",
   "name": "python",
   "nbconvert_exporter": "python",
   "pygments_lexer": "ipython3",
   "version": "3.9.5"
  },
  "orig_nbformat": 4,
  "vscode": {
   "interpreter": {
    "hash": "640cace4827df8bb8e1edb3566e4e979a7918609c95fe3eaf671877de41a29fe"
   }
  }
 },
 "nbformat": 4,
 "nbformat_minor": 2
}
