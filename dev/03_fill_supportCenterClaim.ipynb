{
 "cells": [
  {
   "cell_type": "code",
   "execution_count": 1,
   "metadata": {},
   "outputs": [],
   "source": [
    "import json\n",
    "from helper_function import get_premises, fill_labels"
   ]
  },
  {
   "cell_type": "code",
   "execution_count": 2,
   "metadata": {},
   "outputs": [],
   "source": [
    "data_file_path = '../data/v4/Should-I-invest-in-Bitcoin_with_labels_v4_70_filled.json'\n",
    "data_file_path = \"../data/v4/Would-you-get-into-a-self-driving-car_v4_70_filled.json\"\n",
    "data_file_path = \"../data/v3_70_filled/bitcoin-invest-aligned.json\"\n",
    "# data_file_path = \"../data/v3_70_filled/auto-driving-aligned.json\"\n",
    "\n",
    "with open(data_file_path, 'r') as f:\n",
    "    file_content = json.load(f)\n",
    "premises_obj = get_premises(file_content, return_list_of_strings=False)\n",
    "supportClaim = [y['supportClaim'] for x in premises_obj for y in x]\n"
   ]
  },
  {
   "cell_type": "code",
   "execution_count": 3,
   "metadata": {},
   "outputs": [
    {
     "data": {
      "text/plain": [
       "{'0': ['Yes, you should.',\n",
       "  'That’s up to you.',\n",
       "  'go for it',\n",
       "  'you don’t need to repeat them and learn the hard way'],\n",
       " '1': ['The “too late” mindset will ruin your investing\\n\\npsychology and your potential to make enough money to enjoy your life.',\n",
       "  'It’s not too late to invest',\n",
       "  'It’s not too late to invest'],\n",
       " '2': ['Bitcoin is extremely weird',\n",
       "  'Bill is a cryptocurrency, or a form of digital currency that uses cryptography for security',\n",
       "  'Bitcoin is like digital gold',\n",
       "  'There is no official Bitcoin price',\n",
       "  'One could argue that gold served a physical world well, we now live in a more digital one',\n",
       "  'Bitcoin is pretty useless. But so is gold.',\n",
       "  \"Forget Bitcoin's intrinsic use, no-one ever cared about gold's either, but as more sophisticated investors buy into Bitcoin, which will spur on others, it will entrench itself as digital gold\",\n",
       "  'One could argue that gold served a physical world well, we now live in a more digital one',\n",
       "  \"Forget Bitcoin's intrinsic use, no-one ever cared about gold's either, but as more sophisticated investors buy into Bitcoin, which will spur on others, it will entrench itself as digital gold\"],\n",
       " '3': ['It should be used to determine the trend: up, down, neutral'],\n",
       " '4': ['This is massive'],\n",
       " '5': ['The significant thing is to do your own research and comprehend the dangers',\n",
       "  'Keep that in mind, and do your own research based on where you live'],\n",
       " '6': ['The simple answer is Yes.'],\n",
       " '7': ['It is almost certainly in a bubble.',\n",
       "  'I urge people to please take a look at the following chart of Bitcoin to understand this bubble',\n",
       "  'If you are worried that you missed one of the insane bull run, bubble whatever'],\n",
       " '8': ['Yes, Bitcoin has its pros',\n",
       "  'If you understand the potential impact of Bitcoin, it won’t be hard to understand why investing in bitcoin may be a good idea',\n",
       "  'if you’re wondering should you invest in Bitcoin, the answer is yes',\n",
       "  'I would say YES! Bitcoin has been a good thing for me and lots of people i am sure',\n",
       "  'If you are looking to invest in a large-cap crypto, ETH could be a better choice due to it’s necessity as an currency for conducting transactions on the Ethereum network, which is continually growing its user base',\n",
       "  'It depends what your level of disposable income is, how great your assets are, and what other assets you have invested in',\n",
       "  \"If you're wondering whether you should invest in Bitcoin, the short answer is yes\",\n",
       "  'it also presents a great opportunity for investors who are looking to make quick profits',\n",
       "  'One rule of thumb is to invest no more than 10% of your portfolio in individual stocks or risky assets like bitcoin. If you’re new to investing',\n",
       "  'Yes, you can invest in bitcoin.'],\n",
       " '9': ['The worst way to invest as an everyday person is for the short term.',\n",
       "  'The best time to buy bitcoin is when you understand it and see its value.',\n",
       "  'This doesn’t mean you should not invest in bitcoin. Instead, let experts handle your investment.',\n",
       "  'Try thinking of investing in bitcoin as you would buying a lottery ticket.',\n",
       "  'Invest in Bitcoin, only if you are okay to loss all.',\n",
       "  'this is your opportunity to learn from someone with over a decade of real world experience',\n",
       "  'Investing money you can afford to lose is also critical.',\n",
       "  'You can invest in bitcoin, because it has the most convenient and rewarding platform',\n",
       "  'I recommend investing on (investments bay, com) from now!',\n",
       "  'Investing in Bitcoin is viable option especially in a view of current decline of the power of Fiat currencies.',\n",
       "  'Bitcoin is extremely volatile, but if you are willing to take the risk, first make sure you understand what you are investing in and have a crypto investment strategy',\n",
       "  'If you have a strong mind to accept the loss, then you may invest your money.'],\n",
       " '10': ['You can see the gains!'],\n",
       " '11': ['Thinking about the assets you invest in over the long term helps reduce your stress levels',\n",
       "  'If you must invest in it, remember the golden rule of investing - Never invest more than what you’re willing to lose',\n",
       "  'If you absolutely must, no more than 10% of your portfolio must be invested in risky assets',\n",
       "  'It is more of a gamble than an investment',\n",
       "  'Risk is inherent in all investments, and no matter how hard you try, you cannot get around it'],\n",
       " '12': ['to successfully earn off cryptocurrency, it’s all about timing, studying the market if you decide to self trade',\n",
       "  'If you have some cash to spare, investing in some cryptocurrency is not a bad idea',\n",
       "  'The cryptocurrency market has been growing at an exponential pace and making a number of people very rich',\n",
       "  'The crypto scene is full of newbies and fake experts with dangerous advice',\n",
       "  'Think carefully about why you want to invest in cryptocurrency before you do so.',\n",
       "  'Buying bitcoin or other cryptocurrencies can be a fun way to explore an experimental new investment. But it’s also true that any investment in cryptocurrency should carry a warning label like cigarettes: “This product may be harmful to the health of your finances. Never buy more than you can afford to lose.',\n",
       "  'If you are willing to take the risk, first make sure you understand what you are investing in and have a crypto investment strategy'],\n",
       " '13': ['Bitcoin’s monetary policy is one of its most important features.',\n",
       "  'Through a global transaction network, bitcoins can be sent securely across borders, in any amount, at low costs, as seamlessly as a text message, and without the need for trusted third-parties',\n",
       "  'The bitcoin protocol provides the most secure system to make online payments and with so many payment processing system creating products for the end user, bitcoins are definitely one of the most significant options to proceed online payments',\n",
       "  'Bitcoin makes cross-border payments possible, and also provides an easy way for people to escape failed government monetary policy'],\n",
       " '14': ['But bitcoin trading is minimalistic',\n",
       "  'Here are some serious risks associated with bitcoin investments.',\n",
       "  'We continue to feel strong about Bitcoin being the leading indicator for cryptocurrencies',\n",
       "  'Venture capitalists have poured tons of money into the Bitcoin ecosystem',\n",
       "  'Cryto currency is an extremely high-hazard venture, and CFDs bought on margin are significantly more hazardous.',\n",
       "  'It is unwise not to invest in Bitcoin.',\n",
       "  'What makes bitcoins valuable is because bitcoins are scarce and useful',\n",
       "  \"Bitcoin is decentralized, which means it isn't controlled by any single entity like a central bank or government\",\n",
       "  'Crypto will never be real money.',\n",
       "  'Anyone who bought Bitcoin and held it for five years or more made significant returns on investment',\n",
       "  'Bitcoin has continuously proven itself to be the greatest investment of the decade.',\n",
       "  'Bitcoin is a highly risky investment and not fit for everyone.',\n",
       "  'Not everyone is willing to sacrifice their time and money']}"
      ]
     },
     "execution_count": 3,
     "metadata": {},
     "output_type": "execute_result"
    }
   ],
   "source": [
    "claim_clusters_path = '../data/newest_data(rolling update)/claim center and statistics/bitcoin investment/claim_clusters.json'\n",
    "# claim_clusters_path = '../data/newest_data(rolling update)/claim center and statistics/automos driving/claim_clusters.json'\n",
    "with open(claim_clusters_path, 'r') as f:\n",
    "    claim_clusters = json.load(f)\n",
    "claim_clusters\n",
    "# claim_clusters = {0: ['The “too late” mindset will ruin your investing\\n\\npsychology and your potential to make enough money to enjoy your life.',\n",
    "#                       'Obvious prospects for physical growth in an industry do not translate into obvious prospects for investors',\n",
    "#                       'It’s not too late to invest.',\n",
    "#                       'it’s not too late to invest.'],\n",
    "#                   1: ['Bitcoin is extremely weird',\n",
    "#                       'Bitcoins Are Scarce',\n",
    "#                       'Bitcoins Are Useful',\n",
    "#                       'Bitcoin is pretty useless. But so is gold.',\n",
    "#                       'Bitcoin is pretty useless. But so is gold.'],\n",
    "#                   2: ['I would say YES!', 'The simple answer is Yes.'],\n",
    "#                   3: ['That’s up to you.'],\n",
    "#                   4: ['It depends what your level of disposable income is, how great your assets are, and what other assets you have invested in.',\n",
    "#                       'It depends what your level of disposable income is, how great your assets are, and what other assets you have invested in.'],\n",
    "#                   5: ['Cryto currency is an extremely high-hazard venture, and CFDs bought on margin are significantly more hazardous.'],\n",
    "#                   6: ['The significant thing is to do your own research and comprehend the dangers.'],\n",
    "#                   7: ['A “bubble” occurs when the price of a stock or investment is driven up to unsustainably high levels, substantially way more than what that item is worth. This bubble is usually caused by emotions of the masses, and not by logical investing or “looking at fundamentals”. And it always starts off as something that made sense in the beginning.\\n\\nIts exactly the same with Bitcoin.',\n",
    "#                       'It is almost certainly in a bubble.'],\n",
    "#                   8: ['The best time to buy bitcoin is when you understand it and see its value.',\n",
    "#                       'Thinking about the assets you invest in over the long term helps reduce your stress levels.',\n",
    "#                       'The worst way to invest as an everyday person is for the short term.',\n",
    "#                       'This doesn’t mean you should not invest in bitcoin. Instead, let experts handle your investment.',\n",
    "#                       'It is unwise not to invest in Bitcoin.',\n",
    "#                       'This is the best and no other time to invest in bitcoins and double your investments in order to be financially bouyant and have financial freedom in this Covid-19.',\n",
    "#                       'Invest in Bitcoin, only if you are okay to loss all.',\n",
    "#                       'Investing money you can afford to lose is also critical.',\n",
    "#                       'Buying bitcoin or other cryptocurrencies can be a fun way to explore an experimental new investment. But it’s also true that any investment in cryptocurrency should carry a warning label like cigarettes: “This product may be harmful to the health of your finances. Never buy more than you can afford to lose.”',\n",
    "#                       'You can invest in bitcoin, because it has the most convenient and rewarding platform.',\n",
    "#                       'If you have a strong mind to accept the loss, then you may invest your money.'],\n",
    "#                   9: ['Yes, you should.', 'If you can, why not?', 'Of course you should'],\n",
    "#                   10: ['Bitcoin’s monetary policy is one of its most important features.',\n",
    "#                        'Disadvantages of Bitcoin Investments',\n",
    "#                        'There are many supporters of Bitcoin who believe that digital currency is the future; like any other asset, the principle of buying low and selling high also applies to Bitcoin.',\n",
    "#                        'Definitely Bitcoin is a very good investment option as profit is guaranteed and for better risk management',\n",
    "#                        \"If you're wondering whether you should invest in Bitcoin, the short answer is yes.\",\n",
    "#                        'Crypto will never be real money.',\n",
    "#                        'Investing in Bitcoin is viable option especially in a view of current decline of the power of Fiat currencies.',\n",
    "#                        'Bitcoin provides a sound and predictable monetary policy that can be verified by anyone.',\n",
    "#                        'Bitcoin has continuously proven itself to be the greatest investment of the decade.',\n",
    "#                        'Bitcoin is a highly risky investment and not fit for everyone.',\n",
    "#                        'Yes, you can invest in bitcoin. But knowing the right time can be a real case scenario.'],\n",
    "#                   11: ['If you must invest in it, remember the golden rule of investing - Never invest more than what you’re willing to lose. If you absolutely must, no more than 10% of your portfolio must be invested in risky assets.',\n",
    "#                        'If you are looking to invest in a large-cap crypto, ETH could be a better choice due to it’s necessity as an currency for conducting transactions on the Ethereum network, which is continually growing its user base.',\n",
    "#                        \"Conversely, if you're interested in buying crypto because you believe it has long-term potential, then it doesn't matter when you buy.\",\n",
    "#                        'Think carefully about why you want to invest in cryptocurrency before you do so.',\n",
    "#                        'Therefore, if you are a risk-averse investor, you should not consider investing in cryptocurrencies.',\n",
    "#                        \"Risk is inherent in all investments, and no matter how hard you try, you cannot get around it. However, when you purchase a digital currency like Bitcoin, you're taking on more risk than you would if you put your money into a quality stock.\",\n",
    "#                        'I recommend investing on (investments bay, com) from now!',\n",
    "#                        'Bitcoin is extremely volatile, but if you are willing to take the risk, first make sure you understand what you are investing in and have a crypto investment strategy',\n",
    "#                        'If you are willing to take the risk, first make sure you understand what you are investing in and have a crypto investment strategy']}\n",
    "# with open('../data/newest_data(rolling update)/claim center and statistics/bitcoin investment/claim_clusters.json', 'w') as f:\n",
    "#     json.dump(claim_clusters, f)\n"
   ]
  },
  {
   "cell_type": "code",
   "execution_count": 4,
   "metadata": {},
   "outputs": [
    {
     "name": "stdout",
     "output_type": "stream",
     "text": [
      "This is massive\n",
      "The simple answer is Yes.\n",
      "If you're wondering whether you should invest in Bitcoin, the short answer is yes\n",
      "Invest in Bitcoin, only if you are okay to loss all.\n",
      "Risk is inherent in all investments, and no matter how hard you try, you cannot get around it\n"
     ]
    }
   ],
   "source": [
    "# center_claims_relation = {\n",
    "#     0:\t\"It’s not too late to invest.\",\n",
    "#     1:\t\"Bitcoin is pretty useless. But so is gold.\",\n",
    "#     2:\t\"I would say YES!\",\n",
    "#     3:\t\"That’s up to you.\",\n",
    "#     4:\t\"It depends what your level of disposable income is, how great your assets are, and what other assets you have invested in.\",\n",
    "#     5:\t\"Cryto currency is an extremely high-hazard venture, and CFDs bought on margin are significantly more hazardous.\",\n",
    "#     6:\t\"The significant thing is to do your own research and comprehend the dangers.\",\n",
    "#     7:\t\"It is almost certainly in a bubble.\",\n",
    "#     8:\t\"Invest in Bitcoin, only if you are okay to loss all.\",\n",
    "#     9:\t\"Of course you should\",\n",
    "#     10:\t\"Investing in Bitcoin is viable option especially in a view of current decline of the power of Fiat currencies.\",\n",
    "#     11:\t\"If you are willing to take the risk, first make sure you understand what you are investing in and have a crypto investment strategy\",\n",
    "# }\n",
    "# with open('../data/newest_data(rolling update)/claim center and statistics/bitcoin investment/center_claims_relation.json', 'w') as f:\n",
    "#     json.dump(center_claims_relation, f)\n",
    "center_claims_relation_path = '../data/newest_data(rolling update)/claim center and statistics/bitcoin investment/center_claims_relation.json'\n",
    "# center_claims_relation_path = '../data/newest_data(rolling update)/claim center and statistics/automos driving/center_claims_relation.json'\n",
    "with open(center_claims_relation_path, 'r') as f:\n",
    "    center_claims_relation = json.load(f)\n",
    "for v in center_claims_relation.values():\n",
    "    if not v in supportClaim:\n",
    "        print(v)"
   ]
  },
  {
   "cell_type": "code",
   "execution_count": 5,
   "metadata": {},
   "outputs": [],
   "source": [
    "claim_vs_claimCenter = {\n",
    "    c:center_claims_relation[a] for a,b in claim_clusters.items() for c in b\n",
    "}\n",
    "claim_vs_claimCenter['None'] = 'None'"
   ]
  },
  {
   "cell_type": "code",
   "execution_count": 6,
   "metadata": {},
   "outputs": [
    {
     "ename": "KeyError",
     "evalue": "''",
     "output_type": "error",
     "traceback": [
      "\u001b[0;31m---------------------------------------------------------------------------\u001b[0m",
      "\u001b[0;31mKeyError\u001b[0m                                  Traceback (most recent call last)",
      "\u001b[0;32m/var/folders/nr/_r872q0n30sfgln4hf3jw6_w0000gn/T/ipykernel_52852/4105965034.py\u001b[0m in \u001b[0;36m<module>\u001b[0;34m\u001b[0m\n\u001b[0;32m----> 1\u001b[0;31m \u001b[0msupportCenterClaim\u001b[0m \u001b[0;34m=\u001b[0m \u001b[0;34m[\u001b[0m\u001b[0mclaim_vs_claimCenter\u001b[0m\u001b[0;34m[\u001b[0m\u001b[0mx\u001b[0m\u001b[0;34m]\u001b[0m \u001b[0;32mfor\u001b[0m \u001b[0mx\u001b[0m \u001b[0;32min\u001b[0m \u001b[0msupportClaim\u001b[0m\u001b[0;34m]\u001b[0m\u001b[0;34m\u001b[0m\u001b[0;34m\u001b[0m\u001b[0m\n\u001b[0m",
      "\u001b[0;32m/var/folders/nr/_r872q0n30sfgln4hf3jw6_w0000gn/T/ipykernel_52852/4105965034.py\u001b[0m in \u001b[0;36m<listcomp>\u001b[0;34m(.0)\u001b[0m\n\u001b[0;32m----> 1\u001b[0;31m \u001b[0msupportCenterClaim\u001b[0m \u001b[0;34m=\u001b[0m \u001b[0;34m[\u001b[0m\u001b[0mclaim_vs_claimCenter\u001b[0m\u001b[0;34m[\u001b[0m\u001b[0mx\u001b[0m\u001b[0;34m]\u001b[0m \u001b[0;32mfor\u001b[0m \u001b[0mx\u001b[0m \u001b[0;32min\u001b[0m \u001b[0msupportClaim\u001b[0m\u001b[0;34m]\u001b[0m\u001b[0;34m\u001b[0m\u001b[0;34m\u001b[0m\u001b[0m\n\u001b[0m",
      "\u001b[0;31mKeyError\u001b[0m: ''"
     ]
    }
   ],
   "source": [
    "supportCenterClaim = [claim_vs_claimCenter[x] for x in supportClaim]"
   ]
  },
  {
   "cell_type": "code",
   "execution_count": null,
   "metadata": {},
   "outputs": [],
   "source": [
    "filled_file_content = fill_labels(\n",
    "    x=file_content, labels=supportCenterClaim, fill_term='premise', content_name='supportClaimCenter')\n",
    "output_file_path = '../data/v5/Should-I-invest-in-Bitcoin_with_labels_v5_70_filled.json'\n",
    "output_file_path = '../data/v5/Would-you-get-into-a-self-driving-car_with_labels_v5_70_filled.json'\n",
    "output_file_path = '../data/v5/bitcoin-invest-aligned.json'\n",
    "# output_file_path = '../data/v5/auto-driving-aligned.json'\n",
    "with open(output_file_path,'w') as f:\n",
    "    json.dump(filled_file_content, fp=f, indent=4, ensure_ascii=False)\n"
   ]
  },
  {
   "cell_type": "code",
   "execution_count": null,
   "metadata": {},
   "outputs": [],
   "source": []
  }
 ],
 "metadata": {
  "kernelspec": {
   "display_name": "Python 3.9.5 ('venv')",
   "language": "python",
   "name": "python3"
  },
  "language_info": {
   "codemirror_mode": {
    "name": "ipython",
    "version": 3
   },
   "file_extension": ".py",
   "mimetype": "text/x-python",
   "name": "python",
   "nbconvert_exporter": "python",
   "pygments_lexer": "ipython3",
   "version": "3.9.5"
  },
  "orig_nbformat": 4,
  "vscode": {
   "interpreter": {
    "hash": "640cace4827df8bb8e1edb3566e4e979a7918609c95fe3eaf671877de41a29fe"
   }
  }
 },
 "nbformat": 4,
 "nbformat_minor": 2
}
