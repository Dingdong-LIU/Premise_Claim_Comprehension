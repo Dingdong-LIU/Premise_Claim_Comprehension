{
 "cells": [
  {
   "cell_type": "code",
   "execution_count": 1,
   "metadata": {},
   "outputs": [],
   "source": [
    "import json\n",
    "from helper_function import get_premises, fill_labels"
   ]
  },
  {
   "cell_type": "code",
   "execution_count": 2,
   "metadata": {},
   "outputs": [],
   "source": [
    "data_file_path = '../data/v4/Should-I-invest-in-Bitcoin_with_labels_v4_70_filled.json'\n",
    "data_file_path = \"../data/v4/Would-you-get-into-a-self-driving-car_v4_70_filled.json\"\n",
    "with open(data_file_path, 'r') as f:\n",
    "    file_content = json.load(f)\n",
    "premises_obj = get_premises(file_content, return_list_of_strings=False)\n",
    "supportClaim = [y['supportClaim'] for x in premises_obj for y in x]\n"
   ]
  },
  {
   "cell_type": "code",
   "execution_count": 3,
   "metadata": {},
   "outputs": [
    {
     "data": {
      "text/plain": [
       "{'0': ['All in all, I’ll let the car drive 95% of the time, and maybe take the wheel the other 5%.',\n",
       "  \"I love to drive on a nice day with little or no traffic. At all other times, I'll have my car drive for me.\",\n",
       "  'when I’m driving on the highway no matter how long the trip is, I won’t use the cruse control.',\n",
       "  'All in all, well, i would still prefer to drive to drive me car on short distance because to me, driving is a pleasure.',\n",
       "  'I don’t. I value people’s lives more than the effort I lose having to drive myself.',\n",
       "  'Just happens that I enjoy driving, and I’m not giving it to a machine!!'],\n",
       " '1': [\"In the case I've described two paragraphs above, I'm really lost as to what fact based evidence could be used to chose the human.\"],\n",
       " '2': ['Absolutely.',\n",
       "  'Yes.',\n",
       "  'Yes, definitely.',\n",
       "  'Yes!',\n",
       "  'Yes',\n",
       "  'Yes.',\n",
       "  'Not yet.'],\n",
       " '3': ['Absolutely. It will be a while before they are legal for regular people though.',\n",
       "  'I plan to buy one as soon as the price gets in the range of the regular models.',\n",
       "  'Yes, as soon as they work and are available at a reasonable price.',\n",
       "  'Not at this point. They need work.'],\n",
       " '4': ['Initially the investment might be big, but the ROI is pretty awesome and worth it.',\n",
       "  \"I'd consider it, definitely not straight away though - will wait a few years until everything is 100% safe and secure.\",\n",
       "  \"Maybe. It could be nice on long trips, but I enjoy driving and don't know if I would like giving up the control.\",\n",
       "  'Yes - in a few years it might be safer than me driving.',\n",
       "  \"It's safer than me driving, *even* at this point.\",\n",
       "  'Well, I wouldn’t now, but statistically, 90% of accidents are caused by human error.',\n",
       "  'Yes. I have one already that handles most driving tasks.'],\n",
       " '5': ['I don’t trust them.',\n",
       "  \"yes. maybe a slow drive at first just to be sure, but I'm confident about this technological future.\",\n",
       "  \"Yes, but not if it's built by Google.\",\n",
       "  'One day it will be everywhere but we arent ready to 100% trust a selfless driving car..',\n",
       "  'No. It is too early in the technology to be able to trust the self-driving car.',\n",
       "  'Autonomous cars may prove themselves in general to be safe and reliable but there needs to be a way to prove specific vehicles share those qualities.'],\n",
       " '6': ['Yes, you would.',\n",
       "  'I already have.',\n",
       "  \"I would. However, I admit that, since I don't offer a proper explanation, some here would classify me as a zealot. They would not be wrong.\",\n",
       "  'my definite answer is yes, I will.',\n",
       "  'I most definitely would.',\n",
       "  'Certainly. I did.',\n",
       "  'Yes, I would.',\n",
       "  'I would.',\n",
       "  'Oh, yes, please!',\n",
       "  'I don’t think I ever would.',\n",
       "  'So no, I wouldn’t pay a dime for it in the current state.'],\n",
       " '7': ['Absolutely!',\n",
       "  'No, there is NO reason to.',\n",
       "  'My answer is NO!',\n",
       "  'Absolutely not!',\n",
       "  'Nope. Absolutely not!',\n",
       "  'Definitely not.',\n",
       "  'I don’t think so.'],\n",
       " '8': ['Its a no brainer',\n",
       "  'I think eventually I will get to that point. But I think that point’s still a long way off.',\n",
       "  'Yes, but not always.',\n",
       "  'Not at the time of answering.',\n",
       "  'I guess that depends'],\n",
       " '9': ['You already do. It is called \"taxi\".',\n",
       "  'This is not something I want to be an early adopter with.',\n",
       "  'A properly working one that can drive well? Yeah, I would.',\n",
       "  'I would absolutely buy a car that drives itself.',\n",
       "  'I would love to have a robotic driver!!',\n",
       "  'A self-driving car is no fun.',\n",
       "  'No, because I have no desire to go into taxi business, and a personal self-driving car is a huge waste of money',\n",
       "  'We would all LOVE to have a fantastic, safe, luxurious living room on wheels that will take us to our destination in style, or let us nap, or watch movies, or whatever.',\n",
       "  'What I mean is, autonomous cars would be great, IF THEY WERE THE ONLY CARS OUT THERE.',\n",
       "  \"Yes, I will. I'd love to have a chauffer, even if it is a robot.\",\n",
       "  'I don’t know if I would be as brave on a car someone else programmed - not because I’m smarter, more like the devil you know versus the devil you don’t know kind of thing.',\n",
       "  'I hate the idea of a self driving car.',\n",
       "  'I’ll keep driving my own cars.',\n",
       "  'Self-driving cars will be as convenient as having your own chauffeur at the price of public transportation.',\n",
       "  \"I won't drive anything self driving.\",\n",
       "  'Auto, you are welcome to take over.',\n",
       "  'Self-driving vehicles that don’t need a steering wheel or human intervention will not exist in the lifetime of anyone reading this. ',\n",
       "  'Personally, I would never own a self driving car.',\n",
       "  'I may own a Tesla some day, but I would likely not use the autonomous / semi-autonomous functions.',\n",
       "  'Yes, I really would like to have a self-driving car.']}"
      ]
     },
     "execution_count": 3,
     "metadata": {},
     "output_type": "execute_result"
    }
   ],
   "source": [
    "claim_clusters_path = '../data/newest_data(rolling update)/claim center and statistics/bitcoin investment/claim_clusters.json'\n",
    "claim_clusters_path = '../data/newest_data(rolling update)/claim center and statistics/automos driving/claim_clusters.json'\n",
    "with open(claim_clusters_path, 'r') as f:\n",
    "    claim_clusters = json.load(f)\n",
    "claim_clusters\n",
    "# claim_clusters = {0: ['The “too late” mindset will ruin your investing\\n\\npsychology and your potential to make enough money to enjoy your life.',\n",
    "#                       'Obvious prospects for physical growth in an industry do not translate into obvious prospects for investors',\n",
    "#                       'It’s not too late to invest.',\n",
    "#                       'it’s not too late to invest.'],\n",
    "#                   1: ['Bitcoin is extremely weird',\n",
    "#                       'Bitcoins Are Scarce',\n",
    "#                       'Bitcoins Are Useful',\n",
    "#                       'Bitcoin is pretty useless. But so is gold.',\n",
    "#                       'Bitcoin is pretty useless. But so is gold.'],\n",
    "#                   2: ['I would say YES!', 'The simple answer is Yes.'],\n",
    "#                   3: ['That’s up to you.'],\n",
    "#                   4: ['It depends what your level of disposable income is, how great your assets are, and what other assets you have invested in.',\n",
    "#                       'It depends what your level of disposable income is, how great your assets are, and what other assets you have invested in.'],\n",
    "#                   5: ['Cryto currency is an extremely high-hazard venture, and CFDs bought on margin are significantly more hazardous.'],\n",
    "#                   6: ['The significant thing is to do your own research and comprehend the dangers.'],\n",
    "#                   7: ['A “bubble” occurs when the price of a stock or investment is driven up to unsustainably high levels, substantially way more than what that item is worth. This bubble is usually caused by emotions of the masses, and not by logical investing or “looking at fundamentals”. And it always starts off as something that made sense in the beginning.\\n\\nIts exactly the same with Bitcoin.',\n",
    "#                       'It is almost certainly in a bubble.'],\n",
    "#                   8: ['The best time to buy bitcoin is when you understand it and see its value.',\n",
    "#                       'Thinking about the assets you invest in over the long term helps reduce your stress levels.',\n",
    "#                       'The worst way to invest as an everyday person is for the short term.',\n",
    "#                       'This doesn’t mean you should not invest in bitcoin. Instead, let experts handle your investment.',\n",
    "#                       'It is unwise not to invest in Bitcoin.',\n",
    "#                       'This is the best and no other time to invest in bitcoins and double your investments in order to be financially bouyant and have financial freedom in this Covid-19.',\n",
    "#                       'Invest in Bitcoin, only if you are okay to loss all.',\n",
    "#                       'Investing money you can afford to lose is also critical.',\n",
    "#                       'Buying bitcoin or other cryptocurrencies can be a fun way to explore an experimental new investment. But it’s also true that any investment in cryptocurrency should carry a warning label like cigarettes: “This product may be harmful to the health of your finances. Never buy more than you can afford to lose.”',\n",
    "#                       'You can invest in bitcoin, because it has the most convenient and rewarding platform.',\n",
    "#                       'If you have a strong mind to accept the loss, then you may invest your money.'],\n",
    "#                   9: ['Yes, you should.', 'If you can, why not?', 'Of course you should'],\n",
    "#                   10: ['Bitcoin’s monetary policy is one of its most important features.',\n",
    "#                        'Disadvantages of Bitcoin Investments',\n",
    "#                        'There are many supporters of Bitcoin who believe that digital currency is the future; like any other asset, the principle of buying low and selling high also applies to Bitcoin.',\n",
    "#                        'Definitely Bitcoin is a very good investment option as profit is guaranteed and for better risk management',\n",
    "#                        \"If you're wondering whether you should invest in Bitcoin, the short answer is yes.\",\n",
    "#                        'Crypto will never be real money.',\n",
    "#                        'Investing in Bitcoin is viable option especially in a view of current decline of the power of Fiat currencies.',\n",
    "#                        'Bitcoin provides a sound and predictable monetary policy that can be verified by anyone.',\n",
    "#                        'Bitcoin has continuously proven itself to be the greatest investment of the decade.',\n",
    "#                        'Bitcoin is a highly risky investment and not fit for everyone.',\n",
    "#                        'Yes, you can invest in bitcoin. But knowing the right time can be a real case scenario.'],\n",
    "#                   11: ['If you must invest in it, remember the golden rule of investing - Never invest more than what you’re willing to lose. If you absolutely must, no more than 10% of your portfolio must be invested in risky assets.',\n",
    "#                        'If you are looking to invest in a large-cap crypto, ETH could be a better choice due to it’s necessity as an currency for conducting transactions on the Ethereum network, which is continually growing its user base.',\n",
    "#                        \"Conversely, if you're interested in buying crypto because you believe it has long-term potential, then it doesn't matter when you buy.\",\n",
    "#                        'Think carefully about why you want to invest in cryptocurrency before you do so.',\n",
    "#                        'Therefore, if you are a risk-averse investor, you should not consider investing in cryptocurrencies.',\n",
    "#                        \"Risk is inherent in all investments, and no matter how hard you try, you cannot get around it. However, when you purchase a digital currency like Bitcoin, you're taking on more risk than you would if you put your money into a quality stock.\",\n",
    "#                        'I recommend investing on (investments bay, com) from now!',\n",
    "#                        'Bitcoin is extremely volatile, but if you are willing to take the risk, first make sure you understand what you are investing in and have a crypto investment strategy',\n",
    "#                        'If you are willing to take the risk, first make sure you understand what you are investing in and have a crypto investment strategy']}\n",
    "# with open('../data/newest_data(rolling update)/claim center and statistics/bitcoin investment/claim_clusters.json', 'w') as f:\n",
    "#     json.dump(claim_clusters, f)\n"
   ]
  },
  {
   "cell_type": "code",
   "execution_count": 4,
   "metadata": {},
   "outputs": [
    {
     "name": "stdout",
     "output_type": "stream",
     "text": [
      "I love to drive on a nice day with little or no traffic. At all other times, I'll have my car drive for me.\n",
      "Yes - in a few years it might be safer than me driving.\n",
      "No. It is too early in the technology to be able to trust the self-driving car.\n"
     ]
    }
   ],
   "source": [
    "# center_claims_relation = {\n",
    "#     0:\t\"It’s not too late to invest.\",\n",
    "#     1:\t\"Bitcoin is pretty useless. But so is gold.\",\n",
    "#     2:\t\"I would say YES!\",\n",
    "#     3:\t\"That’s up to you.\",\n",
    "#     4:\t\"It depends what your level of disposable income is, how great your assets are, and what other assets you have invested in.\",\n",
    "#     5:\t\"Cryto currency is an extremely high-hazard venture, and CFDs bought on margin are significantly more hazardous.\",\n",
    "#     6:\t\"The significant thing is to do your own research and comprehend the dangers.\",\n",
    "#     7:\t\"It is almost certainly in a bubble.\",\n",
    "#     8:\t\"Invest in Bitcoin, only if you are okay to loss all.\",\n",
    "#     9:\t\"Of course you should\",\n",
    "#     10:\t\"Investing in Bitcoin is viable option especially in a view of current decline of the power of Fiat currencies.\",\n",
    "#     11:\t\"If you are willing to take the risk, first make sure you understand what you are investing in and have a crypto investment strategy\",\n",
    "# }\n",
    "# with open('../data/newest_data(rolling update)/claim center and statistics/bitcoin investment/center_claims_relation.json', 'w') as f:\n",
    "#     json.dump(center_claims_relation, f)\n",
    "center_claims_relation_path = '../data/newest_data(rolling update)/claim center and statistics/bitcoin investment/center_claims_relation.json'\n",
    "center_claims_relation_path = '../data/newest_data(rolling update)/claim center and statistics/automos driving/center_claims_relation.json'\n",
    "with open(center_claims_relation_path, 'r') as f:\n",
    "    center_claims_relation = json.load(f)\n",
    "for v in center_claims_relation.values():\n",
    "    if not v in supportClaim:\n",
    "        print(v)"
   ]
  },
  {
   "cell_type": "code",
   "execution_count": 5,
   "metadata": {},
   "outputs": [],
   "source": [
    "claim_vs_claimCenter = {\n",
    "    c:center_claims_relation[a] for a,b in claim_clusters.items() for c in b\n",
    "}\n",
    "claim_vs_claimCenter['None'] = 'None'"
   ]
  },
  {
   "cell_type": "code",
   "execution_count": 6,
   "metadata": {},
   "outputs": [],
   "source": [
    "supportCenterClaim = [claim_vs_claimCenter[x] for x in supportClaim]"
   ]
  },
  {
   "cell_type": "code",
   "execution_count": 7,
   "metadata": {},
   "outputs": [],
   "source": [
    "filled_file_content = fill_labels(\n",
    "    x=file_content, labels=supportCenterClaim, fill_term='premise', content_name='supportClaimCenter')\n",
    "output_file_path = '../data/v5/Should-I-invest-in-Bitcoin_with_labels_v5_70_filled.json'\n",
    "output_file_path = '../data/v5/Would-you-get-into-a-self-driving-car_with_labels_v5_70_filled.json'\n",
    "with open(output_file_path,'w') as f:\n",
    "    json.dump(filled_file_content, fp=f, indent=4, ensure_ascii=False)\n"
   ]
  },
  {
   "cell_type": "code",
   "execution_count": null,
   "metadata": {},
   "outputs": [],
   "source": []
  }
 ],
 "metadata": {
  "kernelspec": {
   "display_name": "Python 3.9.5 ('venv')",
   "language": "python",
   "name": "python3"
  },
  "language_info": {
   "codemirror_mode": {
    "name": "ipython",
    "version": 3
   },
   "file_extension": ".py",
   "mimetype": "text/x-python",
   "name": "python",
   "nbconvert_exporter": "python",
   "pygments_lexer": "ipython3",
   "version": "3.9.5"
  },
  "orig_nbformat": 4,
  "vscode": {
   "interpreter": {
    "hash": "640cace4827df8bb8e1edb3566e4e979a7918609c95fe3eaf671877de41a29fe"
   }
  }
 },
 "nbformat": 4,
 "nbformat_minor": 2
}
