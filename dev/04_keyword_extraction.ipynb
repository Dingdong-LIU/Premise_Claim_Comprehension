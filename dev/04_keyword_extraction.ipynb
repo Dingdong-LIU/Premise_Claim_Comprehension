{
 "cells": [
  {
   "cell_type": "markdown",
   "metadata": {},
   "source": [
    "# Key word extraction algorithm for claims"
   ]
  },
  {
   "cell_type": "code",
   "execution_count": 16,
   "metadata": {},
   "outputs": [
    {
     "name": "stdout",
     "output_type": "stream",
     "text": [
      "The autoreload extension is already loaded. To reload it, use:\n",
      "  %reload_ext autoreload\n"
     ]
    }
   ],
   "source": [
    "%load_ext autoreload\n",
    "%autoreload 2\n"
   ]
  },
  {
   "cell_type": "code",
   "execution_count": 17,
   "metadata": {},
   "outputs": [],
   "source": [
    "import os, json\n",
    "from helper_function import count_valid_posts, get_claims, get_premises\n",
    "import pandas as pd\n",
    "import numpy as np\n",
    "from nltk.corpus import stopwords"
   ]
  },
  {
   "cell_type": "code",
   "execution_count": 18,
   "metadata": {},
   "outputs": [
    {
     "name": "stdout",
     "output_type": "stream",
     "text": [
      "Get valid posts:  (41, 41)\n"
     ]
    }
   ],
   "source": [
    "data_file_path = '../data/v4/Should-I-invest-in-Bitcoin_with_labels_v4_70_filled.json'\n",
    "data_file_path = '../data/v4/Would-you-get-into-a-self-driving-car_v4_70_filled.json'\n",
    "data_file_path = \"../data/v5/bitcoin-invest-aligned.json\"\n",
    "# data_file_path = \"../data/v5/auto-driving-aligned.json\"\n",
    "\n",
    "with open(data_file_path, 'r') as f:\n",
    "    file_content = json.load(f)\n",
    "print('Get valid posts: ', count_valid_posts(file_content))\n",
    "claims = get_claims(file_content)\n",
    "premises = get_premises(file_content)\n"
   ]
  },
  {
   "cell_type": "markdown",
   "metadata": {},
   "source": [
    "## Keyword extraction algorithms"
   ]
  },
  {
   "cell_type": "code",
   "execution_count": 19,
   "metadata": {},
   "outputs": [],
   "source": [
    "# from keyword_extractor import TfIdfExtractor\n",
    "\n",
    "# if_idf = TfIdfExtractor()"
   ]
  },
  {
   "cell_type": "code",
   "execution_count": 20,
   "metadata": {},
   "outputs": [],
   "source": [
    "# if_idf.extract_keywords(premises)"
   ]
  },
  {
   "cell_type": "markdown",
   "metadata": {},
   "source": [
    "## KeyBERT Extractor"
   ]
  },
  {
   "cell_type": "code",
   "execution_count": 21,
   "metadata": {},
   "outputs": [],
   "source": [
    "from keyword_extractor import KeyBERTExtractor"
   ]
  },
  {
   "cell_type": "code",
   "execution_count": 22,
   "metadata": {},
   "outputs": [],
   "source": [
    "keybert_extractor = KeyBERTExtractor()"
   ]
  },
  {
   "cell_type": "code",
   "execution_count": 23,
   "metadata": {},
   "outputs": [],
   "source": [
    "# keybert_extractor.extract_keywords(premises)"
   ]
  },
  {
   "cell_type": "markdown",
   "metadata": {},
   "source": [
    "## Extract Keywords under a certain center claim"
   ]
  },
  {
   "cell_type": "code",
   "execution_count": 24,
   "metadata": {},
   "outputs": [],
   "source": [
    "# first build a list of supporting premises\n",
    "claims_with_support = {}\n",
    "for l in get_premises(file_content, return_list_of_strings=False):\n",
    "    # l is a list of dict objects\n",
    "    for o in l:\n",
    "        clm, prm = o['supportClaim'], o['content']\n",
    "        if not clm in claims_with_support:\n",
    "            claims_with_support[clm] = []\n",
    "        claims_with_support[clm].append(prm)\n",
    "\n",
    "claim_center_relation = {}\n",
    "for l in get_claims(file_content, return_list_of_strings=False):\n",
    "    # l is a list of dict objects\n",
    "    for o in l:\n",
    "        clm, sc = o['content'], o['claimCenter']\n",
    "        if not sc in claim_center_relation:\n",
    "            claim_center_relation[sc] = []\n",
    "        claim_center_relation[sc].append(clm)\n",
    "\n",
    "claimCenter_premise = {}\n",
    "for cs, c_list in claim_center_relation.items():\n",
    "    if not cs in claimCenter_premise:\n",
    "        claimCenter_premise[cs] = []\n",
    "    for c in c_list:\n",
    "        if c in claims_with_support:\n",
    "            claimCenter_premise[cs].extend(claims_with_support[c])\n"
   ]
  },
  {
   "cell_type": "code",
   "execution_count": 25,
   "metadata": {},
   "outputs": [
    {
     "name": "stdout",
     "output_type": "stream",
     "text": [
      "It’s not too late to invest :  15\n",
      "Bitcoin is like digital gold :  15\n",
      "Invest in Bitcoin, only if you are okay to loss all. :  25\n",
      "Bitcoin is a highly risky investment and not fit for everyone. :  17\n",
      "If you're wondering whether you should invest in Bitcoin, the short answer is yes. :  12\n",
      "Yes, you should. :  5\n",
      "Think carefully about why you want to invest in cryptocurrency before you do so. :  11\n",
      "Bitcoin makes cross-border payments possible, and also provides an easy way for people to escape failed government monetary policy :  6\n",
      "It should be used to determine the trend: up, down, neutral :  2\n",
      "This is massive :  0\n",
      "The significant thing is to do your own research and comprehend the dangers :  5\n",
      "It is almost certainly in a bubble. :  10\n",
      "You can see the gains! :  1\n",
      "this is your opportunity to learn from someone with over a decade of real world experience :  0\n"
     ]
    }
   ],
   "source": [
    "for k,v in claimCenter_premise.items():\n",
    "    print(k, \": \", len(v))"
   ]
  },
  {
   "cell_type": "code",
   "execution_count": 26,
   "metadata": {},
   "outputs": [],
   "source": [
    "output_data = []\n",
    "for k,v in claimCenter_premise.items():\n",
    "    term = {\n",
    "        'content' : k,\n",
    "        'keywords' : []\n",
    "    }\n",
    "    kws = keybert_extractor.extract_keywords(' '.join(v), keep_term=10)\n",
    "    kws.sort(key=lambda a: a[1], reverse=True)\n",
    "    term['keywords'] = kws\n",
    "    output_data.append(term)\n",
    "    # break"
   ]
  },
  {
   "cell_type": "code",
   "execution_count": 27,
   "metadata": {},
   "outputs": [],
   "source": [
    "# claimCenter_premise['It is almost certainly in a bubble.']\n"
   ]
  },
  {
   "cell_type": "code",
   "execution_count": 28,
   "metadata": {},
   "outputs": [],
   "source": [
    "# x = keybert_extractor.extract_keywords(' '.join(v), keep_term=15)\n",
    "# x.sort(key=lambda a : a[1])\n",
    "# x\n"
   ]
  },
  {
   "cell_type": "code",
   "execution_count": 29,
   "metadata": {},
   "outputs": [],
   "source": [
    "output_data_path = '../data/newest_data(rolling update)/claim center and statistics/bitcoin investment/keywords.json'\n",
    "# output_data_path = '../data/newest_data(rolling update)/claim center and statistics/automos driving/keywords.json'\n",
    "with open(output_data_path, 'w') as f:\n",
    "    json.dump(output_data, fp=f, indent=4)\n"
   ]
  },
  {
   "cell_type": "code",
   "execution_count": 30,
   "metadata": {},
   "outputs": [],
   "source": [
    "# keybert_extractor.extract_keywords(\" \".join(claimCenter_premise['That’s up to you.']), keep_term=10)\n"
   ]
  },
  {
   "cell_type": "markdown",
   "metadata": {},
   "source": [
    "## Reformat"
   ]
  },
  {
   "cell_type": "code",
   "execution_count": 31,
   "metadata": {},
   "outputs": [
    {
     "name": "stdout",
     "output_type": "stream",
     "text": [
      "It’s not too late to invest\n",
      "Bitcoin is like digital gold\n",
      "Invest in Bitcoin, only if you are okay to loss all.\n",
      "Bitcoin is a highly risky investment and not fit for everyone.\n",
      "If you're wondering whether you should invest in Bitcoin, the short answer is yes.\n",
      "Yes, you should.\n",
      "Think carefully about why you want to invest in cryptocurrency before you do so.\n",
      "Bitcoin makes cross-border payments possible, and also provides an easy way for people to escape failed government monetary policy\n",
      "It should be used to determine the trend: up, down, neutral\n",
      "This is massive\n",
      "The significant thing is to do your own research and comprehend the dangers\n",
      "It is almost certainly in a bubble.\n",
      "You can see the gains!\n",
      "this is your opportunity to learn from someone with over a decade of real world experience\n"
     ]
    }
   ],
   "source": [
    "# sentence_sentiment = {\n",
    "#     'neutral' : [\n",
    "#         \"It’s not too late to invest.\",\n",
    "#         \"That’s up to you.\",\n",
    "#         \"It depends what your level of disposable income is, how great your assets are, and what other assets you have invested in.\",\n",
    "#         \"The significant thing is to do your own research and comprehend the dangers.\",\n",
    "#         \"Invest in Bitcoin, only if you are okay to loss all.\",\n",
    "#         \"Investing in Bitcoin is viable option especially in a view of current decline of the power of Fiat currencies.\",\n",
    "#         \"If you are willing to take the risk, first make sure you understand what you are investing in and have a crypto investment strategy\",\n",
    "#     ],\n",
    "#     \"positive\" : [\n",
    "#         \"I would say YES!\",\n",
    "#         \"Of course you should\",\n",
    "#     ],\n",
    "#     \"negative\" : [\n",
    "#         \"Bitcoin is pretty useless. But so is gold.\",\n",
    "#         \"Cryto currency is an extremely high-hazard venture, and CFDs bought on margin are significantly more hazardous.\",\n",
    "#         \"It is almost certainly in a bubble.\",\n",
    "#     ]\n",
    "# }\n",
    "\n",
    "# with open('../data/newest_data(rolling update)/claim center and statistics/bitcoin investment/stance_count.json', 'w') as f:\n",
    "#     json.dump(sentence_sentiment, f, indent=4)\n",
    "\n",
    "sentence_sentiment_path = '../data/newest_data(rolling update)/claim center and statistics/bitcoin investment/stance_count.json'\n",
    "sentence_sentiment_path = '../data/newest_data(rolling update)/claim center and statistics/automos driving/stance_count.json'\n",
    "with open(sentence_sentiment_path, 'r') as f:\n",
    "    sentence_sentiment = json.load(f)\n",
    "\n",
    "for i in output_data:\n",
    "    key = i['content']\n",
    "    if not key in sentence_sentiment['neutral'] and not key in sentence_sentiment['positive'] and not key in sentence_sentiment['negative']:\n",
    "        print(key)\n"
   ]
  },
  {
   "cell_type": "code",
   "execution_count": 32,
   "metadata": {},
   "outputs": [],
   "source": [
    "formated_output = {\n",
    "    'neutral' : {},\n",
    "    'positive' : {},\n",
    "    'negative' : {}\n",
    "}\n",
    "\n",
    "for key, value in sentence_sentiment.items():\n",
    "    for index, cs in enumerate(value):\n",
    "        o_index = next((i for i, s in enumerate(output_data) if s['content'] == cs), -1)\n",
    "        formated_output[key][f'claim_{index}'] = output_data[o_index]['keywords']"
   ]
  },
  {
   "cell_type": "code",
   "execution_count": 33,
   "metadata": {},
   "outputs": [
    {
     "data": {
      "text/plain": [
       "{'neutral': {'claim_0': [],\n",
       "  'claim_1': [],\n",
       "  'claim_2': [],\n",
       "  'claim_3': [],\n",
       "  'claim_4': [],\n",
       "  'claim_5': []},\n",
       " 'positive': {'claim_0': [], 'claim_1': [], 'claim_2': [], 'claim_3': []},\n",
       " 'negative': {'claim_0': [], 'claim_1': []}}"
      ]
     },
     "execution_count": 33,
     "metadata": {},
     "output_type": "execute_result"
    }
   ],
   "source": [
    "formated_output"
   ]
  },
  {
   "cell_type": "code",
   "execution_count": 34,
   "metadata": {},
   "outputs": [
    {
     "ename": "KeyError",
     "evalue": "'Yes, you would.'",
     "output_type": "error",
     "traceback": [
      "\u001b[0;31m---------------------------------------------------------------------------\u001b[0m",
      "\u001b[0;31mKeyError\u001b[0m                                  Traceback (most recent call last)",
      "\u001b[0;32m/var/folders/nr/_r872q0n30sfgln4hf3jw6_w0000gn/T/ipykernel_53404/3390878342.py\u001b[0m in \u001b[0;36m<module>\u001b[0;34m\u001b[0m\n\u001b[1;32m      4\u001b[0m         \u001b[0msupport_statistic\u001b[0m\u001b[0;34m[\u001b[0m\u001b[0mstm\u001b[0m\u001b[0;34m]\u001b[0m \u001b[0;34m=\u001b[0m \u001b[0;36m0\u001b[0m\u001b[0;34m\u001b[0m\u001b[0;34m\u001b[0m\u001b[0m\n\u001b[1;32m      5\u001b[0m     \u001b[0;32mfor\u001b[0m \u001b[0mc\u001b[0m \u001b[0;32min\u001b[0m \u001b[0mclm\u001b[0m\u001b[0;34m:\u001b[0m\u001b[0;34m\u001b[0m\u001b[0;34m\u001b[0m\u001b[0m\n\u001b[0;32m----> 6\u001b[0;31m         \u001b[0msupport_statistic\u001b[0m\u001b[0;34m[\u001b[0m\u001b[0mstm\u001b[0m\u001b[0;34m]\u001b[0m \u001b[0;34m+=\u001b[0m \u001b[0mlen\u001b[0m\u001b[0;34m(\u001b[0m\u001b[0mclaimCenter_premise\u001b[0m\u001b[0;34m[\u001b[0m\u001b[0mc\u001b[0m\u001b[0;34m]\u001b[0m\u001b[0;34m)\u001b[0m\u001b[0;34m\u001b[0m\u001b[0;34m\u001b[0m\u001b[0m\n\u001b[0m\u001b[1;32m      7\u001b[0m \u001b[0msupport_statistic\u001b[0m\u001b[0;34m\u001b[0m\u001b[0;34m\u001b[0m\u001b[0m\n",
      "\u001b[0;31mKeyError\u001b[0m: 'Yes, you would.'"
     ]
    }
   ],
   "source": [
    "support_statistic = {}\n",
    "for stm, clm in sentence_sentiment.items():\n",
    "    if not stm in support_statistic:\n",
    "        support_statistic[stm] = 0\n",
    "    for c in clm:\n",
    "        support_statistic[stm] += len(claimCenter_premise[c])\n",
    "support_statistic"
   ]
  },
  {
   "cell_type": "code",
   "execution_count": null,
   "metadata": {},
   "outputs": [
    {
     "data": {
      "text/plain": [
       "'0820'"
      ]
     },
     "execution_count": 20,
     "metadata": {},
     "output_type": "execute_result"
    }
   ],
   "source": [
    "from datetime import date\n",
    "today = date.today()\n",
    "d1 = today.strftime(f'%m%d')\n",
    "d1"
   ]
  },
  {
   "cell_type": "code",
   "execution_count": null,
   "metadata": {},
   "outputs": [],
   "source": [
    "formated_output_path = f'../data/newest_data(rolling update)/claim center and statistics/bitcoin investment/keywords_formatted_{d1}_1.json'\n",
    "formated_output_path = f'../data/newest_data(rolling update)/claim center and statistics/automos driving/keywords_formatted_{d1}_1.json'\n",
    "with open(formated_output_path, 'w') as f:\n",
    "    json.dump(formated_output, fp=f, indent=4)\n"
   ]
  },
  {
   "cell_type": "code",
   "execution_count": null,
   "metadata": {},
   "outputs": [],
   "source": []
  }
 ],
 "metadata": {
  "kernelspec": {
   "display_name": "Python 3.9.5 ('venv')",
   "language": "python",
   "name": "python3"
  },
  "language_info": {
   "codemirror_mode": {
    "name": "ipython",
    "version": 3
   },
   "file_extension": ".py",
   "mimetype": "text/x-python",
   "name": "python",
   "nbconvert_exporter": "python",
   "pygments_lexer": "ipython3",
   "version": "3.9.5"
  },
  "orig_nbformat": 4,
  "vscode": {
   "interpreter": {
    "hash": "640cace4827df8bb8e1edb3566e4e979a7918609c95fe3eaf671877de41a29fe"
   }
  }
 },
 "nbformat": 4,
 "nbformat_minor": 2
}
