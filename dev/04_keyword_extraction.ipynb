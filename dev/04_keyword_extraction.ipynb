{
 "cells": [
  {
   "cell_type": "markdown",
   "metadata": {},
   "source": [
    "# Key word extraction algorithm for claims"
   ]
  },
  {
   "cell_type": "code",
   "execution_count": 1,
   "metadata": {},
   "outputs": [],
   "source": [
    "%load_ext autoreload\n",
    "%autoreload 2\n"
   ]
  },
  {
   "cell_type": "code",
   "execution_count": 2,
   "metadata": {},
   "outputs": [],
   "source": [
    "import os, json\n",
    "from helper_function import count_valid_posts, get_claims, get_premises\n",
    "import pandas as pd\n",
    "import numpy as np\n",
    "from nltk.corpus import stopwords"
   ]
  },
  {
   "cell_type": "code",
   "execution_count": 3,
   "metadata": {},
   "outputs": [
    {
     "name": "stdout",
     "output_type": "stream",
     "text": [
      "Get valid posts:  (66, 66)\n"
     ]
    }
   ],
   "source": [
    "data_file_path = '../data/v4/Should-I-invest-in-Bitcoin_with_labels_v4_70_filled.json'\n",
    "data_file_path = '../data/v4/Would-you-get-into-a-self-driving-car_v4_70_filled.json'\n",
    "# data_file_path = \"../data/v5/bitcoin-invest-aligned.json\"\n",
    "data_file_path = \"../data/v5/auto-driving-aligned.json\"\n",
    "\n",
    "with open(data_file_path, 'r') as f:\n",
    "    file_content = json.load(f)\n",
    "print('Get valid posts: ', count_valid_posts(file_content))\n",
    "claims = get_claims(file_content)\n",
    "premises = get_premises(file_content)\n"
   ]
  },
  {
   "cell_type": "markdown",
   "metadata": {},
   "source": [
    "## Keyword extraction algorithms"
   ]
  },
  {
   "cell_type": "code",
   "execution_count": 4,
   "metadata": {},
   "outputs": [],
   "source": [
    "# from keyword_extractor import TfIdfExtractor\n",
    "\n",
    "# if_idf = TfIdfExtractor()"
   ]
  },
  {
   "cell_type": "code",
   "execution_count": 5,
   "metadata": {},
   "outputs": [],
   "source": [
    "# if_idf.extract_keywords(premises)"
   ]
  },
  {
   "cell_type": "markdown",
   "metadata": {},
   "source": [
    "## KeyBERT Extractor"
   ]
  },
  {
   "cell_type": "code",
   "execution_count": 6,
   "metadata": {},
   "outputs": [],
   "source": [
    "from keyword_extractor import KeyBERTExtractor"
   ]
  },
  {
   "cell_type": "code",
   "execution_count": 7,
   "metadata": {},
   "outputs": [],
   "source": [
    "keybert_extractor = KeyBERTExtractor()"
   ]
  },
  {
   "cell_type": "code",
   "execution_count": 8,
   "metadata": {},
   "outputs": [],
   "source": [
    "# keybert_extractor.extract_keywords(premises)"
   ]
  },
  {
   "cell_type": "markdown",
   "metadata": {},
   "source": [
    "## Extract Keywords under a certain center claim"
   ]
  },
  {
   "cell_type": "code",
   "execution_count": 9,
   "metadata": {},
   "outputs": [],
   "source": [
    "# first build a list of supporting premises\n",
    "claims_with_support = {}\n",
    "for l in get_premises(file_content, return_list_of_strings=False):\n",
    "    # l is a list of dict objects\n",
    "    for o in l:\n",
    "        clm, prm = o['supportClaim'], o['content']\n",
    "        if not clm in claims_with_support:\n",
    "            claims_with_support[clm] = []\n",
    "        claims_with_support[clm].append(prm)\n",
    "\n",
    "claim_center_relation = {}\n",
    "for l in get_claims(file_content, return_list_of_strings=False):\n",
    "    # l is a list of dict objects\n",
    "    for o in l:\n",
    "        clm, sc = o['content'], o['claimCenter']\n",
    "        if not sc in claim_center_relation:\n",
    "            claim_center_relation[sc] = []\n",
    "        claim_center_relation[sc].append(clm)\n",
    "\n",
    "claimCenter_premise = {}\n",
    "for cs, c_list in claim_center_relation.items():\n",
    "    if not cs in claimCenter_premise:\n",
    "        claimCenter_premise[cs] = []\n",
    "    for c in c_list:\n",
    "        if c in claims_with_support:\n",
    "            claimCenter_premise[cs].extend(claims_with_support[c])\n"
   ]
  },
  {
   "cell_type": "code",
   "execution_count": 10,
   "metadata": {},
   "outputs": [
    {
     "name": "stdout",
     "output_type": "stream",
     "text": [
      "Yes, you would. :  9\n",
      "the research shows people are amazingly trusting of them :  8\n",
      "Not at the time of answering. :  11\n",
      "Absolutely. I hate driving, and can’t wait to never have to do it again. :  16\n",
      "Yes, I really would like to have a self-driving car :  37\n",
      "Yes, I will. :  6\n",
      "Yes, definitely. :  14\n",
      "Yes, as soon as they work and are available at a reasonable price. :  5\n",
      "I think that this technology has the potential to be very safe and convenient :  1\n",
      "Yes :  46\n",
      "What I mean is, autonomous cars would be great, IF THEY WERE THE ONLY CARS OUT THERE :  7\n",
      "Absolutely not! :  11\n"
     ]
    }
   ],
   "source": [
    "for k,v in claimCenter_premise.items():\n",
    "    print(k, \": \", len(v))"
   ]
  },
  {
   "cell_type": "code",
   "execution_count": 11,
   "metadata": {},
   "outputs": [],
   "source": [
    "output_data = []\n",
    "for k,v in claimCenter_premise.items():\n",
    "    term = {\n",
    "        'content' : k,\n",
    "        'keywords' : []\n",
    "    }\n",
    "    kws = keybert_extractor.extract_keywords(' '.join(v), keep_term=10)\n",
    "    kws.sort(key=lambda a: a[1], reverse=True)\n",
    "    term['keywords'] = kws\n",
    "    output_data.append(term)\n",
    "    # break"
   ]
  },
  {
   "cell_type": "code",
   "execution_count": 12,
   "metadata": {},
   "outputs": [],
   "source": [
    "# claimCenter_premise['It is almost certainly in a bubble.']\n"
   ]
  },
  {
   "cell_type": "code",
   "execution_count": 13,
   "metadata": {},
   "outputs": [],
   "source": [
    "# x = keybert_extractor.extract_keywords(' '.join(v), keep_term=15)\n",
    "# x.sort(key=lambda a : a[1])\n",
    "# x\n"
   ]
  },
  {
   "cell_type": "code",
   "execution_count": 14,
   "metadata": {},
   "outputs": [],
   "source": [
    "# output_data_path = '../data/newest_data(rolling update)/claim center and statistics/bitcoin investment/keywords.json'\n",
    "output_data_path = '../data/newest_data(rolling update)/claim center and statistics/automos driving/keywords.json'\n",
    "with open(output_data_path, 'w') as f:\n",
    "    json.dump(output_data, fp=f, indent=4)\n"
   ]
  },
  {
   "cell_type": "code",
   "execution_count": 15,
   "metadata": {},
   "outputs": [],
   "source": [
    "# keybert_extractor.extract_keywords(\" \".join(claimCenter_premise['That’s up to you.']), keep_term=10)\n"
   ]
  },
  {
   "cell_type": "markdown",
   "metadata": {},
   "source": [
    "## Reformat"
   ]
  },
  {
   "cell_type": "code",
   "execution_count": 16,
   "metadata": {},
   "outputs": [],
   "source": [
    "# sentence_sentiment = {\n",
    "#     'neutral' : [\n",
    "#         \"It’s not too late to invest.\",\n",
    "#         \"That’s up to you.\",\n",
    "#         \"It depends what your level of disposable income is, how great your assets are, and what other assets you have invested in.\",\n",
    "#         \"The significant thing is to do your own research and comprehend the dangers.\",\n",
    "#         \"Invest in Bitcoin, only if you are okay to loss all.\",\n",
    "#         \"Investing in Bitcoin is viable option especially in a view of current decline of the power of Fiat currencies.\",\n",
    "#         \"If you are willing to take the risk, first make sure you understand what you are investing in and have a crypto investment strategy\",\n",
    "#     ],\n",
    "#     \"positive\" : [\n",
    "#         \"I would say YES!\",\n",
    "#         \"Of course you should\",\n",
    "#     ],\n",
    "#     \"negative\" : [\n",
    "#         \"Bitcoin is pretty useless. But so is gold.\",\n",
    "#         \"Cryto currency is an extremely high-hazard venture, and CFDs bought on margin are significantly more hazardous.\",\n",
    "#         \"It is almost certainly in a bubble.\",\n",
    "#     ]\n",
    "# }\n",
    "\n",
    "# with open('../data/newest_data(rolling update)/claim center and statistics/bitcoin investment/stance_count.json', 'w') as f:\n",
    "#     json.dump(sentence_sentiment, f, indent=4)\n",
    "\n",
    "sentence_sentiment_path = '../data/newest_data(rolling update)/claim center and statistics/bitcoin investment/stance_count.json'\n",
    "sentence_sentiment_path = '../data/newest_data(rolling update)/claim center and statistics/automos driving/stance_count.json'\n",
    "with open(sentence_sentiment_path, 'r') as f:\n",
    "    sentence_sentiment = json.load(f)\n",
    "\n",
    "for i in output_data:\n",
    "    key = i['content']\n",
    "    if not key in sentence_sentiment['neutral'] and not key in sentence_sentiment['positive'] and not key in sentence_sentiment['negative']:\n",
    "        print(key)\n"
   ]
  },
  {
   "cell_type": "code",
   "execution_count": 17,
   "metadata": {},
   "outputs": [],
   "source": [
    "formated_output = {\n",
    "    'neutral' : {},\n",
    "    'positive' : {},\n",
    "    'negative' : {}\n",
    "}\n",
    "\n",
    "for key, value in sentence_sentiment.items():\n",
    "    for index, cs in enumerate(value):\n",
    "        o_index = next((i for i, s in enumerate(output_data) if s['content'] == cs), -1)\n",
    "        formated_output[key][f'claim_{index}'] = output_data[o_index]['keywords']"
   ]
  },
  {
   "cell_type": "code",
   "execution_count": 18,
   "metadata": {},
   "outputs": [
    {
     "data": {
      "text/plain": [
       "{'neutral': {'claim_0': [('driving', 0.4391),\n",
       "   ('trust', 0.2743),\n",
       "   ('safer', 0.2704),\n",
       "   ('computers', 0.2507),\n",
       "   ('insurance', 0.2266),\n",
       "   ('mother', 0.2101),\n",
       "   ('personally', 0.1871),\n",
       "   ('stanford', 0.1705),\n",
       "   ('straightway', 0.1662),\n",
       "   ('airport', 0.1352)],\n",
       "  'claim_1': [('airplanes', 0.3614),\n",
       "   ('crashes', 0.3179),\n",
       "   ('driving', 0.2688),\n",
       "   ('statistics', 0.2517),\n",
       "   ('safety', 0.2188),\n",
       "   ('mobile', 0.1629),\n",
       "   ('productivity', 0.1619),\n",
       "   ('plenty', 0.153),\n",
       "   ('expensive', 0.1487),\n",
       "   ('smarter', 0.0996)],\n",
       "  'claim_2': [('driving', 0.4818),\n",
       "   ('uber', 0.4494),\n",
       "   ('control', 0.2702),\n",
       "   ('avoid', 0.2344),\n",
       "   ('curb', 0.2177),\n",
       "   ('foolish', 0.1742),\n",
       "   ('tedium', 0.1445),\n",
       "   ('much', 0.1329),\n",
       "   ('centrifugal', 0.0869),\n",
       "   ('button', 0.0773)],\n",
       "  'claim_3': [('driving', 0.517),\n",
       "   ('parking', 0.382),\n",
       "   ('insurance', 0.3205),\n",
       "   ('dui', 0.3054),\n",
       "   ('license', 0.3017),\n",
       "   ('rights', 0.2144),\n",
       "   ('unmanned', 0.1285),\n",
       "   ('benders', 0.1049),\n",
       "   ('watch', 0.0817),\n",
       "   ('never', 0.024)],\n",
       "  'claim_4': [('driving', 0.4742),\n",
       "   ('driverless', 0.4327),\n",
       "   ('uber', 0.417),\n",
       "   ('safer', 0.2865),\n",
       "   ('self', 0.2782),\n",
       "   ('pedestrians', 0.1789),\n",
       "   ('crashes', 0.1706),\n",
       "   ('cruse', 0.1462),\n",
       "   ('sure', 0.0683),\n",
       "   ('average', 0.0188)],\n",
       "  'claim_5': [('driving', 0.4258),\n",
       "   ('taxi', 0.4077),\n",
       "   ('autopilot', 0.3582),\n",
       "   ('self', 0.3048),\n",
       "   ('trust', 0.1703),\n",
       "   ('invents', 0.1282),\n",
       "   ('crashes', 0.1111),\n",
       "   ('component', 0.1046),\n",
       "   ('needs', 0.1006),\n",
       "   ('never', 0.0707)]},\n",
       " 'positive': {'claim_0': [('roadways', 0.413),\n",
       "   ('tolls', 0.3701),\n",
       "   ('dangers', 0.3379),\n",
       "   ('trusting', 0.3111),\n",
       "   ('prototypes', 0.2141),\n",
       "   ('civilians', 0.202),\n",
       "   ('neutralized', 0.1512),\n",
       "   ('cost', 0.1203),\n",
       "   ('perhaps', 0.095),\n",
       "   ('today', 0.0715)],\n",
       "  'claim_1': [('autonomous', 0.4131),\n",
       "   ('drive', 0.3188),\n",
       "   ('engineer', 0.3173),\n",
       "   ('expert', 0.2829),\n",
       "   ('safety', 0.2493),\n",
       "   ('failures', 0.2296),\n",
       "   ('geniuses', 0.1906),\n",
       "   ('maintaining', 0.1807),\n",
       "   ('calibrated', 0.1601),\n",
       "   ('perhaps', 0.1032)],\n",
       "  'claim_2': [('driving', 0.4965),\n",
       "   ('productivity', 0.4393),\n",
       "   ('tesla', 0.3235),\n",
       "   ('computer', 0.3156),\n",
       "   ('relaxed', 0.2728),\n",
       "   ('park', 0.2529),\n",
       "   ('alert', 0.1972),\n",
       "   ('hours', 0.1754),\n",
       "   ('would', 0.143),\n",
       "   ('commercial', 0.1325)],\n",
       "  'claim_3': []},\n",
       " 'negative': {'claim_0': [('driving', 0.4756),\n",
       "   ('bmw', 0.3497),\n",
       "   ('motorcycles', 0.2962),\n",
       "   ('cab', 0.2955),\n",
       "   ('italy', 0.1927),\n",
       "   ('liberally', 0.1256),\n",
       "   ('society', 0.1211),\n",
       "   ('would', 0.085),\n",
       "   ('point', 0.0627),\n",
       "   ('tachometer', 0.0155)],\n",
       "  'claim_1': [('driverless', 0.4527),\n",
       "   ('autonomously', 0.4444),\n",
       "   ('selfless', 0.407),\n",
       "   ('autopilot', 0.3712),\n",
       "   ('cars', 0.3416),\n",
       "   ('safer', 0.2346),\n",
       "   ('generation', 0.21),\n",
       "   ('pedestrian', 0.2064),\n",
       "   ('trust', 0.202),\n",
       "   ('navigating', 0.1855)]}}"
      ]
     },
     "execution_count": 18,
     "metadata": {},
     "output_type": "execute_result"
    }
   ],
   "source": [
    "formated_output"
   ]
  },
  {
   "cell_type": "code",
   "execution_count": 19,
   "metadata": {},
   "outputs": [
    {
     "data": {
      "text/plain": [
       "{'neutral': 122, 'positive': 22, 'negative': 27}"
      ]
     },
     "execution_count": 19,
     "metadata": {},
     "output_type": "execute_result"
    }
   ],
   "source": [
    "support_statistic = {}\n",
    "for stm, clm in sentence_sentiment.items():\n",
    "    if not stm in support_statistic:\n",
    "        support_statistic[stm] = 0\n",
    "    for c in clm:\n",
    "        support_statistic[stm] += len(claimCenter_premise[c])\n",
    "support_statistic"
   ]
  },
  {
   "cell_type": "code",
   "execution_count": 20,
   "metadata": {},
   "outputs": [
    {
     "data": {
      "text/plain": [
       "'0830'"
      ]
     },
     "execution_count": 20,
     "metadata": {},
     "output_type": "execute_result"
    }
   ],
   "source": [
    "from datetime import date\n",
    "today = date.today()\n",
    "d1 = today.strftime(f'%m%d')\n",
    "d1"
   ]
  },
  {
   "cell_type": "code",
   "execution_count": 21,
   "metadata": {},
   "outputs": [],
   "source": [
    "formated_output_path = f'../data/newest_data(rolling update)/claim center and statistics/bitcoin investment/keywords_formatted_{d1}_1.json'\n",
    "formated_output_path = f'../data/newest_data(rolling update)/claim center and statistics/automos driving/keywords_formatted_{d1}_1.json'\n",
    "with open(formated_output_path, 'w') as f:\n",
    "    json.dump(formated_output, fp=f, indent=4)\n"
   ]
  },
  {
   "cell_type": "code",
   "execution_count": null,
   "metadata": {},
   "outputs": [],
   "source": []
  }
 ],
 "metadata": {
  "kernelspec": {
   "display_name": "Python 3.9.5 ('venv')",
   "language": "python",
   "name": "python3"
  },
  "language_info": {
   "codemirror_mode": {
    "name": "ipython",
    "version": 3
   },
   "file_extension": ".py",
   "mimetype": "text/x-python",
   "name": "python",
   "nbconvert_exporter": "python",
   "pygments_lexer": "ipython3",
   "version": "3.9.5"
  },
  "orig_nbformat": 4,
  "vscode": {
   "interpreter": {
    "hash": "640cace4827df8bb8e1edb3566e4e979a7918609c95fe3eaf671877de41a29fe"
   }
  }
 },
 "nbformat": 4,
 "nbformat_minor": 2
}
