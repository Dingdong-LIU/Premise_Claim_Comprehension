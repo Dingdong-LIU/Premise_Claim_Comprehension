{
 "cells": [
  {
   "cell_type": "markdown",
   "metadata": {},
   "source": [
    "# Key word extraction algorithm for claims"
   ]
  },
  {
   "cell_type": "code",
   "execution_count": 1,
   "metadata": {},
   "outputs": [],
   "source": [
    "%load_ext autoreload\n",
    "%autoreload 2\n"
   ]
  },
  {
   "cell_type": "code",
   "execution_count": 2,
   "metadata": {},
   "outputs": [],
   "source": [
    "import os, json\n",
    "from helper_function import count_valid_posts, get_claims, get_premises\n",
    "import pandas as pd\n",
    "import numpy as np\n",
    "from nltk.corpus import stopwords"
   ]
  },
  {
   "cell_type": "code",
   "execution_count": 3,
   "metadata": {},
   "outputs": [
    {
     "name": "stdout",
     "output_type": "stream",
     "text": [
      "Get valid posts:  (41, 41)\n"
     ]
    }
   ],
   "source": [
    "data_file_path = '../data/v4/Should-I-invest-in-Bitcoin_with_labels_v4_70_filled.json'\n",
    "data_file_path = '../data/v4/Would-you-get-into-a-self-driving-car_v4_70_filled.json'\n",
    "data_file_path = \"../data/v5/bitcoin-invest-aligned.json\"\n",
    "# data_file_path = \"../data/v5/auto-driving-aligned.json\"\n",
    "\n",
    "with open(data_file_path, 'r') as f:\n",
    "    file_content = json.load(f)\n",
    "print('Get valid posts: ', count_valid_posts(file_content))\n",
    "claims = get_claims(file_content)\n",
    "premises = get_premises(file_content)\n"
   ]
  },
  {
   "cell_type": "markdown",
   "metadata": {},
   "source": [
    "## Keyword extraction algorithms"
   ]
  },
  {
   "cell_type": "code",
   "execution_count": 4,
   "metadata": {},
   "outputs": [],
   "source": [
    "# from keyword_extractor import TfIdfExtractor\n",
    "\n",
    "# if_idf = TfIdfExtractor()"
   ]
  },
  {
   "cell_type": "code",
   "execution_count": 5,
   "metadata": {},
   "outputs": [],
   "source": [
    "# if_idf.extract_keywords(premises)"
   ]
  },
  {
   "cell_type": "markdown",
   "metadata": {},
   "source": [
    "## KeyBERT Extractor"
   ]
  },
  {
   "cell_type": "code",
   "execution_count": 6,
   "metadata": {},
   "outputs": [],
   "source": [
    "from keyword_extractor import KeyBERTExtractor"
   ]
  },
  {
   "cell_type": "code",
   "execution_count": 7,
   "metadata": {},
   "outputs": [],
   "source": [
    "keybert_extractor = KeyBERTExtractor()"
   ]
  },
  {
   "cell_type": "code",
   "execution_count": 8,
   "metadata": {},
   "outputs": [],
   "source": [
    "# keybert_extractor.extract_keywords(premises)"
   ]
  },
  {
   "cell_type": "markdown",
   "metadata": {},
   "source": [
    "## Extract Keywords under a certain center claim"
   ]
  },
  {
   "cell_type": "code",
   "execution_count": 9,
   "metadata": {},
   "outputs": [],
   "source": [
    "# first build a list of supporting premises\n",
    "claims_with_support = {}\n",
    "for l in get_premises(file_content, return_list_of_strings=False):\n",
    "    # l is a list of dict objects\n",
    "    for o in l:\n",
    "        clm, prm = o['supportClaim'], o['content']\n",
    "        if not clm in claims_with_support:\n",
    "            claims_with_support[clm] = []\n",
    "        claims_with_support[clm].append(prm)\n",
    "\n",
    "claim_center_relation = {}\n",
    "for l in get_claims(file_content, return_list_of_strings=False):\n",
    "    # l is a list of dict objects\n",
    "    for o in l:\n",
    "        clm, sc = o['content'], o['claimCenter']\n",
    "        if not sc in claim_center_relation:\n",
    "            claim_center_relation[sc] = []\n",
    "        claim_center_relation[sc].append(clm)\n",
    "\n",
    "claimCenter_premise = {}\n",
    "for cs, c_list in claim_center_relation.items():\n",
    "    if not cs in claimCenter_premise:\n",
    "        claimCenter_premise[cs] = []\n",
    "    for c in c_list:\n",
    "        if c in claims_with_support:\n",
    "            claimCenter_premise[cs].extend(claims_with_support[c])\n"
   ]
  },
  {
   "cell_type": "code",
   "execution_count": 10,
   "metadata": {},
   "outputs": [
    {
     "name": "stdout",
     "output_type": "stream",
     "text": [
      "It’s not too late to invest :  15\n",
      "Bitcoin is like digital gold :  15\n",
      "Invest in Bitcoin, only if you are okay to loss all. :  25\n",
      "Bitcoin is a highly risky investment and not fit for everyone. :  17\n",
      "If you're wondering whether you should invest in Bitcoin, the short answer is yes. :  12\n",
      "Yes, you should. :  5\n",
      "Think carefully about why you want to invest in cryptocurrency before you do so. :  11\n",
      "Bitcoin makes cross-border payments possible, and also provides an easy way for people to escape failed government monetary policy :  6\n",
      "It should be used to determine the trend: up, down, neutral :  2\n",
      "This is massive :  0\n",
      "The significant thing is to do your own research and comprehend the dangers :  5\n",
      "It is almost certainly in a bubble. :  10\n",
      "You can see the gains! :  1\n",
      "this is your opportunity to learn from someone with over a decade of real world experience :  0\n"
     ]
    }
   ],
   "source": [
    "for k,v in claimCenter_premise.items():\n",
    "    print(k, \": \", len(v))"
   ]
  },
  {
   "cell_type": "code",
   "execution_count": 11,
   "metadata": {},
   "outputs": [],
   "source": [
    "output_data = []\n",
    "for k,v in claimCenter_premise.items():\n",
    "    term = {\n",
    "        'content' : k,\n",
    "        'keywords' : []\n",
    "    }\n",
    "    kws = keybert_extractor.extract_keywords(' '.join(v), keep_term=10)\n",
    "    kws.sort(key=lambda a: a[1], reverse=True)\n",
    "    term['keywords'] = kws\n",
    "    output_data.append(term)\n",
    "    # break"
   ]
  },
  {
   "cell_type": "code",
   "execution_count": 12,
   "metadata": {},
   "outputs": [],
   "source": [
    "# claimCenter_premise['It is almost certainly in a bubble.']\n"
   ]
  },
  {
   "cell_type": "code",
   "execution_count": 13,
   "metadata": {},
   "outputs": [],
   "source": [
    "# x = keybert_extractor.extract_keywords(' '.join(v), keep_term=15)\n",
    "# x.sort(key=lambda a : a[1])\n",
    "# x\n"
   ]
  },
  {
   "cell_type": "code",
   "execution_count": 14,
   "metadata": {},
   "outputs": [],
   "source": [
    "output_data_path = '../data/newest_data(rolling update)/claim center and statistics/bitcoin investment/keywords.json'\n",
    "# output_data_path = '../data/newest_data(rolling update)/claim center and statistics/automos driving/keywords.json'\n",
    "with open(output_data_path, 'w') as f:\n",
    "    json.dump(output_data, fp=f, indent=4)\n"
   ]
  },
  {
   "cell_type": "code",
   "execution_count": 15,
   "metadata": {},
   "outputs": [],
   "source": [
    "# keybert_extractor.extract_keywords(\" \".join(claimCenter_premise['That’s up to you.']), keep_term=10)\n"
   ]
  },
  {
   "cell_type": "markdown",
   "metadata": {},
   "source": [
    "## Reformat"
   ]
  },
  {
   "cell_type": "code",
   "execution_count": 16,
   "metadata": {},
   "outputs": [],
   "source": [
    "# sentence_sentiment = {\n",
    "#     'neutral' : [\n",
    "#         \"It’s not too late to invest.\",\n",
    "#         \"That’s up to you.\",\n",
    "#         \"It depends what your level of disposable income is, how great your assets are, and what other assets you have invested in.\",\n",
    "#         \"The significant thing is to do your own research and comprehend the dangers.\",\n",
    "#         \"Invest in Bitcoin, only if you are okay to loss all.\",\n",
    "#         \"Investing in Bitcoin is viable option especially in a view of current decline of the power of Fiat currencies.\",\n",
    "#         \"If you are willing to take the risk, first make sure you understand what you are investing in and have a crypto investment strategy\",\n",
    "#     ],\n",
    "#     \"positive\" : [\n",
    "#         \"I would say YES!\",\n",
    "#         \"Of course you should\",\n",
    "#     ],\n",
    "#     \"negative\" : [\n",
    "#         \"Bitcoin is pretty useless. But so is gold.\",\n",
    "#         \"Cryto currency is an extremely high-hazard venture, and CFDs bought on margin are significantly more hazardous.\",\n",
    "#         \"It is almost certainly in a bubble.\",\n",
    "#     ]\n",
    "# }\n",
    "\n",
    "# with open('../data/newest_data(rolling update)/claim center and statistics/bitcoin investment/stance_count.json', 'w') as f:\n",
    "#     json.dump(sentence_sentiment, f, indent=4)\n",
    "\n",
    "sentence_sentiment_path = '../data/newest_data(rolling update)/claim center and statistics/bitcoin investment/stance_count.json'\n",
    "# sentence_sentiment_path = '../data/newest_data(rolling update)/claim center and statistics/automos driving/stance_count.json'\n",
    "with open(sentence_sentiment_path, 'r') as f:\n",
    "    sentence_sentiment = json.load(f)\n",
    "\n",
    "for i in output_data:\n",
    "    key = i['content']\n",
    "    if not key in sentence_sentiment['neutral'] and not key in sentence_sentiment['positive'] and not key in sentence_sentiment['negative']:\n",
    "        print(key)\n"
   ]
  },
  {
   "cell_type": "code",
   "execution_count": 17,
   "metadata": {},
   "outputs": [],
   "source": [
    "formated_output = {\n",
    "    'neutral' : {},\n",
    "    'positive' : {},\n",
    "    'negative' : {}\n",
    "}\n",
    "\n",
    "for key, value in sentence_sentiment.items():\n",
    "    for index, cs in enumerate(value):\n",
    "        o_index = next((i for i, s in enumerate(output_data) if s['content'] == cs), -1)\n",
    "        formated_output[key][f'claim_{index}'] = output_data[o_index]['keywords']"
   ]
  },
  {
   "cell_type": "code",
   "execution_count": 18,
   "metadata": {},
   "outputs": [
    {
     "data": {
      "text/plain": [
       "{'neutral': {'claim_0': [('bitcoin', 0.5353),\n",
       "   ('investing', 0.4592),\n",
       "   ('liquidity', 0.3268),\n",
       "   ('opportunities', 0.2963),\n",
       "   ('launch', 0.2276),\n",
       "   ('date', 0.222),\n",
       "   ('rethink', 0.1615),\n",
       "   ('volatile', 0.141),\n",
       "   ('know', 0.1385),\n",
       "   ('vessel', 0.1219)],\n",
       "  'claim_1': [('bitcoin', 0.5359),\n",
       "   ('inflationary', 0.4149),\n",
       "   ('investment', 0.3422),\n",
       "   ('scarcity', 0.3325),\n",
       "   ('volatility', 0.2618),\n",
       "   ('unpredictable', 0.2252),\n",
       "   ('price', 0.2198),\n",
       "   ('argue', 0.2024),\n",
       "   ('2017', 0.2002),\n",
       "   ('concept', 0.168)],\n",
       "  'claim_2': [('futures', 0.4913),\n",
       "   ('upside', 0.4035),\n",
       "   ('forecasters', 0.3118),\n",
       "   ('bitcoin', 0.2978),\n",
       "   ('price', 0.1817),\n",
       "   ('potential', 0.1637),\n",
       "   ('reason', 0.1472),\n",
       "   ('realistic', 0.1218),\n",
       "   ('crash', 0.1109),\n",
       "   ('first', 0.0378)],\n",
       "  'claim_3': [('investing', 0.4438),\n",
       "   ('coin', 0.442),\n",
       "   ('hub', 0.3013),\n",
       "   ('vest', 0.2871),\n",
       "   ('lose', 0.1881),\n",
       "   ('rise', 0.1653),\n",
       "   ('exciting', 0.1541),\n",
       "   ('class', 0.1508),\n",
       "   ('varied', 0.1172),\n",
       "   ('never', 0.116)],\n",
       "  'claim_4': [('cryptocurrency', 0.5062),\n",
       "   ('inflation', 0.4174),\n",
       "   ('invest', 0.354),\n",
       "   ('hedge', 0.2612),\n",
       "   ('scarce', 0.2363),\n",
       "   ('useful', 0.2052),\n",
       "   ('gold', 0.2024),\n",
       "   ('unregulated', 0.1912),\n",
       "   ('eth', 0.1862),\n",
       "   ('years', 0.1544)],\n",
       "  'claim_5': [('investing', 0.4367),\n",
       "   ('bitcoin', 0.4254),\n",
       "   ('income', 0.3924),\n",
       "   ('pocket', 0.3103),\n",
       "   ('disposable', 0.2909),\n",
       "   ('2017', 0.2242),\n",
       "   ('pinstripe', 0.2242),\n",
       "   ('mismanagement', 0.2126),\n",
       "   ('wheelbarrow', 0.1424),\n",
       "   ('physical', 0.1029)],\n",
       "  'claim_6': [('cryptocurrencies', 0.5357),\n",
       "   ('bitcoin', 0.4935),\n",
       "   ('investment', 0.3777),\n",
       "   ('currency', 0.3647),\n",
       "   ('digital', 0.208),\n",
       "   ('decade', 0.2013),\n",
       "   ('predict', 0.1816),\n",
       "   ('fluctuate', 0.1724),\n",
       "   ('risky', 0.1637),\n",
       "   ('become', 0.1026)]},\n",
       " 'positive': {'claim_0': [('investing', 0.5145),\n",
       "   ('cryptocurrency', 0.5131),\n",
       "   ('mining', 0.3553),\n",
       "   ('cryptoblock', 0.3324),\n",
       "   ('beginner', 0.3026),\n",
       "   ('safest', 0.2225),\n",
       "   ('weekly', 0.2006),\n",
       "   ('100x', 0.1952),\n",
       "   ('eth', 0.1782),\n",
       "   ('self', 0.1492)],\n",
       "  'claim_1': [],\n",
       "  'claim_2': [('inflation', 0.627),\n",
       "   ('bitcoin', 0.5107),\n",
       "   ('60000', 0.3594),\n",
       "   ('10years', 0.2868),\n",
       "   ('tremendous', 0.1593),\n",
       "   ('results', 0.1287),\n",
       "   ('human', 0.1256),\n",
       "   ('history', 0.1029),\n",
       "   ('nothing', 0.0745),\n",
       "   ('immune', 0.051)],\n",
       "  'claim_3': [],\n",
       "  'claim_4': [('bitcoin', 0.5642),\n",
       "   ('currency', 0.487),\n",
       "   ('worldwide', 0.3786),\n",
       "   ('economy', 0.3664),\n",
       "   ('merchants', 0.3206),\n",
       "   ('internet', 0.2765),\n",
       "   ('impact', 0.2323),\n",
       "   ('storing', 0.2035),\n",
       "   ('circulation', 0.1695),\n",
       "   ('ecosystem', 0.1512)]},\n",
       " 'negative': {'claim_0': [('cryptocurrencies', 0.5409),\n",
       "   ('greed', 0.3977),\n",
       "   ('investment', 0.315),\n",
       "   ('speculative', 0.2871),\n",
       "   ('value', 0.2547),\n",
       "   ('broke', 0.2498),\n",
       "   ('rise', 0.1899),\n",
       "   ('today', 0.1876),\n",
       "   ('fluctuating', 0.1724),\n",
       "   ('coronavirus', 0.1585)],\n",
       "  'claim_1': [('bitcoin', 0.4239),\n",
       "   ('hacking', 0.3751),\n",
       "   ('investing', 0.3686),\n",
       "   ('risk', 0.3408),\n",
       "   ('fraud', 0.2558),\n",
       "   ('vegas', 0.2425),\n",
       "   ('fdic', 0.2255),\n",
       "   ('regulations', 0.2095),\n",
       "   ('crashes', 0.1413),\n",
       "   ('silly', 0.1405)]}}"
      ]
     },
     "execution_count": 18,
     "metadata": {},
     "output_type": "execute_result"
    }
   ],
   "source": [
    "formated_output"
   ]
  },
  {
   "cell_type": "code",
   "execution_count": 19,
   "metadata": {},
   "outputs": [
    {
     "data": {
      "text/plain": [
       "{'positive': 12, 'neutral': 85, 'negative': 27}"
      ]
     },
     "execution_count": 19,
     "metadata": {},
     "output_type": "execute_result"
    }
   ],
   "source": [
    "support_statistic = {}\n",
    "for stm, clm in sentence_sentiment.items():\n",
    "    if not stm in support_statistic:\n",
    "        support_statistic[stm] = 0\n",
    "    for c in clm:\n",
    "        support_statistic[stm] += len(claimCenter_premise[c])\n",
    "support_statistic"
   ]
  },
  {
   "cell_type": "code",
   "execution_count": 20,
   "metadata": {},
   "outputs": [
    {
     "data": {
      "text/plain": [
       "'0830'"
      ]
     },
     "execution_count": 20,
     "metadata": {},
     "output_type": "execute_result"
    }
   ],
   "source": [
    "from datetime import date\n",
    "today = date.today()\n",
    "d1 = today.strftime(f'%m%d')\n",
    "d1"
   ]
  },
  {
   "cell_type": "code",
   "execution_count": 21,
   "metadata": {},
   "outputs": [],
   "source": [
    "formated_output_path = f'../data/newest_data(rolling update)/claim center and statistics/bitcoin investment/keywords_formatted_{d1}_1.json'\n",
    "# formated_output_path = f'../data/newest_data(rolling update)/claim center and statistics/automos driving/keywords_formatted_{d1}_1.json'\n",
    "with open(formated_output_path, 'w') as f:\n",
    "    json.dump(formated_output, fp=f, indent=4)\n"
   ]
  },
  {
   "cell_type": "code",
   "execution_count": null,
   "metadata": {},
   "outputs": [],
   "source": []
  }
 ],
 "metadata": {
  "kernelspec": {
   "display_name": "Python 3.9.5 ('venv')",
   "language": "python",
   "name": "python3"
  },
  "language_info": {
   "codemirror_mode": {
    "name": "ipython",
    "version": 3
   },
   "file_extension": ".py",
   "mimetype": "text/x-python",
   "name": "python",
   "nbconvert_exporter": "python",
   "pygments_lexer": "ipython3",
   "version": "3.9.5"
  },
  "orig_nbformat": 4,
  "vscode": {
   "interpreter": {
    "hash": "640cace4827df8bb8e1edb3566e4e979a7918609c95fe3eaf671877de41a29fe"
   }
  }
 },
 "nbformat": 4,
 "nbformat_minor": 2
}
