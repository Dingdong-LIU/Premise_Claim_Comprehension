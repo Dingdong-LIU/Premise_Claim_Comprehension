{
 "cells": [
  {
   "cell_type": "markdown",
   "metadata": {},
   "source": [
    "# Process Web Json and Find Center claims\n",
    "\n",
    "* Load Web Json file\n",
    "* Extract claims and premises (data parsing)\n",
    "* Find center claims"
   ]
  },
  {
   "cell_type": "code",
   "execution_count": 1,
   "metadata": {},
   "outputs": [],
   "source": [
    "import json\n",
    "import os"
   ]
  },
  {
   "cell_type": "markdown",
   "metadata": {},
   "source": [
    "## Load web data and extract claims"
   ]
  },
  {
   "cell_type": "code",
   "execution_count": 2,
   "metadata": {},
   "outputs": [],
   "source": [
    "from helper_function import count_valid_posts, get_claims\n",
    "import numpy as np"
   ]
  },
  {
   "cell_type": "code",
   "execution_count": 3,
   "metadata": {},
   "outputs": [
    {
     "data": {
      "text/plain": [
       "(41, 41)"
      ]
     },
     "execution_count": 3,
     "metadata": {},
     "output_type": "execute_result"
    }
   ],
   "source": [
    "# data_file_path = '../data/v3_70/Should-I-invest-in-Bitcoin_with_labels_v2_70.json'\n",
    "# data_file_path = '../data/v3_70/Would-you-get-into-a-self-driving-car.json'\n",
    "data_file_path = '../data/v3_70/auto-driving-aligned.json'\n",
    "data_file_path = '../data/v3_70/bitcoin-invest-aligned.json'\n",
    "with open(data_file_path, 'r') as f:\n",
    "    json_content = json.load(f)\n",
    "count_valid_posts(json_content)\n"
   ]
  },
  {
   "cell_type": "code",
   "execution_count": 4,
   "metadata": {},
   "outputs": [
    {
     "name": "stdout",
     "output_type": "stream",
     "text": [
      "get 75 claims\n"
     ]
    },
    {
     "data": {
      "text/plain": [
       "['The “too late” mindset will ruin your investing\\n\\npsychology and your potential to make enough money to enjoy your life.',\n",
       " 'Bitcoin is extremely weird',\n",
       " 'The worst way to invest as an everyday person is for the short term.',\n",
       " 'The best time to buy bitcoin is when you understand it and see its value.',\n",
       " 'Thinking about the assets you invest in over the long term helps reduce your stress levels',\n",
       " 'If you must invest in it, remember the golden rule of investing - Never invest more than what you’re willing to lose',\n",
       " 'If you absolutely must, no more than 10% of your portfolio must be invested in risky assets',\n",
       " 'Yes, Bitcoin has its pros',\n",
       " 'Yes, you should.',\n",
       " 'to successfully earn off cryptocurrency, it’s all about timing, studying the market if you decide to self trade',\n",
       " 'It’s not too late to invest',\n",
       " 'Bill is a cryptocurrency, or a form of digital currency that uses cryptography for security',\n",
       " 'Bitcoin is like digital gold',\n",
       " 'If you understand the potential impact of Bitcoin, it won’t be hard to understand why investing in bitcoin may be a good idea',\n",
       " 'There is no official Bitcoin price',\n",
       " 'But bitcoin trading is minimalistic',\n",
       " 'Bitcoin’s monetary policy is one of its most important features.',\n",
       " 'Here are some serious risks associated with bitcoin investments.',\n",
       " 'One could argue that gold served a physical world well, we now live in a more digital one',\n",
       " 'Bitcoin is pretty useless. But so is gold.',\n",
       " \"Forget Bitcoin's intrinsic use, no-one ever cared about gold's either, but as more sophisticated investors buy into Bitcoin, which will spur on others, it will entrench itself as digital gold\",\n",
       " 'We continue to feel strong about Bitcoin being the leading indicator for cryptocurrencies',\n",
       " 'It should be used to determine the trend: up, down, neutral',\n",
       " 'This doesn’t mean you should not invest in bitcoin. Instead, let experts handle your investment.',\n",
       " 'if you’re wondering should you invest in Bitcoin, the answer is yes',\n",
       " 'If you have some cash to spare, investing in some cryptocurrency is not a bad idea',\n",
       " 'Venture capitalists have poured tons of money into the Bitcoin ecosystem',\n",
       " 'Through a global transaction network, bitcoins can be sent securely across borders, in any amount, at low costs, as seamlessly as a text message, and without the need for trusted third-parties',\n",
       " 'The bitcoin protocol provides the most secure system to make online payments and with so many payment processing system creating products for the end user, bitcoins are definitely one of the most significant options to proceed online payments',\n",
       " 'The cryptocurrency market has been growing at an exponential pace and making a number of people very rich',\n",
       " 'I would say YES! Bitcoin has been a good thing for me and lots of people i am sure',\n",
       " 'If you are looking to invest in a large-cap crypto, ETH could be a better choice due to it’s necessity as an currency for conducting transactions on the Ethereum network, which is continually growing its user base',\n",
       " 'That’s up to you.',\n",
       " 'It depends what your level of disposable income is, how great your assets are, and what other assets you have invested in',\n",
       " 'It is more of a gamble than an investment',\n",
       " 'One could argue that gold served a physical world well, we now live in a more digital one',\n",
       " 'This is massive',\n",
       " \"Forget Bitcoin's intrinsic use, no-one ever cared about gold's either, but as more sophisticated investors buy into Bitcoin, which will spur on others, it will entrench itself as digital gold\",\n",
       " 'Cryto currency is an extremely high-hazard venture, and CFDs bought on margin are significantly more hazardous.',\n",
       " 'The significant thing is to do your own research and comprehend the dangers',\n",
       " 'The simple answer is Yes.',\n",
       " 'It is unwise not to invest in Bitcoin.',\n",
       " 'It is almost certainly in a bubble.',\n",
       " 'go for it',\n",
       " 'I urge people to please take a look at the following chart of Bitcoin to understand this bubble',\n",
       " 'Try thinking of investing in bitcoin as you would buying a lottery ticket.',\n",
       " 'Keep that in mind, and do your own research based on where you live',\n",
       " 'What makes bitcoins valuable is because bitcoins are scarce and useful',\n",
       " \"If you're wondering whether you should invest in Bitcoin, the short answer is yes.\",\n",
       " 'it also presents a great opportunity for investors who are looking to make quick profits',\n",
       " \"Bitcoin is decentralized, which means it isn't controlled by any single entity like a central bank or government\",\n",
       " 'If you are worried that you missed one of the insane bull run, bubble whatever',\n",
       " 'Invest in Bitcoin, only if you are okay to loss all.',\n",
       " 'Crypto will never be real money.',\n",
       " 'You can see the gains!',\n",
       " 'It’s not too late to invest',\n",
       " 'The crypto scene is full of newbies and fake experts with dangerous advice',\n",
       " 'this is your opportunity to learn from someone with over a decade of real world experience',\n",
       " 'you don’t need to repeat them and learn the hard way',\n",
       " 'Think carefully about why you want to invest in cryptocurrency before you do so.',\n",
       " 'Investing money you can afford to lose is also critical.',\n",
       " 'Buying bitcoin or other cryptocurrencies can be a fun way to explore an experimental new investment. But it’s also true that any investment in cryptocurrency should carry a warning label like cigarettes: “This product may be harmful to the health of your finances. Never buy more than you can afford to lose.',\n",
       " 'One rule of thumb is to invest no more than 10% of your portfolio in individual stocks or risky assets like bitcoin. If you’re new to investing',\n",
       " 'You can invest in bitcoin, because it has the most convenient and rewarding platform',\n",
       " 'I recommend investing on (investments bay, com) from now!',\n",
       " 'Investing in Bitcoin is viable option especially in a view of current decline of the power of Fiat currencies.',\n",
       " 'Bitcoin is extremely volatile, but if you are willing to take the risk, first make sure you understand what you are investing in and have a crypto investment strategy',\n",
       " 'Anyone who bought Bitcoin and held it for five years or more made significant returns on investment',\n",
       " 'Bitcoin makes cross-border payments possible, and also provides an easy way for people to escape failed government monetary policy',\n",
       " 'Bitcoin has continuously proven itself to be the greatest investment of the decade.',\n",
       " 'Bitcoin is a highly risky investment and not fit for everyone.',\n",
       " 'If you have a strong mind to accept the loss, then you may invest your money.',\n",
       " 'If you are willing to take the risk, first make sure you understand what you are investing in and have a crypto investment strategy',\n",
       " 'Yes, you can invest in bitcoin.',\n",
       " 'Not everyone is willing to sacrifice their time and money']"
      ]
     },
     "execution_count": 4,
     "metadata": {},
     "output_type": "execute_result"
    }
   ],
   "source": [
    "claims = get_claims(json_content)\n",
    "print(f\"get {len(claims)} claims\")\n",
    "claims"
   ]
  },
  {
   "cell_type": "markdown",
   "metadata": {},
   "source": [
    "## Sentiment Analysis"
   ]
  },
  {
   "cell_type": "code",
   "execution_count": 5,
   "metadata": {},
   "outputs": [],
   "source": [
    "from transformers import AutoTokenizer, AutoModel, AutoConfig, AutoModelForSequenceClassification\n",
    "import torch\n",
    "import torch.nn.functional as F\n",
    "\n",
    "def preprocess(text):\n",
    "    new_text = []\n",
    "    for t in text.split(\" \"):\n",
    "        t = '@user' if t.startswith('@') and len(t) > 1 else t\n",
    "        t = 'http' if t.startswith('http') else t\n",
    "        new_text.append(t)\n",
    "    return \" \".join(new_text)\n",
    "\n",
    "sentiment_model_path = '../pretrained_models/twitter-xlm-roberta-base-sentiment'\n",
    "sentiment_tokenizer = AutoTokenizer.from_pretrained(sentiment_model_path)\n",
    "sentiment_config = AutoConfig.from_pretrained(sentiment_model_path)\n",
    "sentiment_model = AutoModelForSequenceClassification.from_pretrained(sentiment_model_path)\n"
   ]
  },
  {
   "cell_type": "code",
   "execution_count": 6,
   "metadata": {},
   "outputs": [
    {
     "name": "stdout",
     "output_type": "stream",
     "text": [
      "{0: 'Negative', 1: 'Neutral', 2: 'Positive'}\n"
     ]
    }
   ],
   "source": [
    "## get sentiment score for each sentence\n",
    "\n",
    "# preprocessed_claims = [preprocess(x) for x in claims]\n",
    "preprocessed_claims = claims\n",
    "sentiment_encodings = sentiment_tokenizer(preprocessed_claims, return_tensors='pt', padding=True, truncation=True, max_length=20)\n",
    "with torch.no_grad():\n",
    "    sentiment_output = sentiment_model(**sentiment_encodings)\n",
    "sentiment_scores = sentiment_output.logits\n",
    "sentiment_probability = F.softmax(sentiment_scores, dim=1).numpy()\n",
    "\n",
    "## positive, neutral, negative\n",
    "print(sentiment_config.id2label)"
   ]
  },
  {
   "cell_type": "code",
   "execution_count": 7,
   "metadata": {},
   "outputs": [
    {
     "data": {
      "text/plain": [
       "array([[0.85778093, 0.11825038, 0.02396866],\n",
       "       [0.91171026, 0.07046175, 0.01782792],\n",
       "       [0.86480844, 0.11962213, 0.01556949],\n",
       "       [0.02494248, 0.3977217 , 0.57733583],\n",
       "       [0.03540682, 0.36723804, 0.5973551 ]], dtype=float32)"
      ]
     },
     "execution_count": 7,
     "metadata": {},
     "output_type": "execute_result"
    }
   ],
   "source": [
    "## positive, neutral, negative\n",
    "sentiment_probability[:5]"
   ]
  },
  {
   "cell_type": "markdown",
   "metadata": {},
   "source": [
    "## Get center claims"
   ]
  },
  {
   "cell_type": "code",
   "execution_count": 8,
   "metadata": {},
   "outputs": [],
   "source": [
    "from transformers import AutoTokenizer, AutoModel\n",
    "import torch\n",
    "import torch.nn.functional as F\n",
    "\n",
    "#Mean Pooling - Take attention mask into account for correct averaging\n",
    "def mean_pooling(model_output, attention_mask):\n",
    "    token_embeddings = model_output[0] #First element of model_output contains all token embeddings\n",
    "    input_mask_expanded = attention_mask.unsqueeze(-1).expand(token_embeddings.size()).float()\n",
    "    return torch.sum(token_embeddings * input_mask_expanded, 1) / torch.clamp(input_mask_expanded.sum(1), min=1e-9)"
   ]
  },
  {
   "cell_type": "code",
   "execution_count": 9,
   "metadata": {},
   "outputs": [],
   "source": [
    "# Load model from HuggingFace Hub\n",
    "tokenizer = AutoTokenizer.from_pretrained('../pretrained_models/all-MiniLM-L6-v2')\n",
    "model = AutoModel.from_pretrained('../pretrained_models/all-MiniLM-L6-v2')\n"
   ]
  },
  {
   "cell_type": "code",
   "execution_count": 10,
   "metadata": {},
   "outputs": [],
   "source": [
    "encoded_input = tokenizer(claims, padding=True, truncation=True, return_tensors='pt')\n",
    "with torch.no_grad():\n",
    "    model_output = model(**encoded_input)\n",
    "sentence_embeddings = mean_pooling(model_output, encoded_input['attention_mask'])\n",
    "# Normalization\n",
    "sentence_embeddings = F.normalize(sentence_embeddings, p=2, dim=1).numpy()"
   ]
  },
  {
   "cell_type": "code",
   "execution_count": 11,
   "metadata": {},
   "outputs": [
    {
     "data": {
      "text/plain": [
       "(75, 384)"
      ]
     },
     "execution_count": 11,
     "metadata": {},
     "output_type": "execute_result"
    }
   ],
   "source": [
    "sentence_embeddings = np.array(sentence_embeddings)\n",
    "sentence_embeddings.shape"
   ]
  },
  {
   "cell_type": "code",
   "execution_count": 12,
   "metadata": {},
   "outputs": [],
   "source": [
    "### using PCA method to reduce demension and do visualization\n",
    "from sklearn.decomposition import PCA\n",
    "import matplotlib.pyplot as plt"
   ]
  },
  {
   "cell_type": "code",
   "execution_count": 13,
   "metadata": {},
   "outputs": [
    {
     "name": "stdout",
     "output_type": "stream",
     "text": [
      "Explained variance =  0.22320877015590668\n"
     ]
    },
    {
     "data": {
      "image/png": "[encoded data removed]",
      "text/plain": [
       "<Figure size 432x288 with 1 Axes>"
      ]
     },
     "metadata": {
      "needs_background": "light"
     },
     "output_type": "display_data"
    }
   ],
   "source": [
    "pca = PCA(n_components=2)\n",
    "x_pca = pca.fit_transform(sentence_embeddings)\n",
    "explained_variance = pca.explained_variance_ratio_\n",
    "print(\"Explained variance = \",sum(explained_variance))\n",
    "plt.scatter(x = x_pca.T[0], y=x_pca.T[1])\n",
    "plt.show()"
   ]
  },
  {
   "cell_type": "markdown",
   "metadata": {},
   "source": [
    "## Clustering"
   ]
  },
  {
   "cell_type": "code",
   "execution_count": 14,
   "metadata": {},
   "outputs": [],
   "source": [
    "# clustering\n",
    "from sklearn.cluster import SpectralClustering, AffinityPropagation"
   ]
  },
  {
   "cell_type": "code",
   "execution_count": 15,
   "metadata": {},
   "outputs": [],
   "source": [
    "# use algorithms to reduce demension\n",
    "\n",
    "pca = PCA()\n",
    "sentence_embeddings_distilled = pca.fit_transform(sentence_embeddings)"
   ]
  },
  {
   "cell_type": "code",
   "execution_count": 16,
   "metadata": {},
   "outputs": [
    {
     "data": {
      "text/plain": [
       "(75, 75)"
      ]
     },
     "execution_count": 16,
     "metadata": {},
     "output_type": "execute_result"
    }
   ],
   "source": [
    "# concate with sentiment scores\n",
    "# decided not to use it\n",
    "# sentence_embeddings_distilled = np.concatenate((sentence_embeddings_distilled, sentiment_probability), axis=1)\n",
    "sentence_embeddings_distilled.shape"
   ]
  },
  {
   "cell_type": "code",
   "execution_count": 17,
   "metadata": {},
   "outputs": [
    {
     "name": "stdout",
     "output_type": "stream",
     "text": [
      "Clustered into (14,) clusters with labels [ 0  1  2  3  4  5  6  7  8  9 10 11 12 13]\n"
     ]
    }
   ],
   "source": [
    "cluster_algo = AffinityPropagation(random_state=43)\n",
    "# cluster_algo = SpectralClustering(random_state=43, n_clusters=18)\n",
    "# cluster = cluster_algo.fit(sentence_embeddings)\n",
    "cluster = cluster_algo.fit(sentence_embeddings_distilled)\n",
    "print(\"Clustered into {} clusters with labels {}\".format(\n",
    "    np.unique(cluster.labels_).shape, np.unique(cluster.labels_)))\n"
   ]
  },
  {
   "cell_type": "code",
   "execution_count": 18,
   "metadata": {},
   "outputs": [
    {
     "name": "stdout",
     "output_type": "stream",
     "text": [
      "{0: 4, 1: 4, 2: 9, 3: 1, 4: 1, 5: 2, 6: 3, 7: 9, 8: 14, 9: 1, 10: 2, 11: 7, 12: 4, 13: 14}\n"
     ]
    }
   ],
   "source": [
    "unique, count = np.unique(cluster.labels_, return_counts=True)\n",
    "print(dict(zip(*np.unique(cluster.labels_, return_counts=True))))\n"
   ]
  },
  {
   "cell_type": "code",
   "execution_count": 19,
   "metadata": {},
   "outputs": [
    {
     "data": {
      "text/plain": [
       "{0: ['Yes, you should.',\n",
       "  'That’s up to you.',\n",
       "  'The simple answer is Yes.',\n",
       "  'go for it'],\n",
       " 1: ['The “too late” mindset will ruin your investing\\n\\npsychology and your potential to make enough money to enjoy your life.',\n",
       "  'It’s not too late to invest',\n",
       "  'It is more of a gamble than an investment',\n",
       "  'It’s not too late to invest'],\n",
       " 2: ['Bitcoin is extremely weird',\n",
       "  'Bill is a cryptocurrency, or a form of digital currency that uses cryptography for security',\n",
       "  'Bitcoin is like digital gold',\n",
       "  'There is no official Bitcoin price',\n",
       "  'One could argue that gold served a physical world well, we now live in a more digital one',\n",
       "  'Bitcoin is pretty useless. But so is gold.',\n",
       "  \"Forget Bitcoin's intrinsic use, no-one ever cared about gold's either, but as more sophisticated investors buy into Bitcoin, which will spur on others, it will entrench itself as digital gold\",\n",
       "  'One could argue that gold served a physical world well, we now live in a more digital one',\n",
       "  \"Forget Bitcoin's intrinsic use, no-one ever cared about gold's either, but as more sophisticated investors buy into Bitcoin, which will spur on others, it will entrench itself as digital gold\"],\n",
       " 3: ['It should be used to determine the trend: up, down, neutral'],\n",
       " 4: ['This is massive'],\n",
       " 5: ['The significant thing is to do your own research and comprehend the dangers',\n",
       "  'Keep that in mind, and do your own research based on where you live'],\n",
       " 6: ['It is almost certainly in a bubble.',\n",
       "  'I urge people to please take a look at the following chart of Bitcoin to understand this bubble',\n",
       "  'If you are worried that you missed one of the insane bull run, bubble whatever'],\n",
       " 7: ['Yes, Bitcoin has its pros',\n",
       "  'If you understand the potential impact of Bitcoin, it won’t be hard to understand why investing in bitcoin may be a good idea',\n",
       "  'if you’re wondering should you invest in Bitcoin, the answer is yes',\n",
       "  'I would say YES! Bitcoin has been a good thing for me and lots of people i am sure',\n",
       "  'If you are looking to invest in a large-cap crypto, ETH could be a better choice due to it’s necessity as an currency for conducting transactions on the Ethereum network, which is continually growing its user base',\n",
       "  \"If you're wondering whether you should invest in Bitcoin, the short answer is yes.\",\n",
       "  'it also presents a great opportunity for investors who are looking to make quick profits',\n",
       "  'One rule of thumb is to invest no more than 10% of your portfolio in individual stocks or risky assets like bitcoin. If you’re new to investing',\n",
       "  'Yes, you can invest in bitcoin.'],\n",
       " 8: ['The worst way to invest as an everyday person is for the short term.',\n",
       "  'The best time to buy bitcoin is when you understand it and see its value.',\n",
       "  'Thinking about the assets you invest in over the long term helps reduce your stress levels',\n",
       "  'If you must invest in it, remember the golden rule of investing - Never invest more than what you’re willing to lose',\n",
       "  'This doesn’t mean you should not invest in bitcoin. Instead, let experts handle your investment.',\n",
       "  'It depends what your level of disposable income is, how great your assets are, and what other assets you have invested in',\n",
       "  'Try thinking of investing in bitcoin as you would buying a lottery ticket.',\n",
       "  'Invest in Bitcoin, only if you are okay to loss all.',\n",
       "  'Investing money you can afford to lose is also critical.',\n",
       "  'You can invest in bitcoin, because it has the most convenient and rewarding platform',\n",
       "  'I recommend investing on (investments bay, com) from now!',\n",
       "  'Investing in Bitcoin is viable option especially in a view of current decline of the power of Fiat currencies.',\n",
       "  'Bitcoin is extremely volatile, but if you are willing to take the risk, first make sure you understand what you are investing in and have a crypto investment strategy',\n",
       "  'If you have a strong mind to accept the loss, then you may invest your money.'],\n",
       " 9: ['You can see the gains!'],\n",
       " 10: ['this is your opportunity to learn from someone with over a decade of real world experience',\n",
       "  'you don’t need to repeat them and learn the hard way'],\n",
       " 11: ['to successfully earn off cryptocurrency, it’s all about timing, studying the market if you decide to self trade',\n",
       "  'If you have some cash to spare, investing in some cryptocurrency is not a bad idea',\n",
       "  'The cryptocurrency market has been growing at an exponential pace and making a number of people very rich',\n",
       "  'The crypto scene is full of newbies and fake experts with dangerous advice',\n",
       "  'Think carefully about why you want to invest in cryptocurrency before you do so.',\n",
       "  'Buying bitcoin or other cryptocurrencies can be a fun way to explore an experimental new investment. But it’s also true that any investment in cryptocurrency should carry a warning label like cigarettes: “This product may be harmful to the health of your finances. Never buy more than you can afford to lose.',\n",
       "  'If you are willing to take the risk, first make sure you understand what you are investing in and have a crypto investment strategy'],\n",
       " 12: ['Bitcoin’s monetary policy is one of its most important features.',\n",
       "  'Through a global transaction network, bitcoins can be sent securely across borders, in any amount, at low costs, as seamlessly as a text message, and without the need for trusted third-parties',\n",
       "  'The bitcoin protocol provides the most secure system to make online payments and with so many payment processing system creating products for the end user, bitcoins are definitely one of the most significant options to proceed online payments',\n",
       "  'Bitcoin makes cross-border payments possible, and also provides an easy way for people to escape failed government monetary policy'],\n",
       " 13: ['If you absolutely must, no more than 10% of your portfolio must be invested in risky assets',\n",
       "  'But bitcoin trading is minimalistic',\n",
       "  'Here are some serious risks associated with bitcoin investments.',\n",
       "  'We continue to feel strong about Bitcoin being the leading indicator for cryptocurrencies',\n",
       "  'Venture capitalists have poured tons of money into the Bitcoin ecosystem',\n",
       "  'Cryto currency is an extremely high-hazard venture, and CFDs bought on margin are significantly more hazardous.',\n",
       "  'It is unwise not to invest in Bitcoin.',\n",
       "  'What makes bitcoins valuable is because bitcoins are scarce and useful',\n",
       "  \"Bitcoin is decentralized, which means it isn't controlled by any single entity like a central bank or government\",\n",
       "  'Crypto will never be real money.',\n",
       "  'Anyone who bought Bitcoin and held it for five years or more made significant returns on investment',\n",
       "  'Bitcoin has continuously proven itself to be the greatest investment of the decade.',\n",
       "  'Bitcoin is a highly risky investment and not fit for everyone.',\n",
       "  'Not everyone is willing to sacrifice their time and money']}"
      ]
     },
     "execution_count": 19,
     "metadata": {},
     "output_type": "execute_result"
    }
   ],
   "source": [
    "claim_clusters = {i: [] for i in range(len(np.unique(cluster.labels_)))}\n",
    "for i,label in enumerate(cluster.labels_):\n",
    "    claim_clusters[label].append(claims[i])\n",
    "claim_clusters"
   ]
  },
  {
   "cell_type": "code",
   "execution_count": 20,
   "metadata": {},
   "outputs": [
    {
     "name": "stdout",
     "output_type": "stream",
     "text": [
      "{0: 'Negative', 1: 'Neutral', 2: 'Positive'}\n",
      "0:\tYes, you should.\tPositive [0.07209409 0.3780802  0.5498257 ]\n",
      "1:\tIt’s not too late to invest\tNeutral [0.10517488 0.5444639  0.35036126]\n",
      "2:\tBitcoin is like digital gold\tNeutral [0.0883989  0.76961875 0.14198233]\n",
      "3:\tIt should be used to determine the trend: up, down, neutral\tNeutral [0.08346323 0.8221815  0.09435522]\n",
      "4:\tThis is massive\tPositive [0.28046918 0.14509925 0.57443154]\n",
      "5:\tThe significant thing is to do your own research and comprehend the dangers\tNeutral [0.25025406 0.5776155  0.17213048]\n",
      "6:\tIt is almost certainly in a bubble.\tNegative [0.67768484 0.28068116 0.04163406]\n",
      "7:\tIf you're wondering whether you should invest in Bitcoin, the short answer is yes.\tNeutral [0.05719431 0.72519416 0.21761155]\n",
      "8:\tInvest in Bitcoin, only if you are okay to loss all.\tNeutral [0.12382859 0.6748595  0.20131189]\n",
      "9:\tYou can see the gains!\tPositive [0.03091607 0.18892287 0.780161  ]\n",
      "10:\tthis is your opportunity to learn from someone with over a decade of real world experience\tPositive [0.03502008 0.45218974 0.5127902 ]\n",
      "11:\tThink carefully about why you want to invest in cryptocurrency before you do so.\tNeutral [0.05092219 0.7249863  0.2240915 ]\n",
      "12:\tBitcoin makes cross-border payments possible, and also provides an easy way for people to escape failed government monetary policy\tPositive [0.02561267 0.3179132  0.6564742 ]\n",
      "13:\tBitcoin is a highly risky investment and not fit for everyone.\tNegative [0.89381355 0.09146653 0.01471988]\n"
     ]
    }
   ],
   "source": [
    "claimCenter_polarty = {}\n",
    "center_claims_relation = {}\n",
    "print(sentiment_config.id2label)\n",
    "if 'Yes' in claimCenter_polarty:\n",
    "    claimCenter_polarty['Yes'] = 'Positive'\n",
    "for i,term in enumerate(cluster.cluster_centers_indices_):\n",
    "    center_claims_relation[i] = claims[term]\n",
    "    print(f\"{i}:\\t{claims[term]}\", end='\\t')\n",
    "    polarity_index = np.argmax(sentiment_probability[term])\n",
    "    print(sentiment_config.id2label[polarity_index], sentiment_probability[term])\n",
    "    claimCenter_polarty[claims[term]] = sentiment_config.id2label[polarity_index]\n"
   ]
  },
  {
   "cell_type": "markdown",
   "metadata": {},
   "source": [
    "## Assign center claims"
   ]
  },
  {
   "cell_type": "code",
   "execution_count": 21,
   "metadata": {},
   "outputs": [],
   "source": [
    "count = 0\n",
    "for i in json_content['answers']:\n",
    "    if i:\n",
    "        for j in i['claim']:\n",
    "            claim_center = claims[cluster.cluster_centers_indices_[\n",
    "                cluster.labels_[count]]]\n",
    "            j['claimCenter'] = claim_center\n",
    "            j['claimSentiment'] = claimCenter_polarty[claim_center]\n",
    "            count += 1\n"
   ]
  },
  {
   "cell_type": "code",
   "execution_count": 22,
   "metadata": {},
   "outputs": [
    {
     "data": {
      "text/plain": [
       "'Bitcoin is a highly risky investment and not fit for everyone.'"
      ]
     },
     "execution_count": 22,
     "metadata": {},
     "output_type": "execute_result"
    }
   ],
   "source": [
    "claim_center"
   ]
  },
  {
   "cell_type": "code",
   "execution_count": 23,
   "metadata": {},
   "outputs": [],
   "source": [
    "# output_file_path = '../data/v3_70_filled/Should-I-invest-in-Bitcoin_with_labels_v3_70_filled.json'\n",
    "# output_file_path = '../data/v3_70_filled/Would-you-get-into-a-self-driving-car_v3_70_filled.json'\n",
    "output_file_path = '../data/v3_70_filled/auto-driving-aligned.json'\n",
    "output_file_path = '../data/v3_70_filled/bitcoin-invest-aligned.json'\n",
    "with open(output_file_path, 'w') as f:\n",
    "    json.dump(json_content, fp=f, indent=4, ensure_ascii=False)\n"
   ]
  },
  {
   "cell_type": "code",
   "execution_count": 24,
   "metadata": {},
   "outputs": [],
   "source": [
    "task = \"automos driving\"\n",
    "task = \"bitcoin investment\"\n",
    "with open(f\"../data/newest_data(rolling update)/claim center and statistics/{task}/claim_clusters.json\", 'w') as f:\n",
    "    json.dump(claim_clusters, f, indent=4, ensure_ascii=False)\n",
    "with open(f'../data/newest_data(rolling update)/claim center and statistics/{task}/stance_count.json', 'w') as f:\n",
    "    inv_map = {}\n",
    "    for k, v in claimCenter_polarty.items():\n",
    "        v = v.lower()\n",
    "        inv_map[v] = inv_map.get(v, []) + [k]\n",
    "    json.dump(inv_map,fp=f, indent=4, ensure_ascii=False)\n",
    "with open(f'../data/newest_data(rolling update)/claim center and statistics/{task}/center_claims_relation.json', 'w') as f:\n",
    "    json.dump(center_claims_relation, f, indent=4, ensure_ascii=False)\n"
   ]
  },
  {
   "cell_type": "code",
   "execution_count": null,
   "metadata": {},
   "outputs": [],
   "source": []
  },
  {
   "cell_type": "code",
   "execution_count": null,
   "metadata": {},
   "outputs": [],
   "source": []
  }
 ],
 "metadata": {
  "kernelspec": {
   "display_name": "Python 3.9.5 ('venv')",
   "language": "python",
   "name": "python3"
  },
  "language_info": {
   "codemirror_mode": {
    "name": "ipython",
    "version": 3
   },
   "file_extension": ".py",
   "mimetype": "text/x-python",
   "name": "python",
   "nbconvert_exporter": "python",
   "pygments_lexer": "ipython3",
   "version": "3.9.5"
  },
  "orig_nbformat": 4,
  "vscode": {
   "interpreter": {
    "hash": "640cace4827df8bb8e1edb3566e4e979a7918609c95fe3eaf671877de41a29fe"
   }
  }
 },
 "nbformat": 4,
 "nbformat_minor": 2
}
