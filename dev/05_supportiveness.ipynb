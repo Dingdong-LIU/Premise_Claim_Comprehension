{
 "cells": [
  {
   "cell_type": "code",
   "execution_count": 22,
   "metadata": {},
   "outputs": [],
   "source": [
    "import json"
   ]
  },
  {
   "cell_type": "code",
   "execution_count": 23,
   "metadata": {},
   "outputs": [],
   "source": [
    "# calculate suportiveness for two scenarios\n",
    "\n",
    "topic = 'AD'\n",
    "# topic = 'BI'\n",
    "\n",
    "if topic == 'AD':\n",
    "    center_claims_relation_path = '../data/newest_data(rolling update)/claim center and statistics/automos driving/center_claims_relation.json'\n",
    "    claim_clusters_path = '../data/newest_data(rolling update)/claim center and statistics/automos driving/claim_clusters.json'\n",
    "    output_data_path = '../data/newest_data(rolling update)/claim center and statistics/automos driving/supportiveness.json'\n",
    "    stance_count_path = '../data/newest_data(rolling update)/claim center and statistics/automos driving/stance_count.json'\n",
    "    stance_count_output_path = '../data/newest_data(rolling update)/claim center and statistics/automos driving/stance_proportion.json'\n",
    "elif topic == 'BI':\n",
    "    center_claims_relation_path = '../data/newest_data(rolling update)/claim center and statistics/bitcoin investment/center_claims_relation.json'\n",
    "    claim_clusters_path = '../data/newest_data(rolling update)/claim center and statistics/bitcoin investment/claim_clusters.json'\n",
    "    output_data_path = '../data/newest_data(rolling update)/claim center and statistics/bitcoin investment/supportiveness.json'\n",
    "    stance_count_path = '../data/newest_data(rolling update)/claim center and statistics/bitcoin investment/stance_count.json'\n",
    "    stance_count_output_path = '../data/newest_data(rolling update)/claim center and statistics/bitcoin investment/stance_proportion.json'\n",
    "\n",
    "\n"
   ]
  },
  {
   "cell_type": "code",
   "execution_count": 24,
   "metadata": {},
   "outputs": [
    {
     "data": {
      "text/plain": [
       "[{'text': 'Yes, you would.', 'supportiveness': 0.08536585365853659},\n",
       " {'text': 'the research shows people are amazingly trusting of them',\n",
       "  'supportiveness': 0.024390243902439025},\n",
       " {'text': 'Absolutely. I hate driving, and can’t wait to never have to do it again.',\n",
       "  'supportiveness': 0.14634146341463414},\n",
       " {'text': 'What I mean is, autonomous cars would be great, IF THEY WERE THE ONLY CARS OUT THERE',\n",
       "  'supportiveness': 0.07317073170731707},\n",
       " {'text': 'Yes, I will.', 'supportiveness': 0.06097560975609756},\n",
       " {'text': 'I think that this technology has the potential to be very safe and convenient',\n",
       "  'supportiveness': 0.036585365853658534},\n",
       " {'text': 'Yes, as soon as they work and are available at a reasonable price.',\n",
       "  'supportiveness': 0.04878048780487805},\n",
       " {'text': 'Yes, definitely.', 'supportiveness': 0.08536585365853659},\n",
       " {'text': 'Absolutely not!', 'supportiveness': 0.06097560975609756},\n",
       " {'text': 'Not at the time of answering.',\n",
       "  'supportiveness': 0.04878048780487805},\n",
       " {'text': 'Yes', 'supportiveness': 0.10975609756097561},\n",
       " {'text': 'Yes, I really would like to have a self-driving car',\n",
       "  'supportiveness': 0.21951219512195122}]"
      ]
     },
     "execution_count": 24,
     "metadata": {},
     "output_type": "execute_result"
    }
   ],
   "source": [
    "with open(center_claims_relation_path, 'r') as f:\n",
    "    center_claims_relation = json.load(f)\n",
    "with open(claim_clusters_path, 'r') as f:\n",
    "    claim_clusters = json.load(f)\n",
    "with open(stance_count_path, 'r') as f:\n",
    "    stance_count = json.load(f)\n",
    "\n",
    "output_data = []\n",
    "\n",
    "claims_count = sum([len(x) for _,x in claim_clusters.items()])\n",
    "for i, center_claim in center_claims_relation.items():\n",
    "    term = {\"text\" : center_claim}\n",
    "    sp = len(claim_clusters[i]) / claims_count\n",
    "    term['supportiveness'] = sp\n",
    "    output_data.append(term)\n",
    "\n",
    "output_data\n"
   ]
  },
  {
   "cell_type": "code",
   "execution_count": 25,
   "metadata": {},
   "outputs": [],
   "source": [
    "with open(output_data_path, 'w') as f:\n",
    "    json.dump(output_data, fp=f, indent=4, ensure_ascii=False)\n"
   ]
  },
  {
   "cell_type": "markdown",
   "metadata": {},
   "source": [
    "### Calculate claims count partition"
   ]
  },
  {
   "cell_type": "code",
   "execution_count": 26,
   "metadata": {},
   "outputs": [],
   "source": [
    "stance_support = {}\n",
    "sentence_to_supportiveness = {x['text'] : x['supportiveness'] for x in output_data}\n",
    "for stance,sentence_list in stance_count.items():\n",
    "    score = 0\n",
    "    for sl in sentence_list:\n",
    "        score += sentence_to_supportiveness[sl]\n",
    "    stance_support[stance] = int(score * claims_count)\n"
   ]
  },
  {
   "cell_type": "code",
   "execution_count": 27,
   "metadata": {},
   "outputs": [
    {
     "data": {
      "text/plain": [
       "{'neutral': 49, 'positive': 16, 'negative': 17}"
      ]
     },
     "execution_count": 27,
     "metadata": {},
     "output_type": "execute_result"
    }
   ],
   "source": [
    "stance_support"
   ]
  },
  {
   "cell_type": "code",
   "execution_count": 28,
   "metadata": {},
   "outputs": [],
   "source": [
    "with open(stance_count_output_path, 'w') as f:\n",
    "    json.dump(stance_support, fp=f, indent=4, ensure_ascii=False)"
   ]
  },
  {
   "cell_type": "code",
   "execution_count": null,
   "metadata": {},
   "outputs": [],
   "source": []
  }
 ],
 "metadata": {
  "kernelspec": {
   "display_name": "Python 3.9.5 ('venv')",
   "language": "python",
   "name": "python3"
  },
  "language_info": {
   "codemirror_mode": {
    "name": "ipython",
    "version": 3
   },
   "file_extension": ".py",
   "mimetype": "text/x-python",
   "name": "python",
   "nbconvert_exporter": "python",
   "pygments_lexer": "ipython3",
   "version": "3.9.5"
  },
  "orig_nbformat": 4,
  "vscode": {
   "interpreter": {
    "hash": "640cace4827df8bb8e1edb3566e4e979a7918609c95fe3eaf671877de41a29fe"
   }
  }
 },
 "nbformat": 4,
 "nbformat_minor": 2
}
