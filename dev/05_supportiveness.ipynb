{
 "cells": [
  {
   "cell_type": "code",
   "execution_count": 9,
   "metadata": {},
   "outputs": [],
   "source": [
    "import json"
   ]
  },
  {
   "cell_type": "code",
   "execution_count": 10,
   "metadata": {},
   "outputs": [],
   "source": [
    "# calculate suportiveness for two scenarios\n",
    "\n",
    "topic = 'AD'\n",
    "topic = 'BI'\n",
    "\n",
    "if topic == 'AD':\n",
    "    center_claims_relation_path = '../data/newest_data(rolling update)/claim center and statistics/automos driving/center_claims_relation.json'\n",
    "    claim_clusters_path = '../data/newest_data(rolling update)/claim center and statistics/automos driving/claim_clusters.json'\n",
    "    output_data_path = '../data/newest_data(rolling update)/claim center and statistics/automos driving/supportiveness.json'\n",
    "    stance_count_path = '../data/newest_data(rolling update)/claim center and statistics/automos driving/stance_count.json'\n",
    "    stance_count_output_path = '../data/newest_data(rolling update)/claim center and statistics/automos driving/stance_proportion.json'\n",
    "elif topic == 'BI':\n",
    "    center_claims_relation_path = '../data/newest_data(rolling update)/claim center and statistics/bitcoin investment/center_claims_relation.json'\n",
    "    claim_clusters_path = '../data/newest_data(rolling update)/claim center and statistics/bitcoin investment/claim_clusters.json'\n",
    "    output_data_path = '../data/newest_data(rolling update)/claim center and statistics/bitcoin investment/supportiveness.json'\n",
    "    stance_count_path = '../data/newest_data(rolling update)/claim center and statistics/bitcoin investment/stance_count.json'\n",
    "    stance_count_output_path = '../data/newest_data(rolling update)/claim center and statistics/bitcoin investment/stance_proportion.json'\n",
    "\n",
    "\n"
   ]
  },
  {
   "cell_type": "code",
   "execution_count": 11,
   "metadata": {},
   "outputs": [
    {
     "data": {
      "text/plain": [
       "[{'text': 'Invest in Bitcoin, only if you are okay to loss all.',\n",
       "  'supportiveness': 0.18666666666666668},\n",
       " {'text': 'Bitcoin is a highly risky investment and not fit for everyone.',\n",
       "  'supportiveness': 0.18666666666666668},\n",
       " {'text': 'Bitcoin is like digital gold', 'supportiveness': 0.12},\n",
       " {'text': \"If you're wondering whether you should invest in Bitcoin, the short answer is yes.\",\n",
       "  'supportiveness': 0.12},\n",
       " {'text': 'Think carefully about why you want to invest in cryptocurrency before you do so.',\n",
       "  'supportiveness': 0.09333333333333334},\n",
       " {'text': 'Yes, you should.', 'supportiveness': 0.05333333333333334},\n",
       " {'text': 'It’s not too late to invest',\n",
       "  'supportiveness': 0.05333333333333334},\n",
       " {'text': 'Bitcoin makes cross-border payments possible, and also provides an easy way for people to escape failed government monetary policy',\n",
       "  'supportiveness': 0.05333333333333334},\n",
       " {'text': 'It is almost certainly in a bubble.', 'supportiveness': 0.04},\n",
       " {'text': 'The significant thing is to do your own research and comprehend the dangers',\n",
       "  'supportiveness': 0.02666666666666667},\n",
       " {'text': 'this is your opportunity to learn from someone with over a decade of real world experience',\n",
       "  'supportiveness': 0.02666666666666667},\n",
       " {'text': 'It should be used to determine the trend: up, down, neutral',\n",
       "  'supportiveness': 0.013333333333333334},\n",
       " {'text': 'This is massive', 'supportiveness': 0.013333333333333334},\n",
       " {'text': 'You can see the gains!', 'supportiveness': 0.013333333333333334}]"
      ]
     },
     "execution_count": 11,
     "metadata": {},
     "output_type": "execute_result"
    }
   ],
   "source": [
    "with open(center_claims_relation_path, 'r') as f:\n",
    "    center_claims_relation = json.load(f)\n",
    "with open(claim_clusters_path, 'r') as f:\n",
    "    claim_clusters = json.load(f)\n",
    "with open(stance_count_path, 'r') as f:\n",
    "    stance_count = json.load(f)\n",
    "\n",
    "output_data = []\n",
    "\n",
    "claims_count = sum([len(x) for _,x in claim_clusters.items()])\n",
    "for i, center_claim in center_claims_relation.items():\n",
    "    term = {\"text\" : center_claim}\n",
    "    sp = len(claim_clusters[i]) / claims_count\n",
    "    term['supportiveness'] = sp\n",
    "    output_data.append(term)\n",
    "\n",
    "output_data.sort(key=lambda x:x['supportiveness'], reverse=True)\n",
    "output_data\n"
   ]
  },
  {
   "cell_type": "code",
   "execution_count": 12,
   "metadata": {},
   "outputs": [],
   "source": [
    "with open(output_data_path, 'w') as f:\n",
    "    json.dump(output_data, fp=f, indent=4, ensure_ascii=False)\n"
   ]
  },
  {
   "cell_type": "markdown",
   "metadata": {},
   "source": [
    "### Calculate claims count partition"
   ]
  },
  {
   "cell_type": "code",
   "execution_count": 13,
   "metadata": {},
   "outputs": [],
   "source": [
    "stance_support = {}\n",
    "sentence_to_supportiveness = {x['text'] : x['supportiveness'] for x in output_data}\n",
    "for stance,sentence_list in stance_count.items():\n",
    "    score = 0\n",
    "    for sl in sentence_list:\n",
    "        score += sentence_to_supportiveness[sl]\n",
    "    stance_support[stance] = int(score * claims_count)\n"
   ]
  },
  {
   "cell_type": "code",
   "execution_count": 14,
   "metadata": {},
   "outputs": [
    {
     "data": {
      "text/plain": [
       "{'positive': 12, 'neutral': 46, 'negative': 17}"
      ]
     },
     "execution_count": 14,
     "metadata": {},
     "output_type": "execute_result"
    }
   ],
   "source": [
    "stance_support"
   ]
  },
  {
   "cell_type": "code",
   "execution_count": 15,
   "metadata": {},
   "outputs": [],
   "source": [
    "with open(stance_count_output_path, 'w') as f:\n",
    "    json.dump(stance_support, fp=f, indent=4, ensure_ascii=False)"
   ]
  },
  {
   "cell_type": "code",
   "execution_count": null,
   "metadata": {},
   "outputs": [],
   "source": []
  }
 ],
 "metadata": {
  "kernelspec": {
   "display_name": "Python 3.9.5 ('venv')",
   "language": "python",
   "name": "python3"
  },
  "language_info": {
   "codemirror_mode": {
    "name": "ipython",
    "version": 3
   },
   "file_extension": ".py",
   "mimetype": "text/x-python",
   "name": "python",
   "nbconvert_exporter": "python",
   "pygments_lexer": "ipython3",
   "version": "3.9.5"
  },
  "orig_nbformat": 4,
  "vscode": {
   "interpreter": {
    "hash": "640cace4827df8bb8e1edb3566e4e979a7918609c95fe3eaf671877de41a29fe"
   }
  }
 },
 "nbformat": 4,
 "nbformat_minor": 2
}
