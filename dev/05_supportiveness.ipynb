{
 "cells": [
  {
   "cell_type": "code",
   "execution_count": 1,
   "metadata": {},
   "outputs": [],
   "source": [
    "import json"
   ]
  },
  {
   "cell_type": "code",
   "execution_count": 2,
   "metadata": {},
   "outputs": [],
   "source": [
    "# calculate suportiveness for two scenarios\n",
    "\n",
    "topic = 'AD'\n",
    "topic = 'BI'\n",
    "\n",
    "if topic == 'AD':\n",
    "    center_claims_relation_path = '../data/newest_data(rolling update)/claim center and statistics/automos driving/center_claims_relation.json'\n",
    "    claim_clusters_path = '../data/newest_data(rolling update)/claim center and statistics/automos driving/claim_clusters.json'\n",
    "    output_data_path = '../data/newest_data(rolling update)/claim center and statistics/automos driving/supportiveness.json'\n",
    "elif topic == 'BI':\n",
    "    center_claims_relation_path = '../data/newest_data(rolling update)/claim center and statistics/bitcoin investment/center_claims_relation.json'\n",
    "    claim_clusters_path = '../data/newest_data(rolling update)/claim center and statistics/bitcoin investment/claim_clusters.json'\n",
    "    output_data_path = '../data/newest_data(rolling update)/claim center and statistics/bitcoin investment/supportiveness.json'\n",
    "\n",
    "\n"
   ]
  },
  {
   "cell_type": "code",
   "execution_count": 3,
   "metadata": {},
   "outputs": [
    {
     "data": {
      "text/plain": [
       "[{'text': 'It’s not too late to invest.',\n",
       "  'supportiveness': 0.07692307692307693},\n",
       " {'text': 'Bitcoin is pretty useless. But so is gold.',\n",
       "  'supportiveness': 0.09615384615384616},\n",
       " {'text': 'I would say YES!', 'supportiveness': 0.038461538461538464},\n",
       " {'text': 'That’s up to you.', 'supportiveness': 0.019230769230769232},\n",
       " {'text': 'It depends what your level of disposable income is, how great your assets are, and what other assets you have invested in.',\n",
       "  'supportiveness': 0.038461538461538464},\n",
       " {'text': 'Cryto currency is an extremely high-hazard venture, and CFDs bought on margin are significantly more hazardous.',\n",
       "  'supportiveness': 0.019230769230769232},\n",
       " {'text': 'The significant thing is to do your own research and comprehend the dangers.',\n",
       "  'supportiveness': 0.019230769230769232},\n",
       " {'text': 'It is almost certainly in a bubble.',\n",
       "  'supportiveness': 0.038461538461538464},\n",
       " {'text': 'Invest in Bitcoin, only if you are okay to loss all.',\n",
       "  'supportiveness': 0.21153846153846154},\n",
       " {'text': 'Of course you should', 'supportiveness': 0.057692307692307696},\n",
       " {'text': 'Investing in Bitcoin is viable option especially in a view of current decline of the power of Fiat currencies.',\n",
       "  'supportiveness': 0.21153846153846154},\n",
       " {'text': 'If you are willing to take the risk, first make sure you understand what you are investing in and have a crypto investment strategy',\n",
       "  'supportiveness': 0.17307692307692307}]"
      ]
     },
     "execution_count": 3,
     "metadata": {},
     "output_type": "execute_result"
    }
   ],
   "source": [
    "with open(center_claims_relation_path, 'r') as f:\n",
    "    center_claims_relation = json.load(f)\n",
    "with open(claim_clusters_path, 'r') as f:\n",
    "    claim_clusters = json.load(f)\n",
    "\n",
    "output_data = []\n",
    "\n",
    "claims_count = sum([len(x) for _,x in claim_clusters.items()])\n",
    "for i, center_claim in center_claims_relation.items():\n",
    "    term = {\"text\" : center_claim}\n",
    "    sp = len(claim_clusters[i]) / claims_count\n",
    "    term['supportiveness'] = sp\n",
    "    output_data.append(term)\n",
    "\n",
    "output_data\n"
   ]
  },
  {
   "cell_type": "code",
   "execution_count": 4,
   "metadata": {},
   "outputs": [],
   "source": [
    "with open(output_data_path, 'w') as f:\n",
    "    json.dump(output_data, fp=f, indent=4, ensure_ascii=False)\n"
   ]
  },
  {
   "cell_type": "code",
   "execution_count": null,
   "metadata": {},
   "outputs": [],
   "source": []
  }
 ],
 "metadata": {
  "kernelspec": {
   "display_name": "Python 3.9.5 ('venv')",
   "language": "python",
   "name": "python3"
  },
  "language_info": {
   "codemirror_mode": {
    "name": "ipython",
    "version": 3
   },
   "file_extension": ".py",
   "mimetype": "text/x-python",
   "name": "python",
   "nbconvert_exporter": "python",
   "pygments_lexer": "ipython3",
   "version": "3.9.5"
  },
  "orig_nbformat": 4,
  "vscode": {
   "interpreter": {
    "hash": "640cace4827df8bb8e1edb3566e4e979a7918609c95fe3eaf671877de41a29fe"
   }
  }
 },
 "nbformat": 4,
 "nbformat_minor": 2
}
