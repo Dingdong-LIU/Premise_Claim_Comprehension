{
 "cells": [
  {
   "cell_type": "markdown",
   "metadata": {},
   "source": [
    "# Process Web Json and Find Center claims\n",
    "\n",
    "* Load Web Json file\n",
    "* Extract claims and premises (data parsing)\n",
    "* Find center claims"
   ]
  },
  {
   "cell_type": "code",
   "execution_count": 1,
   "metadata": {},
   "outputs": [],
   "source": [
    "import os\n",
    "import json"
   ]
  },
  {
   "cell_type": "markdown",
   "metadata": {},
   "source": [
    "## Load data and extract premises"
   ]
  },
  {
   "cell_type": "code",
   "execution_count": 2,
   "metadata": {},
   "outputs": [
    {
     "name": "stdout",
     "output_type": "stream",
     "text": [
      "Load posts, (valid, all) = (41, 70)\n"
     ]
    }
   ],
   "source": [
    "from helper_function import count_valid_posts, get_premises\n",
    "import numpy as np\n",
    "\n",
    "with open('v3_70/Should-I-invest-in-Bitcoin_with_labels_v2_70.json', 'r') as f:\n",
    "    x = json.load(f)\n",
    "print(f'Load posts, (valid, all) = {count_valid_posts(x)}')"
   ]
  },
  {
   "cell_type": "code",
   "execution_count": 4,
   "metadata": {},
   "outputs": [
    {
     "name": "stdout",
     "output_type": "stream",
     "text": [
      "get 88 premises\n"
     ]
    }
   ],
   "source": [
    "premises = get_premises(x)\n",
    "print(f\"get {len(premises)} premises\")\n",
    "# premises"
   ]
  },
  {
   "cell_type": "markdown",
   "metadata": {},
   "source": [
    "## Get center premises"
   ]
  },
  {
   "cell_type": "code",
   "execution_count": 5,
   "metadata": {},
   "outputs": [],
   "source": [
    "from transformers import AutoTokenizer, AutoModel\n",
    "import torch\n",
    "import torch.nn.functional as F\n",
    "\n",
    "#Mean Pooling - Take attention mask into account for correct averaging\n",
    "def mean_pooling(model_output, attention_mask):\n",
    "    token_embeddings = model_output[0] #First element of model_output contains all token embeddings\n",
    "    input_mask_expanded = attention_mask.unsqueeze(-1).expand(token_embeddings.size()).float()\n",
    "    return torch.sum(token_embeddings * input_mask_expanded, 1) / torch.clamp(input_mask_expanded.sum(1), min=1e-9)"
   ]
  },
  {
   "cell_type": "code",
   "execution_count": 6,
   "metadata": {},
   "outputs": [],
   "source": [
    "# Load model from huggingface hub\n",
    "tokenizer = AutoTokenizer.from_pretrained('pretrained_models/all-MiniLM-L6-v2')\n",
    "model = AutoModel.from_pretrained('pretrained_models/all-MiniLM-L6-v2')\n"
   ]
  },
  {
   "cell_type": "code",
   "execution_count": 9,
   "metadata": {},
   "outputs": [
    {
     "data": {
      "text/plain": [
       "(88, 384)"
      ]
     },
     "execution_count": 9,
     "metadata": {},
     "output_type": "execute_result"
    }
   ],
   "source": [
    "encoded_input = tokenizer(premises, padding=True, truncation=True, return_tensors='pt')\n",
    "with torch.no_grad():\n",
    "    model_output = model(**encoded_input)\n",
    "sentence_embeddings = mean_pooling(model_output, encoded_input['attention_mask'])\n",
    "#Normaliation\n",
    "sentence_embeddings = F.normalize(sentence_embeddings, p=2, dim=1).numpy()\n",
    "sentence_embeddings = np.array(sentence_embeddings)\n",
    "sentence_embeddings.shape"
   ]
  },
  {
   "cell_type": "code",
   "execution_count": 12,
   "metadata": {},
   "outputs": [
    {
     "name": "stdout",
     "output_type": "stream",
     "text": [
      "Explained variance =  0.17477325\n"
     ]
    },
    {
     "data": {
      "image/png": "[encoded data removed]",
      "text/plain": [
       "<Figure size 432x288 with 1 Axes>"
      ]
     },
     "metadata": {
      "needs_background": "light"
     },
     "output_type": "display_data"
    }
   ],
   "source": [
    "## Demension reduction with PCA\n",
    "from sklearn.decomposition import PCA\n",
    "import matplotlib.pyplot as plt\n",
    "from sklearn.cluster import AffinityPropagation\n",
    "\n",
    "## Visualization\n",
    "pca = PCA(n_components=2)\n",
    "x_pca = pca.fit_transform(sentence_embeddings)\n",
    "print(\"Explained variance = \", np.sum(pca.explained_variance_ratio_))\n",
    "plt.scatter(x_pca.T[0], x_pca.T[1])\n",
    "plt.show()"
   ]
  },
  {
   "cell_type": "code",
   "execution_count": 11,
   "metadata": {},
   "outputs": [],
   "source": [
    "# demension redunction -- serves as denoising\n",
    "\n",
    "pca = PCA()\n",
    "sentence_embeddings_distilled = pca.fit_transform(sentence_embeddings)"
   ]
  },
  {
   "cell_type": "code",
   "execution_count": 13,
   "metadata": {},
   "outputs": [
    {
     "name": "stdout",
     "output_type": "stream",
     "text": [
      "Clustered into (20,) clusters with labels [ 0  1  2  3  4  5  6  7  8  9 10 11 12 13 14 15 16 17 18 19]\n",
      "{0: 1, 1: 9, 2: 2, 3: 4, 4: 2, 5: 2, 6: 3, 7: 1, 8: 5, 9: 18, 10: 10, 11: 14, 12: 7, 13: 2, 14: 1, 15: 3, 16: 1, 17: 1, 18: 1, 19: 1}\n"
     ]
    }
   ],
   "source": [
    "# clustering\n",
    "cluster_algo = AffinityPropagation(random_state=43)\n",
    "\n",
    "cluster = cluster_algo.fit(sentence_embeddings_distilled)\n",
    "print(\"Clustered into {} clusters with labels {}\".format(\n",
    "    np.unique(cluster.labels_).shape, np.unique(cluster.labels_)))\n",
    "\n",
    "# print the clustering distribtion\n",
    "print(dict(zip(*np.unique(cluster.labels_, return_counts=True))))\n"
   ]
  },
  {
   "cell_type": "code",
   "execution_count": 14,
   "metadata": {},
   "outputs": [
    {
     "data": {
      "text/plain": [
       "{0: ['You’re less worried about whether it’s “too late” or “is now a good time” and focused on doing your research and understanding what you’re buying. This phrase sums it up better than I could.'],\n",
       " 1: ['Bitcoin is like digital gold. Just like gold has value because it is scarce, so does bitcoin, the digital store of value that can be sent around the world instantly, securely and for free.',\n",
       "  'The internet made information global and easy to access. A sound, global currency like Bitcoin will have the same impact on finance and the global economy.',\n",
       "  'Limited use. Bitcoin is currently only accepted by few online merchants. Many companies don’t also recognize bitcoin as a legitimate exchange, making it an unfeasible investment vessel. Besides, there’s only a fixed supply of bitcoin — 21 million.',\n",
       "  'Bitcoin is pretty useless. But so is gold.',\n",
       "  'The bitcoin protocol provides the most secure system to make online payments and with so many payment processing system creating products for the end user, bitcoins are definitely one of the most secure options to proceed online payments.',\n",
       "  'Now in simple terms Bitcoin works on demand and supply only. It has no intrinsic value of its own.',\n",
       "  'What makes bitcoins valuable is because bitcoins are scarce and useful.',\n",
       "  \"Bitcoin is decentralized, which means it isn't controlled by any single entity like a central bank or government. This makes it resistant to censorship and tampering, which is a big plus for investors who value sovereignty and freedom.\",\n",
       "  'Bitcoin transactions are instant, unlike the settlement of stock trading orders which could take days or weeks.'],\n",
       " 2: ['Bitcoins can be sent from anywhere in the world to anywhere else in the world. No bank can block payments or close your account. Bitcoin is censorship resistant money.',\n",
       "  'Bitcoins can be sent from anywhere in the world to anywhere else in the world. No bank can block payments or close your account. Bitcoin is censorship-resistant money.'],\n",
       " 3: ['In addition to being scarce, bitcoins are useful.\\n\\nBitcoin provides sound and predictable monetary policy that can be verified by anyone.',\n",
       "  'It’s possible to see when new bitcoins are created, when a transaction is created, or how many bitcoins are in circulation.',\n",
       "  'Bitcoin’s monetary policy is one of its most important features. It’s possible to see when new bitcoins are created, when a transaction is created, or how many bitcoins are in circulation.',\n",
       "  'Bitcoin’s monetary policy is one of its most important features. It’s possible to see when new bitcoins are created when a transaction is created, or how many bitcoins are in circulation.'],\n",
       " 4: ['Little or no regulation. The bitcoin market currently operates with no major regulations. It isn’t taxed and governments have no clear stance on it. As a result, you could stand exposed to fraud and malpractice.',\n",
       "  'As well, there is no guarantee what kinds of regulatory issues may arise with regard to digital currencies such as Bitcoin.'],\n",
       " 5: ['Wallets can be lost. If your hard drive crashes or virus corrupts your wallet file, you lose your bitcoins. You can go from a wealthy to bankrupt investor within seconds with no way to recover.',\n",
       "  'With hard wallet, your Bitcoin is safe from hackers, however if you lose your usb drive, then your Bitcoin balance is gone forever. With soft wallets, you can restore your balance providing you have the private key, but at the same time there is a chance your balance could be stolen if either your wallet or the crypto site hosting your wallet are hacked…'],\n",
       " 6: ['Bitcoin is not likely the cryptocurrency that will deliver 10-fold returns similar to the previous 7 years.\\n\\nThe underlying reason is that Bitcoin futures will cap the upside potential because, for the first time since Bitcoin’s inception, there is two-sided trading in the Bitcoin market.\\n\\nThat’s why forecasters believe that it is very realistic to expect a Bitcoin price of $25,000 as an upside target, assuming the crypto crash is over. Previous all-time highs will be taken out, but we believe Bitcoin will trade within its ‘bullish band’, not higher.',\n",
       "  'The underlying reason is that Bitcoin futures will cap the upside potential because, for the first time since Bitcoin’s inception, there is two-sided trading in the Bitcoin market.',\n",
       "  'Bitcoin halving is planned to occur in March of 2024. By that time, the current Bitcoin bearish market will end.'],\n",
       " 7: ['Even though Ethereum is very slow, many Layer-2s are being built on-top of it that improve its speed and transaction volume. These Layer-2s also need ETH as gas to run their network, which could increase demand for ETH further.'],\n",
       " 8: ['Let’s look to gold as an example currency. There is a limited amount of gold on earth.\\n\\nAs new gold is mined, there is always less and less gold left and it becomes harder and more expensive to find and mine.\\n\\nFor this reason, along with Gold’s millenia-long history as a medium of exchange, it has long been considered a hedge against monetary inflation.',\n",
       "  \"Gold's value comes from its BRAND and scarcity. That brand has taken thousands of years to build.\\n\\nHowever, the world is changing fast - one could argue that gold served a physical world well, we now live in a more digital one. The world does move on - I mean, horses were THE mode of transport for THOUSANDS of years - and that ended pretty abruptly.\\n\\nNow, here's the thing, Bitcoin has gone past a hurdle most of us never thought it would - investment banks are advising their clients to buy it, institutions are buying it, HNW investors are dumping gold and going for it.\\n\\nThis is massive. This is BRAND.\",\n",
       "  'However, the world is changing fast - one could argue that gold served a physical world well, we now live in a more digital one. The world does move on - I mean, horses were THE mode of transport for THOUSANDS of years - and that ended pretty abruptly.',\n",
       "  \"Forget Bitcoin's intrinsic use, no-one ever cared about gold's either, but as more sophisticated investors buy into Bitcoin, which will spur on others, it will entrench itself as digital gold.\",\n",
       "  \"Gold's value comes from its BRAND and scarcity. That brand has taken thousands of years to build.\\n\\nHowever, the world is changing fast - one could argue that gold served a physical world well, we now live in a more digital one. The world does move on - I mean, horses were THE mode of transport for THOUSANDS of years - and that ended pretty abruptly.\\n\\nNow, here's the thing, Bitcoin has gone past a hurdle most of us never thought it would - investment banks are advising their clients to buy it, institutions are buying it, HNW investors are dumping gold and going for it.\\n\\nThis is massive. This is BRAND.\"],\n",
       " 9: ['The trouble with bitcoin is it’s not easy to understand. When people don’t understand a concept they quickly dismiss it and call it a scam so they don’t feel stupid.',\n",
       "  'One of my early investments in bitcoin was short term. I bought a lot and then sold it when the price crashed in 2017. That short-term thinking has meant I’m working a few years longer than I need to.',\n",
       "  'The price of Bitcoin has jumped 18,749,900% since 2010. It made sense to invest in it a few years ago. It was secure, unregulated and cryptocurrency seems like the future. But does it make sense to invest in it now?',\n",
       "  'Threat of online hacking. Hacking is a big threat facing a bitcoin investor. Bitcoin exchanges let you buy and sell your cryptos using a mobile app or website. This leaves them susceptible to hacking and theft of all your investment. And bitcoin held on exchanges isn’t insured by the FDIC.',\n",
       "  \"Now, here's the thing, Bitcoin has gone past a hurdle most of us never thought it would - investment banks are advising their clients to buy it, institutions are buying it, HNW investors are dumping gold and going for it.\",\n",
       "  'Venture capitalists have poured tons of money into the Bitcoin ecosystem. Different services and apps enabling the end user are now available for the non-technical consumers. As more products are build and used in the bitcoin ecosystem, the adoption rate for Bitcoins will increase and its demand with it. This mean you can easily turn a few hundred dollars into a few thousand dollars with enough increase in demands.',\n",
       "  'Over 100,000 merchants worldwide now accept bitcoin. The number of active wallet addresses on the Bitcoin network continues to grow – a key sign of a vibrant and growing financial ecosystem – while the methods for sending, receiving, and storing bitcoins continue to improve at both the consumer and institutional levels.',\n",
       "  'From an investing point of view, Bitcoin is not a great instrument; it is too volatile. Also, the reason that limits the investments in Bitcoin is that the Bitcoin network has no scalability to it.',\n",
       "  'Through all these decades, Bitcoin will rise and fall so many times. This is not very valuable for us as investors.',\n",
       "  'Cryptocurrencies like Bitcoin are risky assets, and generally, should not consist of more than a minority position in any well-diversified portfolio.',\n",
       "  'Historically, Bitcoin has rebounded from 3+ market crashes and has often reached new highs, meaning that buying low could be a good option.',\n",
       "  'Bitcoin is incredibly volatile. While this may scare some people off, it also presents a great opportunity for investors who are looking to make quick profits.',\n",
       "  'Crypto Market is open 24*7. It’s a global market.',\n",
       "  \"Getting rich overnight is a risky endeavor if the only goal is to become wealthy. Not every investment opportunity is a sure bet. Also, if you put a lot of money into an investment that doesn't pan out, that could end up being a costly mistake.\",\n",
       "  'Cryptocurrency can be a high-risk investment because nobody knows whether it will succeed in the long term.',\n",
       "  'No one can know if Bitcoin and other cryptocurrencies will be part of the global financial system for another decade or more.',\n",
       "  'Like any other digital asset, bitcoin is susceptible to hackers and theft.',\n",
       "  'Bitcoin is extremely volatile.'],\n",
       " 10: ['There are also many stories about personal Bitcoin disasters. Read the story of 32-year-old James Howell who accidentally discarded his hard drive with 7,500 Bitcoins; that would be worth $56 million today. Read about Lily Allen turned down a payment of 100,000 Bitcoins for a streaming performance gig on the game second life.',\n",
       "  'If you are hearing about Bitcoin for the first time, simple Google “Bitcoin Success stories” and read about a man who spent $3000 in October 2010 to buy 20,000 at $0.15 each. Come 2013 and Bitcoin made headlines, and the price was $350 (2000 times more than he had spent). He sold 2000 Bitcoin at that price and later sold 2000 more when the price hit $800 to make $2.3 million. He later made many other sell-offs to eventually make $25 million from the initial investment of $3,000',\n",
       "  'Between Sept 2010 to June 2011, Bitcoin raised from $0.1 to $30, that’s 29900% returns in less than one year. That’s the first bull move witnessed in Bitcoin. But just right after that, it crashed back to $2 from $30, that’s 93.3% crash. First crash! Can you Imagine losing more than 90%? That’s the volatility of Bitcoin.',\n",
       "  'Every crash is followed by big bull run. Same happened with Bitcoin during 2011 to 2013. Moving from $2 to $240 in less than 2 years, that’s 11900% returns. Just after that, it crashed 80%, from $240, it went down to $50 in few months.',\n",
       "  'Next spectacular move from $50 to $1250, this happened at a very short span of time, April 2013 to Dec 2013. In 8 months, 2400% returns. Remember this the period where BITCOIN gained huge traction, volumes increased higher. But right after hitting $1000 mark, Bitcoin crashed to $100, more than 90% crash in less than 3 months and continued to trade in a range.',\n",
       "  'BTC came all the way down to $3000, crashed 85% from its peak level and it took 3 years to break the $20,000 barrier. But in year 2020, it broke that resistance level and shot upto $40,000 which was hit recently. Instant 100% rise in less than 3 months.',\n",
       "  'It took more than 3 years for Bitcoin to cross its previous resistance level of $1000. But the moment that barrier was crossed, it instantly shot upto $20,000 in less than a year with intermittent small corrections of -15% to -30%. But after that? Yes, extreme volatility came in again.',\n",
       "  'I strongly believe that by the end of 2020 or 2021 BTC will reach anywhere between 30–50k each & etherum will reach arond 8–10k each. I know that sounds crazy but when I started investing in 2015 and I told my buddies to also do so, but they said I was stupid and would lose all my money. I told them it would reach at least 10k by 2018 but it reached almost 20k a piece. Thats when they decided to buy bitcoin at 14k when they could have bought it at $350 like I did.',\n",
       "  'Anyone who bought Bitcoin and held it for five years or more made significant returns on investment. If you bought Bitcoin in December 2015, you could have bought it for 400 USD; if you sold it five years later for 28,828 USD, that would be a 72x gain!',\n",
       "  'Massive potentials for returns.'],\n",
       " 11: ['Volatility. The price of bitcoin is always rippling back and forth. If you happened to buy bitcoin on December 17, 2017, the price was $20,000. Weeks later, you couldn’t sell your investment for more than $7,051. The bitcoin market is constantly changing. With such an unpredictable market, you can hardly get a good return on your investment. To avoid huge loss, keep a close eye on the market.',\n",
       "  'Cryptocurrency as an investment asset is very young compared to others, so its predictive potential is still unstable.',\n",
       "  'The cryptocurrency market has been growing at an exponential pace and making a number of people very rich.',\n",
       "  'The technology underlying cryptocurrencies – called Blockchain technology – has the potential to change our lives for the better.',\n",
       "  'Bitcoin should be regarded as a highly volatile and risky asset class with a limited trading history. Bitcoin’s value is largely subjective, and it can be detached from other market forces. It is more of a gamble than an investment.',\n",
       "  'One of the proof cryptocurrencies are not ready yet, is the extremely fluctuating value that solely driven by “demand” and “potential”, instead of real-world implementation.',\n",
       "  \"Bitcoin is still in its early days. Yes, it's been around for a while now, but the cryptocurrency market is still relatively new and unregulated. This means there are plenty of opportunities for making money with Bitcoin.\",\n",
       "  'Bitcoin is immune to inflation.',\n",
       "  'Bitcoin is arguably one of the most liquid investment assets.',\n",
       "  'A year ago, cryptos like Bitcoin, Ethereum, and Litecoin rose in value by more than tenfold. But they have lost over 70% of their value over the past several months.',\n",
       "  'For one thing, while Bitcoin may have been around for a lot less time than many of the companies that trade on the stock market today, it has been around for a lot less time than a lot of other digital currencies. The price of equities is known to fluctuate, but Bitcoin has seen even more extreme price movements.',\n",
       "  'The price of Bitcoin is rising because people are not selling it because of its volatile price and future prospects. The people who invested in it promoted it so much that people became enthusiastic about it and everyone wants to buy it but no one wants to sell it. Due to the huge gap between demand and supply, its price has been steadily rising.',\n",
       "  'The value of bitcoin — the world’s first and most popular cryptocurrency — has risen from recent lows but is still trading far below 2017 highs. Like all cryptocurrencies, bitcoin is experimental and subject to much more volatility than many tried-and-true investments, such as stocks, bonds and mutual funds.',\n",
       "  'When people buy virtual currency, they influence people to buy more to raise price. Same is with Bitcoins. Everyone knows Bitcoins is “over valued” .'],\n",
       " 12: ['What bitcoin has done to date is irrelevant. If you haven’t bought any or don’t understand it then that’s not the issue. The issue is whether you are openminded enough to rethink everything you know about money and investing. If you are, there is opportunity.\\n\\nIf your mind is closed, the world is closed, and so are the opportunities.',\n",
       "  \"I have been investing in crypto for a while now, seems to have a similar pattern every time and don't look at the market very often now. Bitcoin is a decentralized digital currency and I would say that to successfully earn off cryptocurrency, it’s all about timing, studying the market if you decide to self trade\",\n",
       "  'Bitcoin is currently at its peak when it comes to value, so if you’re wondering should you invest in Bitcoin, the answer is yes. Considering Bitcoin’s current value, you can easily profit from investment. If you have some cash to spare, investing in some cryptocurrency is not a bad idea.',\n",
       "  \"Try thinking of investing in bitcoin as you would buying a lottery ticket. It only costs a dollar, but you could win big. However, as historically shown with commodities, the odds are good that you're going to lose money compared with a low-cost, diversified investment.\",\n",
       "  'You can invest in bitcoin, because it has the most convenient and rewarding platform.',\n",
       "  \"Don't invest in Bitcoins if you are looking to be millionaire within day . People who are benefitted are one's who have waited for 7–8 year & made constant purchase.\",\n",
       "  'You can make profits with Bitcoin simply by following a DCA strategy, which is a low-risk strategy suitable to most investors.'],\n",
       " 13: ['Bitcoin makes cross border payments possible, and also provides an easy way for people to escape failed government monetary policy.',\n",
       "  'Bitcoin makes cross-border payments possible, and also provides an easy way for people to escape failed government monetary policy.'],\n",
       " 14: ['Shorter time horizon'],\n",
       " 15: [\"The high liquidity makes it a great investment vessel if you're looking for short-term profit.\",\n",
       "  'Increased liquidity',\n",
       "  'Increased volatility'],\n",
       " 16: ['Clear direction for execution'],\n",
       " 17: ['Potential network stall'],\n",
       " 18: ['Shortage of resources'],\n",
       " 19: ['Mismanagement']}"
      ]
     },
     "execution_count": 14,
     "metadata": {},
     "output_type": "execute_result"
    }
   ],
   "source": [
    "premises_clusters = {i:[] for i in range(len(np.unique(cluster.labels_)))}\n",
    "\n",
    "for i, label in enumerate(cluster.labels_):\n",
    "    premises_clusters[label].append(premises[i])\n",
    "\n",
    "premises_clusters"
   ]
  },
  {
   "cell_type": "code",
   "execution_count": 15,
   "metadata": {},
   "outputs": [
    {
     "name": "stdout",
     "output_type": "stream",
     "text": [
      "0: \t You’re less worried about whether it’s “too late” or “is now a good time” and focused on doing your research and understanding what you’re buying. This phrase sums it up better than I could.\n",
      "1: \t Bitcoin is like digital gold. Just like gold has value because it is scarce, so does bitcoin, the digital store of value that can be sent around the world instantly, securely and for free.\n",
      "2: \t Bitcoins can be sent from anywhere in the world to anywhere else in the world. No bank can block payments or close your account. Bitcoin is censorship resistant money.\n",
      "3: \t Bitcoin’s monetary policy is one of its most important features. It’s possible to see when new bitcoins are created, when a transaction is created, or how many bitcoins are in circulation.\n",
      "4: \t Little or no regulation. The bitcoin market currently operates with no major regulations. It isn’t taxed and governments have no clear stance on it. As a result, you could stand exposed to fraud and malpractice.\n",
      "5: \t Wallets can be lost. If your hard drive crashes or virus corrupts your wallet file, you lose your bitcoins. You can go from a wealthy to bankrupt investor within seconds with no way to recover.\n",
      "6: \t Bitcoin is not likely the cryptocurrency that will deliver 10-fold returns similar to the previous 7 years.\n",
      "\n",
      "The underlying reason is that Bitcoin futures will cap the upside potential because, for the first time since Bitcoin’s inception, there is two-sided trading in the Bitcoin market.\n",
      "\n",
      "That’s why forecasters believe that it is very realistic to expect a Bitcoin price of $25,000 as an upside target, assuming the crypto crash is over. Previous all-time highs will be taken out, but we believe Bitcoin will trade within its ‘bullish band’, not higher.\n",
      "7: \t Even though Ethereum is very slow, many Layer-2s are being built on-top of it that improve its speed and transaction volume. These Layer-2s also need ETH as gas to run their network, which could increase demand for ETH further.\n",
      "8: \t Gold's value comes from its BRAND and scarcity. That brand has taken thousands of years to build.\n",
      "\n",
      "However, the world is changing fast - one could argue that gold served a physical world well, we now live in a more digital one. The world does move on - I mean, horses were THE mode of transport for THOUSANDS of years - and that ended pretty abruptly.\n",
      "\n",
      "Now, here's the thing, Bitcoin has gone past a hurdle most of us never thought it would - investment banks are advising their clients to buy it, institutions are buying it, HNW investors are dumping gold and going for it.\n",
      "\n",
      "This is massive. This is BRAND.\n",
      "9: \t Bitcoin is incredibly volatile. While this may scare some people off, it also presents a great opportunity for investors who are looking to make quick profits.\n",
      "10: \t Next spectacular move from $50 to $1250, this happened at a very short span of time, April 2013 to Dec 2013. In 8 months, 2400% returns. Remember this the period where BITCOIN gained huge traction, volumes increased higher. But right after hitting $1000 mark, Bitcoin crashed to $100, more than 90% crash in less than 3 months and continued to trade in a range.\n",
      "11: \t The value of bitcoin — the world’s first and most popular cryptocurrency — has risen from recent lows but is still trading far below 2017 highs. Like all cryptocurrencies, bitcoin is experimental and subject to much more volatility than many tried-and-true investments, such as stocks, bonds and mutual funds.\n",
      "12: \t You can invest in bitcoin, because it has the most convenient and rewarding platform.\n",
      "13: \t Bitcoin makes cross-border payments possible, and also provides an easy way for people to escape failed government monetary policy.\n",
      "14: \t Shorter time horizon\n",
      "15: \t Increased liquidity\n",
      "16: \t Clear direction for execution\n",
      "17: \t Potential network stall\n",
      "18: \t Shortage of resources\n",
      "19: \t Mismanagement\n"
     ]
    }
   ],
   "source": [
    "for i, term in enumerate(cluster.cluster_centers_indices_):\n",
    "    print(f\"{i}: \\t {premises[term]}\")"
   ]
  },
  {
   "cell_type": "code",
   "execution_count": null,
   "metadata": {},
   "outputs": [],
   "source": []
  }
 ],
 "metadata": {
  "kernelspec": {
   "display_name": "Python 3.9.5 ('venv')",
   "language": "python",
   "name": "python3"
  },
  "language_info": {
   "codemirror_mode": {
    "name": "ipython",
    "version": 3
   },
   "file_extension": ".py",
   "mimetype": "text/x-python",
   "name": "python",
   "nbconvert_exporter": "python",
   "pygments_lexer": "ipython3",
   "version": "3.9.5"
  },
  "orig_nbformat": 4,
  "vscode": {
   "interpreter": {
    "hash": "640cace4827df8bb8e1edb3566e4e979a7918609c95fe3eaf671877de41a29fe"
   }
  }
 },
 "nbformat": 4,
 "nbformat_minor": 2
}
