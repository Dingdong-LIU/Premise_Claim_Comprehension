{
 "cells": [
  {
   "cell_type": "markdown",
   "metadata": {},
   "source": [
    "# Process Web Json and Perform Analysis\n",
    "\n",
    "* Load Web Json file\n",
    "* Extract claims and premises (data parsing)\n",
    "* Find center claims and center premises"
   ]
  },
  {
   "cell_type": "code",
   "execution_count": 1,
   "metadata": {},
   "outputs": [],
   "source": [
    "import json\n",
    "import os"
   ]
  },
  {
   "cell_type": "markdown",
   "metadata": {},
   "source": [
    "## Load web data and extract claims"
   ]
  },
  {
   "cell_type": "code",
   "execution_count": 2,
   "metadata": {},
   "outputs": [],
   "source": [
    "from helper_function import count_valid_posts, get_claims\n",
    "import numpy as np"
   ]
  },
  {
   "cell_type": "code",
   "execution_count": 3,
   "metadata": {},
   "outputs": [
    {
     "data": {
      "text/plain": [
       "(41, 70)"
      ]
     },
     "execution_count": 3,
     "metadata": {},
     "output_type": "execute_result"
    }
   ],
   "source": [
    "with open('v2_70/Should-I-invest-in-Bitcoin_with_labels_v2_70.json', 'r') as f:\n",
    "    x = json.load(f)\n",
    "count_valid_posts(x)\n"
   ]
  },
  {
   "cell_type": "code",
   "execution_count": 5,
   "metadata": {},
   "outputs": [
    {
     "name": "stdout",
     "output_type": "stream",
     "text": [
      "get 54 claims\n"
     ]
    },
    {
     "data": {
      "text/plain": [
       "['The “too late” mindset will ruin your investing\\n\\npsychology and your potential to make enough money to enjoy your life.',\n",
       " 'Bitcoin is extremely weird',\n",
       " 'The best time to buy bitcoin is when you understand it and see its value.',\n",
       " 'Thinking about the assets you invest in over the long term helps reduce your stress levels.',\n",
       " 'The worst way to invest as an everyday person is for the short term.',\n",
       " 'If you must invest in it, remember the golden rule of investing - Never invest more than what you’re willing to lose. If you absolutely must, no more than 10% of your portfolio must be invested in risky assets.',\n",
       " 'A “bubble” occurs when the price of a stock or investment is driven up to unsustainably high levels, substantially way more than what that item is worth. This bubble is usually caused by emotions of the masses, and not by logical investing or “looking at fundamentals”. And it always starts off as something that made sense in the beginning.\\n\\nIts exactly the same with Bitcoin.',\n",
       " 'Obvious prospects for physical growth in an industry do not translate into obvious prospects for investors',\n",
       " 'Yes, you should.',\n",
       " 'It’s not too late to invest.',\n",
       " 'If you can, why not?',\n",
       " 'Bitcoins Are Scarce',\n",
       " 'Bitcoins Are Useful',\n",
       " 'Bitcoin’s monetary policy is one of its most important features.',\n",
       " 'Disadvantages of Bitcoin Investments',\n",
       " 'Bitcoin is pretty useless. But so is gold.',\n",
       " 'This doesn’t mean you should not invest in bitcoin. Instead, let experts handle your investment.',\n",
       " 'There are many supporters of Bitcoin who believe that digital currency is the future; like any other asset, the principle of buying low and selling high also applies to Bitcoin.',\n",
       " 'Definitely Bitcoin is a very good investment option as profit is guaranteed and for better risk management',\n",
       " '',\n",
       " 'I would say YES!',\n",
       " 'That’s up to you.',\n",
       " 'If you are looking to invest in a large-cap crypto, ETH could be a better choice due to it’s necessity as an currency for conducting transactions on the Ethereum network, which is continually growing its user base.',\n",
       " 'It depends what your level of disposable income is, how great your assets are, and what other assets you have invested in.',\n",
       " 'It depends what your level of disposable income is, how great your assets are, and what other assets you have invested in.',\n",
       " 'Bitcoin is pretty useless. But so is gold.',\n",
       " 'Cryto currency is an extremely high-hazard venture, and CFDs bought on margin are significantly more hazardous.',\n",
       " 'The significant thing is to do your own research and comprehend the dangers.',\n",
       " 'The simple answer is Yes.',\n",
       " 'It is unwise not to invest in Bitcoin.',\n",
       " 'It is almost certainly in a bubble.',\n",
       " 'This is the best and no other time to invest in bitcoins and double your investments in order to be financially bouyant and have financial freedom in this Covid-19.',\n",
       " \"If you're wondering whether you should invest in Bitcoin, the short answer is yes.\",\n",
       " 'Invest in Bitcoin, only if you are okay to loss all.',\n",
       " 'Crypto will never be real money.',\n",
       " 'it’s not too late to invest.',\n",
       " 'Of course you should',\n",
       " \"Conversely, if you're interested in buying crypto because you believe it has long-term potential, then it doesn't matter when you buy.\",\n",
       " 'Think carefully about why you want to invest in cryptocurrency before you do so.',\n",
       " 'Therefore, if you are a risk-averse investor, you should not consider investing in cryptocurrencies.',\n",
       " 'Investing money you can afford to lose is also critical.',\n",
       " \"Risk is inherent in all investments, and no matter how hard you try, you cannot get around it. However, when you purchase a digital currency like Bitcoin, you're taking on more risk than you would if you put your money into a quality stock.\",\n",
       " 'No,',\n",
       " 'Buying bitcoin or other cryptocurrencies can be a fun way to explore an experimental new investment. But it’s also true that any investment in cryptocurrency should carry a warning label like cigarettes: “This product may be harmful to the health of your finances. Never buy more than you can afford to lose.”',\n",
       " 'You can invest in bitcoin, because it has the most convenient and rewarding platform.',\n",
       " 'I recommend investing on (investments bay, com) from now!',\n",
       " 'Investing in Bitcoin is viable option especially in a view of current decline of the power of Fiat currencies.',\n",
       " 'Bitcoin is extremely volatile, but if you are willing to take the risk, first make sure you understand what you are investing in and have a crypto investment strategy',\n",
       " 'Bitcoin provides a sound and predictable monetary policy that can be verified by anyone.',\n",
       " 'Bitcoin has continuously proven itself to be the greatest investment of the decade.',\n",
       " 'Bitcoin is a highly risky investment and not fit for everyone.',\n",
       " 'If you have a strong mind to accept the loss, then you may invest your money.',\n",
       " 'If you are willing to take the risk, first make sure you understand what you are investing in and have a crypto investment strategy',\n",
       " 'Yes, you can invest in bitcoin. But knowing the right time can be a real case scenario.']"
      ]
     },
     "execution_count": 5,
     "metadata": {},
     "output_type": "execute_result"
    }
   ],
   "source": [
    "claims = get_claims(x)\n",
    "print(f\"get {len(claims)} claims\")\n",
    "claims"
   ]
  },
  {
   "cell_type": "markdown",
   "metadata": {},
   "source": [
    "## Get center claims"
   ]
  },
  {
   "cell_type": "code",
   "execution_count": 6,
   "metadata": {},
   "outputs": [],
   "source": [
    "from transformers import AutoTokenizer, AutoModel\n",
    "import torch\n",
    "import torch.nn.functional as F\n",
    "\n",
    "#Mean Pooling - Take attention mask into account for correct averaging\n",
    "def mean_pooling(model_output, attention_mask):\n",
    "    token_embeddings = model_output[0] #First element of model_output contains all token embeddings\n",
    "    input_mask_expanded = attention_mask.unsqueeze(-1).expand(token_embeddings.size()).float()\n",
    "    return torch.sum(token_embeddings * input_mask_expanded, 1) / torch.clamp(input_mask_expanded.sum(1), min=1e-9)"
   ]
  },
  {
   "cell_type": "code",
   "execution_count": 7,
   "metadata": {},
   "outputs": [],
   "source": [
    "# Load model from HuggingFace Hub\n",
    "tokenizer = AutoTokenizer.from_pretrained(\n",
    "    'pretrained_models/all-MiniLM-L6-v2')\n",
    "model = AutoModel.from_pretrained('pretrained_models/all-MiniLM-L6-v2')\n"
   ]
  },
  {
   "cell_type": "code",
   "execution_count": 8,
   "metadata": {},
   "outputs": [],
   "source": [
    "encoded_input = tokenizer(claims, padding=True, truncation=True, return_tensors='pt')\n",
    "with torch.no_grad():\n",
    "    model_output = model(**encoded_input)\n",
    "sentence_embeddings = mean_pooling(model_output, encoded_input['attention_mask'])\n",
    "# Normalization\n",
    "sentence_embeddings = F.normalize(sentence_embeddings, p=2, dim=1).numpy()"
   ]
  },
  {
   "cell_type": "code",
   "execution_count": 9,
   "metadata": {},
   "outputs": [
    {
     "data": {
      "text/plain": [
       "(54, 384)"
      ]
     },
     "execution_count": 9,
     "metadata": {},
     "output_type": "execute_result"
    }
   ],
   "source": [
    "sentence_embeddings = np.array(sentence_embeddings)\n",
    "sentence_embeddings.shape"
   ]
  },
  {
   "cell_type": "code",
   "execution_count": 10,
   "metadata": {},
   "outputs": [],
   "source": [
    "### using PCA method to reduce demension and do visualization\n",
    "from sklearn.decomposition import PCA\n",
    "import matplotlib.pyplot as plt"
   ]
  },
  {
   "cell_type": "code",
   "execution_count": 27,
   "metadata": {},
   "outputs": [
    {
     "name": "stdout",
     "output_type": "stream",
     "text": [
      "Explained variance =  0.2554304599761963\n"
     ]
    },
    {
     "data": {
      "image/png": "[encoded data removed]",
      "text/plain": [
       "<Figure size 432x288 with 1 Axes>"
      ]
     },
     "metadata": {
      "needs_background": "light"
     },
     "output_type": "display_data"
    }
   ],
   "source": [
    "pca = PCA(n_components=2)\n",
    "x_pca = pca.fit_transform(sentence_embeddings)\n",
    "explained_variance = pca.explained_variance_ratio_\n",
    "print(\"Explained variance = \",sum(explained_variance))\n",
    "plt.scatter(x = x_pca.T[0], y=x_pca.T[1])\n",
    "plt.show()"
   ]
  },
  {
   "cell_type": "code",
   "execution_count": 13,
   "metadata": {},
   "outputs": [],
   "source": [
    "# clustering\n",
    "from sklearn.cluster import SpectralClustering, AffinityPropagation"
   ]
  },
  {
   "cell_type": "code",
   "execution_count": 28,
   "metadata": {},
   "outputs": [],
   "source": [
    "# use algorithms to reduce demension\n",
    "\n",
    "pca = PCA()\n",
    "sentence_embeddings_distilled = pca.fit_transform(sentence_embeddings)"
   ]
  },
  {
   "cell_type": "code",
   "execution_count": 41,
   "metadata": {},
   "outputs": [
    {
     "name": "stdout",
     "output_type": "stream",
     "text": [
      "Clustered into (13,) clusters with labels [ 0  1  2  3  4  5  6  7  8  9 10 11 12]\n"
     ]
    }
   ],
   "source": [
    "cluster_algo = AffinityPropagation(random_state=43)\n",
    "# cluster_algo = SpectralClustering(random_state=43, n_clusters=18)\n",
    "# cluster = cluster_algo.fit(sentence_embeddings)\n",
    "cluster = cluster_algo.fit(sentence_embeddings_distilled)\n",
    "print(\"Clustered into {} clusters with labels {}\".format(\n",
    "    np.unique(cluster.labels_).shape, np.unique(cluster.labels_)))\n"
   ]
  },
  {
   "cell_type": "code",
   "execution_count": 42,
   "metadata": {},
   "outputs": [
    {
     "name": "stdout",
     "output_type": "stream",
     "text": [
      "{0: 2, 1: 5, 2: 2, 3: 2, 4: 1, 5: 2, 6: 1, 7: 1, 8: 11, 9: 4, 10: 3, 11: 11, 12: 9}\n"
     ]
    }
   ],
   "source": [
    "unique, count = np.unique(cluster.labels_, return_counts=True)\n",
    "print(dict(zip(*np.unique(cluster.labels_, return_counts=True))))\n"
   ]
  },
  {
   "cell_type": "code",
   "execution_count": 43,
   "metadata": {},
   "outputs": [
    {
     "data": {
      "text/plain": [
       "{0: ['A “bubble” occurs when the price of a stock or investment is driven up to unsustainably high levels, substantially way more than what that item is worth. This bubble is usually caused by emotions of the masses, and not by logical investing or “looking at fundamentals”. And it always starts off as something that made sense in the beginning.\\n\\nIts exactly the same with Bitcoin.',\n",
       "  'It is almost certainly in a bubble.'],\n",
       " 1: ['Bitcoin is extremely weird',\n",
       "  'Bitcoins Are Scarce',\n",
       "  'Bitcoins Are Useful',\n",
       "  'Bitcoin is pretty useless. But so is gold.',\n",
       "  'Bitcoin is pretty useless. But so is gold.'],\n",
       " 2: ['', 'No,'],\n",
       " 3: ['I would say YES!', 'The simple answer is Yes.'],\n",
       " 4: ['That’s up to you.'],\n",
       " 5: ['It depends what your level of disposable income is, how great your assets are, and what other assets you have invested in.',\n",
       "  'It depends what your level of disposable income is, how great your assets are, and what other assets you have invested in.'],\n",
       " 6: ['Cryto currency is an extremely high-hazard venture, and CFDs bought on margin are significantly more hazardous.'],\n",
       " 7: ['The significant thing is to do your own research and comprehend the dangers.'],\n",
       " 8: ['The best time to buy bitcoin is when you understand it and see its value.',\n",
       "  'Thinking about the assets you invest in over the long term helps reduce your stress levels.',\n",
       "  'The worst way to invest as an everyday person is for the short term.',\n",
       "  'This doesn’t mean you should not invest in bitcoin. Instead, let experts handle your investment.',\n",
       "  'It is unwise not to invest in Bitcoin.',\n",
       "  'This is the best and no other time to invest in bitcoins and double your investments in order to be financially bouyant and have financial freedom in this Covid-19.',\n",
       "  'Invest in Bitcoin, only if you are okay to loss all.',\n",
       "  'Investing money you can afford to lose is also critical.',\n",
       "  'Buying bitcoin or other cryptocurrencies can be a fun way to explore an experimental new investment. But it’s also true that any investment in cryptocurrency should carry a warning label like cigarettes: “This product may be harmful to the health of your finances. Never buy more than you can afford to lose.”',\n",
       "  'You can invest in bitcoin, because it has the most convenient and rewarding platform.',\n",
       "  'If you have a strong mind to accept the loss, then you may invest your money.'],\n",
       " 9: ['The “too late” mindset will ruin your investing\\n\\npsychology and your potential to make enough money to enjoy your life.',\n",
       "  'Obvious prospects for physical growth in an industry do not translate into obvious prospects for investors',\n",
       "  'It’s not too late to invest.',\n",
       "  'it’s not too late to invest.'],\n",
       " 10: ['Yes, you should.', 'If you can, why not?', 'Of course you should'],\n",
       " 11: ['Bitcoin’s monetary policy is one of its most important features.',\n",
       "  'Disadvantages of Bitcoin Investments',\n",
       "  'There are many supporters of Bitcoin who believe that digital currency is the future; like any other asset, the principle of buying low and selling high also applies to Bitcoin.',\n",
       "  'Definitely Bitcoin is a very good investment option as profit is guaranteed and for better risk management',\n",
       "  \"If you're wondering whether you should invest in Bitcoin, the short answer is yes.\",\n",
       "  'Crypto will never be real money.',\n",
       "  'Investing in Bitcoin is viable option especially in a view of current decline of the power of Fiat currencies.',\n",
       "  'Bitcoin provides a sound and predictable monetary policy that can be verified by anyone.',\n",
       "  'Bitcoin has continuously proven itself to be the greatest investment of the decade.',\n",
       "  'Bitcoin is a highly risky investment and not fit for everyone.',\n",
       "  'Yes, you can invest in bitcoin. But knowing the right time can be a real case scenario.'],\n",
       " 12: ['If you must invest in it, remember the golden rule of investing - Never invest more than what you’re willing to lose. If you absolutely must, no more than 10% of your portfolio must be invested in risky assets.',\n",
       "  'If you are looking to invest in a large-cap crypto, ETH could be a better choice due to it’s necessity as an currency for conducting transactions on the Ethereum network, which is continually growing its user base.',\n",
       "  \"Conversely, if you're interested in buying crypto because you believe it has long-term potential, then it doesn't matter when you buy.\",\n",
       "  'Think carefully about why you want to invest in cryptocurrency before you do so.',\n",
       "  'Therefore, if you are a risk-averse investor, you should not consider investing in cryptocurrencies.',\n",
       "  \"Risk is inherent in all investments, and no matter how hard you try, you cannot get around it. However, when you purchase a digital currency like Bitcoin, you're taking on more risk than you would if you put your money into a quality stock.\",\n",
       "  'I recommend investing on (investments bay, com) from now!',\n",
       "  'Bitcoin is extremely volatile, but if you are willing to take the risk, first make sure you understand what you are investing in and have a crypto investment strategy',\n",
       "  'If you are willing to take the risk, first make sure you understand what you are investing in and have a crypto investment strategy']}"
      ]
     },
     "execution_count": 43,
     "metadata": {},
     "output_type": "execute_result"
    }
   ],
   "source": [
    "center_claims = {i: [] for i in range(len(np.unique(cluster.labels_)))}\n",
    "for i,label in enumerate(cluster.labels_):\n",
    "    center_claims[label].append(claims[i])\n",
    "center_claims"
   ]
  },
  {
   "cell_type": "code",
   "execution_count": 45,
   "metadata": {},
   "outputs": [
    {
     "name": "stdout",
     "output_type": "stream",
     "text": [
      "0:\tA “bubble” occurs when the price of a stock or investment is driven up to unsustainably high levels, substantially way more than what that item is worth. This bubble is usually caused by emotions of the masses, and not by logical investing or “looking at fundamentals”. And it always starts off as something that made sense in the beginning.\n",
      "\n",
      "Its exactly the same with Bitcoin.\n",
      "1:\tBitcoin is pretty useless. But so is gold.\n",
      "2:\t\n",
      "3:\tI would say YES!\n",
      "4:\tThat’s up to you.\n",
      "5:\tIt depends what your level of disposable income is, how great your assets are, and what other assets you have invested in.\n",
      "6:\tCryto currency is an extremely high-hazard venture, and CFDs bought on margin are significantly more hazardous.\n",
      "7:\tThe significant thing is to do your own research and comprehend the dangers.\n",
      "8:\tInvest in Bitcoin, only if you are okay to loss all.\n",
      "9:\tit’s not too late to invest.\n",
      "10:\tOf course you should\n",
      "11:\tInvesting in Bitcoin is viable option especially in a view of current decline of the power of Fiat currencies.\n",
      "12:\tIf you are willing to take the risk, first make sure you understand what you are investing in and have a crypto investment strategy\n"
     ]
    }
   ],
   "source": [
    "for i,term in enumerate(cluster.cluster_centers_indices_):\n",
    "    print(f\"{i}:\\t{claims[term]}\")"
   ]
  },
  {
   "cell_type": "code",
   "execution_count": null,
   "metadata": {},
   "outputs": [],
   "source": []
  }
 ],
 "metadata": {
  "interpreter": {
   "hash": "6d8da1c338f017caf088afacccae0a6fafbd40295a42062d30fca54dd53575db"
  },
  "kernelspec": {
   "display_name": "Python 3.10.0 ('venv')",
   "language": "python",
   "name": "python3"
  },
  "language_info": {
   "codemirror_mode": {
    "name": "ipython",
    "version": 3
   },
   "file_extension": ".py",
   "mimetype": "text/x-python",
   "name": "python",
   "nbconvert_exporter": "python",
   "pygments_lexer": "ipython3",
   "version": "3.10.0"
  },
  "orig_nbformat": 4,
  "vscode": {
   "interpreter": {
    "hash": "640cace4827df8bb8e1edb3566e4e979a7918609c95fe3eaf671877de41a29fe"
   }
  }
 },
 "nbformat": 4,
 "nbformat_minor": 2
}
