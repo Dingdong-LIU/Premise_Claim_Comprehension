{
 "cells": [
  {
   "cell_type": "code",
   "execution_count": 1,
   "metadata": {},
   "outputs": [],
   "source": [
    "import glob, json"
   ]
  },
  {
   "cell_type": "code",
   "execution_count": 2,
   "metadata": {},
   "outputs": [
    {
     "name": "stdout",
     "output_type": "stream",
     "text": [
      "Json file for web setup/Would-you-get-into-a-self-driving-car_0820_1.json\n",
      "Json file for web setup/Should-I-invest-in-Bitcoin_0815_1.json\n"
     ]
    }
   ],
   "source": [
    "json_file = glob.glob(pathname='*/*.json')\n",
    "for j_file in json_file:\n",
    "    with open(j_file, 'r', encoding='utf-8') as f:\n",
    "        content = json.load(f)\n",
    "        # content = json.dumps(content).replace(u'u2019', \"'\")\n",
    "    # content_2 = json.dumps(content).replace(\"’\", \"'\")\n",
    "    if 'answers' in content:\n",
    "        content['answers'] = [x for x in content['answers'] if x is not None]\n",
    "    with open(j_file, 'w', encoding='utf-8') as f:\n",
    "        json.dump(content, fp=f, indent=4, ensure_ascii=False)\n",
    "    # with open(j_file, 'r', encoding='utf-8') as f:\n",
    "    #     data = f.read()\n",
    "    #     data = data.replace(u'\\u2019', \"'\")\n",
    "    # with open(j_file, 'w') as f:\n",
    "    #     f.write(data)\n",
    "    print(j_file)\n",
    "    # break\n"
   ]
  },
  {
   "cell_type": "code",
   "execution_count": null,
   "metadata": {},
   "outputs": [],
   "source": [
    "with open('Json file for web setup/Should-I-invest-in-Bitcoin_0811_1.json', 'r', encoding='utf-8') as f:\n",
    "    txt = f.read()\n",
    "txt2 = txt.replace(\"’\", \"'\").replace(\"“\", \"'\").replace(\"”\", \"'\")\n",
    "\n"
   ]
  },
  {
   "cell_type": "code",
   "execution_count": null,
   "metadata": {},
   "outputs": [],
   "source": [
    "print(txt.replace(\"’\", \"'\").replace(\"“\", '\"').replace(\"”\", '\"'))\n"
   ]
  },
  {
   "cell_type": "code",
   "execution_count": 37,
   "metadata": {},
   "outputs": [],
   "source": [
    "txt2 = txt.replace(\"’\", \"'\").replace(\"“\", \"'\").replace(\"”\", \"'\")\n"
   ]
  },
  {
   "cell_type": "code",
   "execution_count": 39,
   "metadata": {},
   "outputs": [],
   "source": [
    "with open('x.json', 'w') as f:\n",
    "    f.write(txt2)"
   ]
  },
  {
   "cell_type": "code",
   "execution_count": null,
   "metadata": {},
   "outputs": [],
   "source": []
  }
 ],
 "metadata": {
  "kernelspec": {
   "display_name": "Python 3.9.5 ('venv')",
   "language": "python",
   "name": "python3"
  },
  "language_info": {
   "codemirror_mode": {
    "name": "ipython",
    "version": 3
   },
   "file_extension": ".py",
   "mimetype": "text/x-python",
   "name": "python",
   "nbconvert_exporter": "python",
   "pygments_lexer": "ipython3",
   "version": "3.9.5"
  },
  "orig_nbformat": 4,
  "vscode": {
   "interpreter": {
    "hash": "640cace4827df8bb8e1edb3566e4e979a7918609c95fe3eaf671877de41a29fe"
   }
  }
 },
 "nbformat": 4,
 "nbformat_minor": 2
}
