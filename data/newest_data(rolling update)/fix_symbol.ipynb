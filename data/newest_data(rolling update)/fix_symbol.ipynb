{
 "cells": [
  {
   "cell_type": "markdown",
   "metadata": {},
   "source": [
    "## Fix symbol & Contruct big json file"
   ]
  },
  {
   "cell_type": "code",
   "execution_count": 1,
   "metadata": {},
   "outputs": [],
   "source": [
    "import glob, json"
   ]
  },
  {
   "cell_type": "code",
   "execution_count": 2,
   "metadata": {},
   "outputs": [
    {
     "name": "stdout",
     "output_type": "stream",
     "text": [
      "Json file for web setup/auto-driving-aligned.json\n",
      "Json file for web setup/bitcoin-invest-aligned.json\n",
      "Json file for web setup/Would-you-get-into-a-self-driving-car_0820_1.json\n",
      "Json file for web setup/Should-I-invest-in-Bitcoin_0815_1.json\n"
     ]
    }
   ],
   "source": [
    "# Remove \"null\" in json files\n",
    "json_file = glob.glob(pathname='*/*.json')\n",
    "for j_file in json_file:\n",
    "    with open(j_file, 'r', encoding='utf-8') as f:\n",
    "        content = json.load(f)\n",
    "        # content = json.dumps(content).replace(u'u2019', \"'\")\n",
    "    # content_2 = json.dumps(content).replace(\"’\", \"'\")\n",
    "    if 'answers' in content:\n",
    "        content['answers'] = [x for x in content['answers'] if x is not None]\n",
    "    with open(j_file, 'w', encoding='utf-8') as f:\n",
    "        json.dump(content, fp=f, indent=4, ensure_ascii=False)\n",
    "    # with open(j_file, 'r', encoding='utf-8') as f:\n",
    "    #     data = f.read()\n",
    "    #     data = data.replace(u'\\u2019', \"'\")\n",
    "    # with open(j_file, 'w') as f:\n",
    "    #     f.write(data)\n",
    "    print(j_file)\n",
    "    # break\n"
   ]
  },
  {
   "cell_type": "markdown",
   "metadata": {},
   "source": [
    "### Construct big Json file"
   ]
  },
  {
   "cell_type": "code",
   "execution_count": 3,
   "metadata": {},
   "outputs": [],
   "source": [
    "import os"
   ]
  },
  {
   "cell_type": "code",
   "execution_count": 12,
   "metadata": {},
   "outputs": [],
   "source": [
    "scenario = {\n",
    "    \"auto-driving\" : {\n",
    "        \"file_name\" : \"car.json\",\n",
    "        \"data_base_dir\" : \"claim center and statistics/automos driving\",\n",
    "        \"web_base_dir\": \"Json file for web setup\",\n",
    "        \"question\": \"Would you get into a self-driving car?\",\n",
    "        \"url\" : \"https://www.quora.com/Would-you-get-into-a-self-driving-car\",\n",
    "    },\n",
    "    \"bitcoin-invest\" : {\n",
    "        \"file_name\" : \"bitcoin.json\",\n",
    "        \"data_base_dir\": \"claim center and statistics/bitcoin investment\",\n",
    "        \"web_base_dir\": \"Json file for web setup\",\n",
    "        \"question\" : \"Should I invest in Bitcoin?\",\n",
    "        \"url\" : \"https://www.quora.com/Should-I-invest-in-Bitcoin\",\n",
    "    }\n",
    "}\n"
   ]
  },
  {
   "cell_type": "code",
   "execution_count": 7,
   "metadata": {},
   "outputs": [],
   "source": [
    "## Calculate and count in big Json file\n",
    "def percentage_and_count(base_dir):\n",
    "    stance_proportion_path = os.path.join(base_dir, 'stance_proportion.json')\n",
    "    with open(stance_proportion_path, 'r') as f:\n",
    "        stance_proportion = json.load(f)\n",
    "    output = {\n",
    "        \"percentage\" : {},\n",
    "        \"count\" : stance_proportion,\n",
    "    }\n",
    "    claims_count = sum(stance_proportion.values())\n",
    "    output[\"percentage\"] = {\n",
    "        k: \"{:.0%}\".format(v/claims_count) for k, v in stance_proportion.items()\n",
    "    }\n",
    "    return output\n",
    "\n",
    "def create_claim_center_dict(base_dir):\n",
    "    stance_count_path = os.path.join(base_dir, 'stance_count.json')\n",
    "    supportiveness_path = os.path.join(base_dir, 'supportiveness.json')\n",
    "\n",
    "    with open(stance_count_path, 'r') as f:\n",
    "        stance_count = json.load(f)\n",
    "    cs_to_st = {j:k for k,v in stance_count.items() for j in v}\n",
    "    with open(supportiveness_path, 'r') as f:\n",
    "        supportiveness = json.load(f)\n",
    "\n",
    "    output = { \"positive\" : [], \"neutral\": [], \"negative\": [] }\n",
    "    for t in supportiveness:\n",
    "        st = cs_to_st[t['text']]\n",
    "        output[st].append(t)\n",
    "    return output"
   ]
  },
  {
   "cell_type": "code",
   "execution_count": 15,
   "metadata": {},
   "outputs": [],
   "source": [
    "for sc, config in scenario.items():\n",
    "    # get answer\n",
    "    answer_data_path = os.path.join(config['web_base_dir'], f\"{sc}-aligned.json\")\n",
    "    with open(answer_data_path, 'r') as f:\n",
    "        answer_data = json.load(f)['answers']\n",
    "    \n",
    "    statistic_data = percentage_and_count(base_dir=config['data_base_dir'])\n",
    "    claim_center_data = create_claim_center_dict(base_dir=config['data_base_dir'])\n",
    "    # combine data\n",
    "    big_json_data = {}\n",
    "    big_json_data['question'] = config['question']\n",
    "    big_json_data['source'] = config['url']\n",
    "    big_json_data.update(statistic_data)\n",
    "    big_json_data['claim_centers'] = claim_center_data\n",
    "    big_json_data['answer'] = answer_data\n",
    "\n",
    "    # save big json data\n",
    "    big_json_data_path = os.path.join('big_json_data', config['file_name'])\n",
    "    with open(big_json_data_path, 'w') as f:\n",
    "        json.dump(big_json_data, fp=f, indent=4, ensure_ascii=False)\n"
   ]
  },
  {
   "cell_type": "code",
   "execution_count": 8,
   "metadata": {},
   "outputs": [
    {
     "data": {
      "text/plain": [
       "{'percentage': {'neutral': '60%', 'positive': '20%', 'negative': '21%'},\n",
       " 'count': {'neutral': 49, 'positive': 16, 'negative': 17}}"
      ]
     },
     "execution_count": 8,
     "metadata": {},
     "output_type": "execute_result"
    }
   ],
   "source": [
    "percentage_and_count(base_dir=scenario['auto-driving']['data_base_dir'])"
   ]
  },
  {
   "cell_type": "code",
   "execution_count": 9,
   "metadata": {},
   "outputs": [
    {
     "data": {
      "text/plain": [
       "{'positive': [{'text': 'What I mean is, autonomous cars would be great, IF THEY WERE THE ONLY CARS OUT THERE',\n",
       "   'supportiveness': 0.07317073170731707},\n",
       "  {'text': 'Yes, I will.', 'supportiveness': 0.06097560975609756},\n",
       "  {'text': 'I think that this technology has the potential to be very safe and convenient',\n",
       "   'supportiveness': 0.036585365853658534},\n",
       "  {'text': 'the research shows people are amazingly trusting of them',\n",
       "   'supportiveness': 0.024390243902439025}],\n",
       " 'neutral': [{'text': 'Yes, I really would like to have a self-driving car',\n",
       "   'supportiveness': 0.21951219512195122},\n",
       "  {'text': 'Yes', 'supportiveness': 0.10975609756097561},\n",
       "  {'text': 'Yes, you would.', 'supportiveness': 0.08536585365853659},\n",
       "  {'text': 'Yes, definitely.', 'supportiveness': 0.08536585365853659},\n",
       "  {'text': 'Yes, as soon as they work and are available at a reasonable price.',\n",
       "   'supportiveness': 0.04878048780487805},\n",
       "  {'text': 'Not at the time of answering.',\n",
       "   'supportiveness': 0.04878048780487805}],\n",
       " 'negative': [{'text': 'Absolutely. I hate driving, and can’t wait to never have to do it again.',\n",
       "   'supportiveness': 0.14634146341463414},\n",
       "  {'text': 'Absolutely not!', 'supportiveness': 0.06097560975609756}]}"
      ]
     },
     "execution_count": 9,
     "metadata": {},
     "output_type": "execute_result"
    }
   ],
   "source": [
    "create_claim_center_dict(base_dir=scenario['auto-driving']['data_base_dir'])\n"
   ]
  },
  {
   "cell_type": "code",
   "execution_count": null,
   "metadata": {},
   "outputs": [],
   "source": []
  }
 ],
 "metadata": {
  "kernelspec": {
   "display_name": "Python 3.9.5 ('venv')",
   "language": "python",
   "name": "python3"
  },
  "language_info": {
   "codemirror_mode": {
    "name": "ipython",
    "version": 3
   },
   "file_extension": ".py",
   "mimetype": "text/x-python",
   "name": "python",
   "nbconvert_exporter": "python",
   "pygments_lexer": "ipython3",
   "version": "3.9.5"
  },
  "orig_nbformat": 4,
  "vscode": {
   "interpreter": {
    "hash": "640cace4827df8bb8e1edb3566e4e979a7918609c95fe3eaf671877de41a29fe"
   }
  }
 },
 "nbformat": 4,
 "nbformat_minor": 2
}
