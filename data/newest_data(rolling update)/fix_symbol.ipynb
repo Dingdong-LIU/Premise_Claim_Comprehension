{
 "cells": [
  {
   "cell_type": "markdown",
   "metadata": {},
   "source": [
    "## Fix symbol & Contruct big json file"
   ]
  },
  {
   "cell_type": "code",
   "execution_count": 1,
   "metadata": {},
   "outputs": [],
   "source": [
    "%load_ext autoreload\n",
    "%autoreload 2"
   ]
  },
  {
   "cell_type": "code",
   "execution_count": 2,
   "metadata": {},
   "outputs": [],
   "source": [
    "import glob, json"
   ]
  },
  {
   "cell_type": "code",
   "execution_count": 3,
   "metadata": {},
   "outputs": [
    {
     "name": "stdout",
     "output_type": "stream",
     "text": [
      "Json file for web setup/auto-driving-aligned.json\n",
      "Json file for web setup/bitcoin-invest-aligned.json\n",
      "Json file for web setup/Would-you-get-into-a-self-driving-car_0820_1.json\n",
      "Json file for web setup/Should-I-invest-in-Bitcoin_0815_1.json\n",
      "big_json_data/car.json\n",
      "big_json_data/bitcoin.json\n"
     ]
    }
   ],
   "source": [
    "# Remove \"null\" in json files\n",
    "json_file = glob.glob(pathname='*/*.json')\n",
    "for j_file in json_file:\n",
    "    with open(j_file, 'r', encoding='utf-8') as f:\n",
    "        content = json.load(f)\n",
    "        # content = json.dumps(content).replace(u'u2019', \"'\")\n",
    "    # content_2 = json.dumps(content).replace(\"’\", \"'\")\n",
    "    if 'answers' in content:\n",
    "        content['answers'] = [x for x in content['answers'] if x is not None]\n",
    "    with open(j_file, 'w', encoding='utf-8') as f:\n",
    "        json.dump(content, fp=f, indent=4, ensure_ascii=False)\n",
    "    # with open(j_file, 'r', encoding='utf-8') as f:\n",
    "    #     data = f.read()\n",
    "    #     data = data.replace(u'\\u2019', \"'\")\n",
    "    # with open(j_file, 'w') as f:\n",
    "    #     f.write(data)\n",
    "    print(j_file)\n",
    "    # break\n"
   ]
  },
  {
   "cell_type": "markdown",
   "metadata": {},
   "source": [
    "### Construct big Json file"
   ]
  },
  {
   "cell_type": "code",
   "execution_count": 4,
   "metadata": {},
   "outputs": [],
   "source": [
    "import os\n",
    "from combine_function import percentage_and_count, create_claim_center_dict, related_questions, get_answers"
   ]
  },
  {
   "cell_type": "code",
   "execution_count": 5,
   "metadata": {},
   "outputs": [],
   "source": [
    "scenario = {\n",
    "    \"auto-driving\" : {\n",
    "        \"file_name\" : \"car.json\",\n",
    "        \"data_base_dir\" : \"claim center and statistics/automos driving\",\n",
    "        \"web_base_dir\": \"Json file for web setup\",\n",
    "        \"question\": \"Would you get into a self-driving car?\",\n",
    "        \"url\" : \"https://www.quora.com/Would-you-get-into-a-self-driving-car\",\n",
    "    },\n",
    "    \"bitcoin-invest\" : {\n",
    "        \"file_name\" : \"bitcoin.json\",\n",
    "        \"data_base_dir\": \"claim center and statistics/bitcoin investment\",\n",
    "        \"web_base_dir\": \"Json file for web setup\",\n",
    "        \"question\" : \"Should I invest in Bitcoin?\",\n",
    "        \"url\" : \"https://www.quora.com/Should-I-invest-in-Bitcoin\",\n",
    "    }\n",
    "}\n"
   ]
  },
  {
   "cell_type": "code",
   "execution_count": 6,
   "metadata": {},
   "outputs": [],
   "source": [
    "for sc, config in scenario.items():\n",
    "    # get answer\n",
    "    # answer_data_path = os.path.join(config['web_base_dir'], f\"{sc}-aligned.json\")\n",
    "    # with open(answer_data_path, 'r') as f:\n",
    "    #     answer_data = json.load(f)['answers']\n",
    "    answer_data = get_answers(base_dir=config['web_base_dir'], task_name=sc)\n",
    "    \n",
    "    statistic_data = percentage_and_count(base_dir=config['data_base_dir'])\n",
    "    claim_center_data = create_claim_center_dict(base_dir=config['data_base_dir'])\n",
    "    # combine data\n",
    "    big_json_data = {}\n",
    "    big_json_data['question'] = config['question']\n",
    "    big_json_data['source'] = config['url']\n",
    "    big_json_data.update(statistic_data)\n",
    "    big_json_data['claim_centers'] = claim_center_data\n",
    "    big_json_data['related_questions'] = related_questions(base_dir='../upvotes', task_name=sc)\n",
    "    big_json_data['answers'] = answer_data\n",
    "\n",
    "    # save big json data\n",
    "    big_json_data_path = os.path.join('big_json_data', config['file_name'])\n",
    "    with open(big_json_data_path, 'w') as f:\n",
    "        json.dump(big_json_data, fp=f, indent=4, ensure_ascii=False)\n"
   ]
  },
  {
   "cell_type": "code",
   "execution_count": 7,
   "metadata": {},
   "outputs": [],
   "source": [
    "## Debug\n",
    "# try:\n",
    "#     get_answers(base_dir=scenario['bitcoin-invest']['web_base_dir'], task_name='bitcoin-invest')\n",
    "# except ValueError as err:\n",
    "#     print(err)\n"
   ]
  },
  {
   "cell_type": "code",
   "execution_count": null,
   "metadata": {},
   "outputs": [],
   "source": []
  }
 ],
 "metadata": {
  "kernelspec": {
   "display_name": "Python 3.9.5 ('venv')",
   "language": "python",
   "name": "python3"
  },
  "language_info": {
   "codemirror_mode": {
    "name": "ipython",
    "version": 3
   },
   "file_extension": ".py",
   "mimetype": "text/x-python",
   "name": "python",
   "nbconvert_exporter": "python",
   "pygments_lexer": "ipython3",
   "version": "3.9.5"
  },
  "orig_nbformat": 4,
  "vscode": {
   "interpreter": {
    "hash": "640cace4827df8bb8e1edb3566e4e979a7918609c95fe3eaf671877de41a29fe"
   }
  }
 },
 "nbformat": 4,
 "nbformat_minor": 2
}
